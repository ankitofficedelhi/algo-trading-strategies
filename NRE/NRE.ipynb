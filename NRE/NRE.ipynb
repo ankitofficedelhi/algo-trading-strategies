{
 "cells": [
  {
   "cell_type": "code",
   "execution_count": 1,
   "id": "b8894266",
   "metadata": {},
   "outputs": [],
   "source": [
    "import pandas as pd\n",
    "from typing import Literal"
   ]
  },
  {
   "cell_type": "code",
   "execution_count": 2,
   "id": "72a5a94e",
   "metadata": {},
   "outputs": [],
   "source": [
    "entry_time = pd.to_datetime(\"2022-01-03 09:20:00\")\n",
    "exit_time = pd.to_datetime(\"2022-01-03 15:25:00\")\n",
    "\n",
    "path_future = \"C:\\\\PICKLE\\\\Nifty Future\"\n",
    "path_options = \"C:\\\\PICKLE\\\\Nifty Options\"\n",
    "fut_path = \"2022-01-04_nifty_future.pkl\"\n",
    "opt_path = \"2022-01-04_nifty.pkl\"\n"
   ]
  },
  {
   "cell_type": "code",
   "execution_count": 3,
   "id": "b730a74f",
   "metadata": {},
   "outputs": [],
   "source": [
    "opt = pd.read_pickle(path_options+\"\\\\\"+opt_path).set_index(\"date_time\")\n",
    "fut = pd.read_pickle(path_future+\"\\\\\"+fut_path).set_index(\"date_time\")\n",
    "opt.index = pd.to_datetime(opt.index)\n",
    "fut.index = pd.to_datetime(fut.index)"
   ]
  },
  {
   "cell_type": "code",
   "execution_count": 18,
   "id": "270100fa",
   "metadata": {},
   "outputs": [
    {
     "data": {
      "text/plain": [
       "np.int64(4)"
      ]
     },
     "execution_count": 18,
     "metadata": {},
     "output_type": "execute_result"
    }
   ],
   "source": [
    "dte_df = pd.read_csv(\"DTE.csv\").set_index(\"Date\")\n",
    "dte_df.index = pd.to_datetime(dte_df.index, format=\"%d-%m-%Y\")\n",
    "dte_df.loc[pd.to_datetime(\"09-01-2017\", dayfirst=True), \"BANKNIFTY\"]"
   ]
  },
  {
   "cell_type": "code",
   "execution_count": 23,
   "id": "452838a1",
   "metadata": {},
   "outputs": [
    {
     "data": {
      "text/plain": [
       "np.int64(5)"
      ]
     },
     "execution_count": 23,
     "metadata": {},
     "output_type": "execute_result"
    }
   ],
   "source": [
    "dte_df[dte_df.index == \"09-01-2017\"][\"BANKNIFTY\"].values[0]"
   ]
  },
  {
   "cell_type": "code",
   "execution_count": 8,
   "id": "a5cfb669",
   "metadata": {},
   "outputs": [
    {
     "data": {
      "application/vnd.microsoft.datawrangler.viewer.v0+json": {
       "columns": [
        {
         "name": "Date",
         "rawType": "object",
         "type": "string"
        },
        {
         "name": "Day",
         "rawType": "object",
         "type": "string"
        },
        {
         "name": "BANKNIFTY",
         "rawType": "int64",
         "type": "integer"
        },
        {
         "name": "NIFTY",
         "rawType": "float64",
         "type": "float"
        },
        {
         "name": "FINNIFTY",
         "rawType": "float64",
         "type": "float"
        },
        {
         "name": "MIDCPNIFTY",
         "rawType": "float64",
         "type": "float"
        },
        {
         "name": "SENSEX",
         "rawType": "float64",
         "type": "float"
        },
        {
         "name": "BANKEX",
         "rawType": "float64",
         "type": "float"
        }
       ],
       "ref": "9b6807ec-0d93-4afc-a317-d2f62285e681",
       "rows": [
        [
         "02-01-2017",
         "Monday",
         "4",
         null,
         null,
         null,
         null,
         null
        ],
        [
         "03-01-2017",
         "Tuesday",
         "3",
         null,
         null,
         null,
         null,
         null
        ],
        [
         "04-01-2017",
         "Wednesday",
         "2",
         null,
         null,
         null,
         null,
         null
        ],
        [
         "05-01-2017",
         "Thursday",
         "1",
         null,
         null,
         null,
         null,
         null
        ],
        [
         "06-01-2017",
         "Friday",
         "5",
         null,
         null,
         null,
         null,
         null
        ],
        [
         "09-01-2017",
         "Monday",
         "4",
         null,
         null,
         null,
         null,
         null
        ],
        [
         "10-01-2017",
         "Tuesday",
         "3",
         null,
         null,
         null,
         null,
         null
        ],
        [
         "11-01-2017",
         "Wednesday",
         "2",
         null,
         null,
         null,
         null,
         null
        ],
        [
         "12-01-2017",
         "Thursday",
         "1",
         null,
         null,
         null,
         null,
         null
        ],
        [
         "13-01-2017",
         "Friday",
         "5",
         null,
         null,
         null,
         null,
         null
        ],
        [
         "16-01-2017",
         "Monday",
         "4",
         null,
         null,
         null,
         null,
         null
        ],
        [
         "17-01-2017",
         "Tuesday",
         "3",
         null,
         null,
         null,
         null,
         null
        ],
        [
         "18-01-2017",
         "Wednesday",
         "2",
         null,
         null,
         null,
         null,
         null
        ],
        [
         "19-01-2017",
         "Thursday",
         "1",
         null,
         null,
         null,
         null,
         null
        ],
        [
         "20-01-2017",
         "Friday",
         "4",
         null,
         null,
         null,
         null,
         null
        ],
        [
         "23-01-2017",
         "Monday",
         "3",
         null,
         null,
         null,
         null,
         null
        ],
        [
         "24-01-2017",
         "Tuesday",
         "2",
         null,
         null,
         null,
         null,
         null
        ],
        [
         "25-01-2017",
         "Wednesday",
         "1",
         null,
         null,
         null,
         null,
         null
        ],
        [
         "27-01-2017",
         "Friday",
         "5",
         null,
         null,
         null,
         null,
         null
        ],
        [
         "30-01-2017",
         "Monday",
         "4",
         null,
         null,
         null,
         null,
         null
        ],
        [
         "31-01-2017",
         "Tuesday",
         "3",
         null,
         null,
         null,
         null,
         null
        ],
        [
         "01-02-2017",
         "Wednesday",
         "2",
         null,
         null,
         null,
         null,
         null
        ],
        [
         "02-02-2017",
         "Thursday",
         "1",
         null,
         null,
         null,
         null,
         null
        ],
        [
         "03-02-2017",
         "Friday",
         "5",
         null,
         null,
         null,
         null,
         null
        ],
        [
         "06-02-2017",
         "Monday",
         "4",
         null,
         null,
         null,
         null,
         null
        ],
        [
         "07-02-2017",
         "Tuesday",
         "3",
         null,
         null,
         null,
         null,
         null
        ],
        [
         "08-02-2017",
         "Wednesday",
         "2",
         null,
         null,
         null,
         null,
         null
        ],
        [
         "09-02-2017",
         "Thursday",
         "1",
         null,
         null,
         null,
         null,
         null
        ],
        [
         "10-02-2017",
         "Friday",
         "5",
         null,
         null,
         null,
         null,
         null
        ],
        [
         "13-02-2017",
         "Monday",
         "4",
         null,
         null,
         null,
         null,
         null
        ],
        [
         "14-02-2017",
         "Tuesday",
         "3",
         null,
         null,
         null,
         null,
         null
        ],
        [
         "15-02-2017",
         "Wednesday",
         "2",
         null,
         null,
         null,
         null,
         null
        ],
        [
         "16-02-2017",
         "Thursday",
         "1",
         null,
         null,
         null,
         null,
         null
        ],
        [
         "17-02-2017",
         "Friday",
         "5",
         null,
         null,
         null,
         null,
         null
        ],
        [
         "20-02-2017",
         "Monday",
         "4",
         null,
         null,
         null,
         null,
         null
        ],
        [
         "21-02-2017",
         "Tuesday",
         "3",
         null,
         null,
         null,
         null,
         null
        ],
        [
         "22-02-2017",
         "Wednesday",
         "2",
         null,
         null,
         null,
         null,
         null
        ],
        [
         "23-02-2017",
         "Thursday",
         "1",
         null,
         null,
         null,
         null,
         null
        ],
        [
         "27-02-2017",
         "Monday",
         "4",
         null,
         null,
         null,
         null,
         null
        ],
        [
         "28-02-2017",
         "Tuesday",
         "3",
         null,
         null,
         null,
         null,
         null
        ],
        [
         "01-03-2017",
         "Wednesday",
         "2",
         null,
         null,
         null,
         null,
         null
        ],
        [
         "02-03-2017",
         "Thursday",
         "1",
         null,
         null,
         null,
         null,
         null
        ],
        [
         "03-03-2017",
         "Friday",
         "5",
         null,
         null,
         null,
         null,
         null
        ],
        [
         "06-03-2017",
         "Monday",
         "4",
         null,
         null,
         null,
         null,
         null
        ],
        [
         "07-03-2017",
         "Tuesday",
         "3",
         null,
         null,
         null,
         null,
         null
        ],
        [
         "08-03-2017",
         "Wednesday",
         "2",
         null,
         null,
         null,
         null,
         null
        ],
        [
         "09-03-2017",
         "Thursday",
         "1",
         null,
         null,
         null,
         null,
         null
        ],
        [
         "10-03-2017",
         "Friday",
         "4",
         null,
         null,
         null,
         null,
         null
        ],
        [
         "14-03-2017",
         "Tuesday",
         "3",
         null,
         null,
         null,
         null,
         null
        ],
        [
         "15-03-2017",
         "Wednesday",
         "2",
         null,
         null,
         null,
         null,
         null
        ]
       ],
       "shape": {
        "columns": 7,
        "rows": 2220
       }
      },
      "text/html": [
       "<div>\n",
       "<style scoped>\n",
       "    .dataframe tbody tr th:only-of-type {\n",
       "        vertical-align: middle;\n",
       "    }\n",
       "\n",
       "    .dataframe tbody tr th {\n",
       "        vertical-align: top;\n",
       "    }\n",
       "\n",
       "    .dataframe thead th {\n",
       "        text-align: right;\n",
       "    }\n",
       "</style>\n",
       "<table border=\"1\" class=\"dataframe\">\n",
       "  <thead>\n",
       "    <tr style=\"text-align: right;\">\n",
       "      <th></th>\n",
       "      <th>Day</th>\n",
       "      <th>BANKNIFTY</th>\n",
       "      <th>NIFTY</th>\n",
       "      <th>FINNIFTY</th>\n",
       "      <th>MIDCPNIFTY</th>\n",
       "      <th>SENSEX</th>\n",
       "      <th>BANKEX</th>\n",
       "    </tr>\n",
       "    <tr>\n",
       "      <th>Date</th>\n",
       "      <th></th>\n",
       "      <th></th>\n",
       "      <th></th>\n",
       "      <th></th>\n",
       "      <th></th>\n",
       "      <th></th>\n",
       "      <th></th>\n",
       "    </tr>\n",
       "  </thead>\n",
       "  <tbody>\n",
       "    <tr>\n",
       "      <th>02-01-2017</th>\n",
       "      <td>Monday</td>\n",
       "      <td>4</td>\n",
       "      <td>NaN</td>\n",
       "      <td>NaN</td>\n",
       "      <td>NaN</td>\n",
       "      <td>NaN</td>\n",
       "      <td>NaN</td>\n",
       "    </tr>\n",
       "    <tr>\n",
       "      <th>03-01-2017</th>\n",
       "      <td>Tuesday</td>\n",
       "      <td>3</td>\n",
       "      <td>NaN</td>\n",
       "      <td>NaN</td>\n",
       "      <td>NaN</td>\n",
       "      <td>NaN</td>\n",
       "      <td>NaN</td>\n",
       "    </tr>\n",
       "    <tr>\n",
       "      <th>04-01-2017</th>\n",
       "      <td>Wednesday</td>\n",
       "      <td>2</td>\n",
       "      <td>NaN</td>\n",
       "      <td>NaN</td>\n",
       "      <td>NaN</td>\n",
       "      <td>NaN</td>\n",
       "      <td>NaN</td>\n",
       "    </tr>\n",
       "    <tr>\n",
       "      <th>05-01-2017</th>\n",
       "      <td>Thursday</td>\n",
       "      <td>1</td>\n",
       "      <td>NaN</td>\n",
       "      <td>NaN</td>\n",
       "      <td>NaN</td>\n",
       "      <td>NaN</td>\n",
       "      <td>NaN</td>\n",
       "    </tr>\n",
       "    <tr>\n",
       "      <th>06-01-2017</th>\n",
       "      <td>Friday</td>\n",
       "      <td>5</td>\n",
       "      <td>NaN</td>\n",
       "      <td>NaN</td>\n",
       "      <td>NaN</td>\n",
       "      <td>NaN</td>\n",
       "      <td>NaN</td>\n",
       "    </tr>\n",
       "    <tr>\n",
       "      <th>...</th>\n",
       "      <td>...</td>\n",
       "      <td>...</td>\n",
       "      <td>...</td>\n",
       "      <td>...</td>\n",
       "      <td>...</td>\n",
       "      <td>...</td>\n",
       "      <td>...</td>\n",
       "    </tr>\n",
       "    <tr>\n",
       "      <th>24-12-2025</th>\n",
       "      <td>Wednesday</td>\n",
       "      <td>1</td>\n",
       "      <td>1.0</td>\n",
       "      <td>1.0</td>\n",
       "      <td>1.0</td>\n",
       "      <td>4.0</td>\n",
       "      <td>4.0</td>\n",
       "    </tr>\n",
       "    <tr>\n",
       "      <th>26-12-2025</th>\n",
       "      <td>Friday</td>\n",
       "      <td>33</td>\n",
       "      <td>5.0</td>\n",
       "      <td>33.0</td>\n",
       "      <td>33.0</td>\n",
       "      <td>3.0</td>\n",
       "      <td>3.0</td>\n",
       "    </tr>\n",
       "    <tr>\n",
       "      <th>29-12-2025</th>\n",
       "      <td>Monday</td>\n",
       "      <td>32</td>\n",
       "      <td>4.0</td>\n",
       "      <td>32.0</td>\n",
       "      <td>32.0</td>\n",
       "      <td>2.0</td>\n",
       "      <td>2.0</td>\n",
       "    </tr>\n",
       "    <tr>\n",
       "      <th>30-12-2025</th>\n",
       "      <td>Tuesday</td>\n",
       "      <td>31</td>\n",
       "      <td>3.0</td>\n",
       "      <td>31.0</td>\n",
       "      <td>31.0</td>\n",
       "      <td>1.0</td>\n",
       "      <td>1.0</td>\n",
       "    </tr>\n",
       "    <tr>\n",
       "      <th>31-12-2025</th>\n",
       "      <td>Wednesday</td>\n",
       "      <td>30</td>\n",
       "      <td>2.0</td>\n",
       "      <td>30.0</td>\n",
       "      <td>30.0</td>\n",
       "      <td>5.0</td>\n",
       "      <td>28.0</td>\n",
       "    </tr>\n",
       "  </tbody>\n",
       "</table>\n",
       "<p>2220 rows × 7 columns</p>\n",
       "</div>"
      ],
      "text/plain": [
       "                  Day  BANKNIFTY  NIFTY  FINNIFTY  MIDCPNIFTY  SENSEX  BANKEX\n",
       "Date                                                                         \n",
       "02-01-2017     Monday          4    NaN       NaN         NaN     NaN     NaN\n",
       "03-01-2017    Tuesday          3    NaN       NaN         NaN     NaN     NaN\n",
       "04-01-2017  Wednesday          2    NaN       NaN         NaN     NaN     NaN\n",
       "05-01-2017   Thursday          1    NaN       NaN         NaN     NaN     NaN\n",
       "06-01-2017     Friday          5    NaN       NaN         NaN     NaN     NaN\n",
       "...               ...        ...    ...       ...         ...     ...     ...\n",
       "24-12-2025  Wednesday          1    1.0       1.0         1.0     4.0     4.0\n",
       "26-12-2025     Friday         33    5.0      33.0        33.0     3.0     3.0\n",
       "29-12-2025     Monday         32    4.0      32.0        32.0     2.0     2.0\n",
       "30-12-2025    Tuesday         31    3.0      31.0        31.0     1.0     1.0\n",
       "31-12-2025  Wednesday         30    2.0      30.0        30.0     5.0    28.0\n",
       "\n",
       "[2220 rows x 7 columns]"
      ]
     },
     "execution_count": 8,
     "metadata": {},
     "output_type": "execute_result"
    }
   ],
   "source": [
    "dte_df"
   ]
  },
  {
   "cell_type": "code",
   "execution_count": 11,
   "id": "e1af7956",
   "metadata": {},
   "outputs": [
    {
     "data": {
      "application/vnd.microsoft.datawrangler.viewer.v0+json": {
       "columns": [
        {
         "name": "date_time",
         "rawType": "datetime64[ns]",
         "type": "datetime"
        },
        {
         "name": "index",
         "rawType": "category",
         "type": "unknown"
        },
        {
         "name": "scrip",
         "rawType": "category",
         "type": "unknown"
        },
        {
         "name": "open",
         "rawType": "float64",
         "type": "float"
        },
        {
         "name": "high",
         "rawType": "float64",
         "type": "float"
        },
        {
         "name": "low",
         "rawType": "float64",
         "type": "float"
        },
        {
         "name": "close",
         "rawType": "float64",
         "type": "float"
        },
        {
         "name": "volume",
         "rawType": "int64",
         "type": "integer"
        },
        {
         "name": "openinterest",
         "rawType": "int64",
         "type": "integer"
        },
        {
         "name": "expiry_date",
         "rawType": "datetime64[ns]",
         "type": "datetime"
        },
        {
         "name": "dte",
         "rawType": "int64",
         "type": "integer"
        }
       ],
       "ref": "b69df46a-294f-4e14-b885-5594755bc359",
       "rows": [
        [
         "2022-01-03 09:15:00",
         "NIFTY",
         "19600CE",
         "0.7",
         "0.7",
         "0.6",
         "0.6",
         "100",
         "245300",
         "2022-01-06 00:00:00",
         "3"
        ],
        [
         "2022-01-03 09:15:00",
         "NIFTY",
         "19000CE",
         "0.8",
         "1.0",
         "0.65",
         "0.75",
         "5550",
         "491450",
         "2022-01-06 00:00:00",
         "3"
        ],
        [
         "2022-01-03 09:15:00",
         "NIFTY",
         "19200CE",
         "0.8",
         "0.8",
         "0.75",
         "0.75",
         "250",
         "15900",
         "2022-01-06 00:00:00",
         "3"
        ],
        [
         "2022-01-03 09:15:00",
         "NIFTY",
         "19500CE",
         "0.5",
         "0.75",
         "0.5",
         "0.75",
         "32250",
         "279750",
         "2022-01-06 00:00:00",
         "3"
        ],
        [
         "2022-01-03 09:15:00",
         "NIFTY",
         "19350CE",
         "0.8",
         "0.8",
         "0.8",
         "0.8",
         "50",
         "1650",
         "2022-01-06 00:00:00",
         "3"
        ]
       ],
       "shape": {
        "columns": 10,
        "rows": 5
       }
      },
      "text/html": [
       "<div>\n",
       "<style scoped>\n",
       "    .dataframe tbody tr th:only-of-type {\n",
       "        vertical-align: middle;\n",
       "    }\n",
       "\n",
       "    .dataframe tbody tr th {\n",
       "        vertical-align: top;\n",
       "    }\n",
       "\n",
       "    .dataframe thead th {\n",
       "        text-align: right;\n",
       "    }\n",
       "</style>\n",
       "<table border=\"1\" class=\"dataframe\">\n",
       "  <thead>\n",
       "    <tr style=\"text-align: right;\">\n",
       "      <th></th>\n",
       "      <th>index</th>\n",
       "      <th>scrip</th>\n",
       "      <th>open</th>\n",
       "      <th>high</th>\n",
       "      <th>low</th>\n",
       "      <th>close</th>\n",
       "      <th>volume</th>\n",
       "      <th>openinterest</th>\n",
       "      <th>expiry_date</th>\n",
       "      <th>dte</th>\n",
       "    </tr>\n",
       "    <tr>\n",
       "      <th>date_time</th>\n",
       "      <th></th>\n",
       "      <th></th>\n",
       "      <th></th>\n",
       "      <th></th>\n",
       "      <th></th>\n",
       "      <th></th>\n",
       "      <th></th>\n",
       "      <th></th>\n",
       "      <th></th>\n",
       "      <th></th>\n",
       "    </tr>\n",
       "  </thead>\n",
       "  <tbody>\n",
       "    <tr>\n",
       "      <th>2022-01-03 09:15:00</th>\n",
       "      <td>NIFTY</td>\n",
       "      <td>19600CE</td>\n",
       "      <td>0.7</td>\n",
       "      <td>0.70</td>\n",
       "      <td>0.60</td>\n",
       "      <td>0.60</td>\n",
       "      <td>100</td>\n",
       "      <td>245300</td>\n",
       "      <td>2022-01-06</td>\n",
       "      <td>3</td>\n",
       "    </tr>\n",
       "    <tr>\n",
       "      <th>2022-01-03 09:15:00</th>\n",
       "      <td>NIFTY</td>\n",
       "      <td>19000CE</td>\n",
       "      <td>0.8</td>\n",
       "      <td>1.00</td>\n",
       "      <td>0.65</td>\n",
       "      <td>0.75</td>\n",
       "      <td>5550</td>\n",
       "      <td>491450</td>\n",
       "      <td>2022-01-06</td>\n",
       "      <td>3</td>\n",
       "    </tr>\n",
       "    <tr>\n",
       "      <th>2022-01-03 09:15:00</th>\n",
       "      <td>NIFTY</td>\n",
       "      <td>19200CE</td>\n",
       "      <td>0.8</td>\n",
       "      <td>0.80</td>\n",
       "      <td>0.75</td>\n",
       "      <td>0.75</td>\n",
       "      <td>250</td>\n",
       "      <td>15900</td>\n",
       "      <td>2022-01-06</td>\n",
       "      <td>3</td>\n",
       "    </tr>\n",
       "    <tr>\n",
       "      <th>2022-01-03 09:15:00</th>\n",
       "      <td>NIFTY</td>\n",
       "      <td>19500CE</td>\n",
       "      <td>0.5</td>\n",
       "      <td>0.75</td>\n",
       "      <td>0.50</td>\n",
       "      <td>0.75</td>\n",
       "      <td>32250</td>\n",
       "      <td>279750</td>\n",
       "      <td>2022-01-06</td>\n",
       "      <td>3</td>\n",
       "    </tr>\n",
       "    <tr>\n",
       "      <th>2022-01-03 09:15:00</th>\n",
       "      <td>NIFTY</td>\n",
       "      <td>19350CE</td>\n",
       "      <td>0.8</td>\n",
       "      <td>0.80</td>\n",
       "      <td>0.80</td>\n",
       "      <td>0.80</td>\n",
       "      <td>50</td>\n",
       "      <td>1650</td>\n",
       "      <td>2022-01-06</td>\n",
       "      <td>3</td>\n",
       "    </tr>\n",
       "  </tbody>\n",
       "</table>\n",
       "</div>"
      ],
      "text/plain": [
       "                     index    scrip  open  high   low  close  volume  \\\n",
       "date_time                                                              \n",
       "2022-01-03 09:15:00  NIFTY  19600CE   0.7  0.70  0.60   0.60     100   \n",
       "2022-01-03 09:15:00  NIFTY  19000CE   0.8  1.00  0.65   0.75    5550   \n",
       "2022-01-03 09:15:00  NIFTY  19200CE   0.8  0.80  0.75   0.75     250   \n",
       "2022-01-03 09:15:00  NIFTY  19500CE   0.5  0.75  0.50   0.75   32250   \n",
       "2022-01-03 09:15:00  NIFTY  19350CE   0.8  0.80  0.80   0.80      50   \n",
       "\n",
       "                     openinterest expiry_date  dte  \n",
       "date_time                                           \n",
       "2022-01-03 09:15:00        245300  2022-01-06    3  \n",
       "2022-01-03 09:15:00        491450  2022-01-06    3  \n",
       "2022-01-03 09:15:00         15900  2022-01-06    3  \n",
       "2022-01-03 09:15:00        279750  2022-01-06    3  \n",
       "2022-01-03 09:15:00          1650  2022-01-06    3  "
      ]
     },
     "execution_count": 11,
     "metadata": {},
     "output_type": "execute_result"
    }
   ],
   "source": [
    "opt.head()"
   ]
  },
  {
   "cell_type": "code",
   "execution_count": 14,
   "id": "35e2230f",
   "metadata": {},
   "outputs": [
    {
     "data": {
      "application/vnd.microsoft.datawrangler.viewer.v0+json": {
       "columns": [
        {
         "name": "date_time",
         "rawType": "datetime64[ns]",
         "type": "datetime"
        },
        {
         "name": "index",
         "rawType": "category",
         "type": "unknown"
        },
        {
         "name": "scrip",
         "rawType": "category",
         "type": "unknown"
        },
        {
         "name": "open",
         "rawType": "float64",
         "type": "float"
        },
        {
         "name": "high",
         "rawType": "float64",
         "type": "float"
        },
        {
         "name": "low",
         "rawType": "float64",
         "type": "float"
        },
        {
         "name": "close",
         "rawType": "float64",
         "type": "float"
        },
        {
         "name": "volume",
         "rawType": "int64",
         "type": "integer"
        },
        {
         "name": "openinterest",
         "rawType": "int64",
         "type": "integer"
        },
        {
         "name": "expiry_date",
         "rawType": "datetime64[ns]",
         "type": "datetime"
        },
        {
         "name": "dte",
         "rawType": "int64",
         "type": "integer"
        }
       ],
       "ref": "6ca147e3-3481-426d-8969-388e84b8b988",
       "rows": [
        [
         "2022-01-04 09:15:00",
         "NIFTY",
         "19600CE",
         "0.5",
         "0.5",
         "0.35",
         "0.4",
         "9600",
         "253100",
         "2022-01-06 00:00:00",
         "2"
        ],
        [
         "2022-01-04 09:15:00",
         "NIFTY",
         "19500CE",
         "0.5",
         "0.5",
         "0.45",
         "0.5",
         "9400",
         "342850",
         "2022-01-06 00:00:00",
         "2"
        ],
        [
         "2022-01-04 09:15:00",
         "NIFTY",
         "18900CE",
         "0.5",
         "0.55",
         "0.5",
         "0.55",
         "5550",
         "66200",
         "2022-01-06 00:00:00",
         "2"
        ],
        [
         "2022-01-04 09:15:00",
         "NIFTY",
         "19000CE",
         "0.5",
         "0.8",
         "0.45",
         "0.55",
         "17800",
         "686650",
         "2022-01-06 00:00:00",
         "2"
        ],
        [
         "2022-01-04 09:15:00",
         "NIFTY",
         "19450CE",
         "0.6",
         "0.6",
         "0.6",
         "0.6",
         "100",
         "6250",
         "2022-01-06 00:00:00",
         "2"
        ]
       ],
       "shape": {
        "columns": 10,
        "rows": 5
       }
      },
      "text/html": [
       "<div>\n",
       "<style scoped>\n",
       "    .dataframe tbody tr th:only-of-type {\n",
       "        vertical-align: middle;\n",
       "    }\n",
       "\n",
       "    .dataframe tbody tr th {\n",
       "        vertical-align: top;\n",
       "    }\n",
       "\n",
       "    .dataframe thead th {\n",
       "        text-align: right;\n",
       "    }\n",
       "</style>\n",
       "<table border=\"1\" class=\"dataframe\">\n",
       "  <thead>\n",
       "    <tr style=\"text-align: right;\">\n",
       "      <th></th>\n",
       "      <th>index</th>\n",
       "      <th>scrip</th>\n",
       "      <th>open</th>\n",
       "      <th>high</th>\n",
       "      <th>low</th>\n",
       "      <th>close</th>\n",
       "      <th>volume</th>\n",
       "      <th>openinterest</th>\n",
       "      <th>expiry_date</th>\n",
       "      <th>dte</th>\n",
       "    </tr>\n",
       "    <tr>\n",
       "      <th>date_time</th>\n",
       "      <th></th>\n",
       "      <th></th>\n",
       "      <th></th>\n",
       "      <th></th>\n",
       "      <th></th>\n",
       "      <th></th>\n",
       "      <th></th>\n",
       "      <th></th>\n",
       "      <th></th>\n",
       "      <th></th>\n",
       "    </tr>\n",
       "  </thead>\n",
       "  <tbody>\n",
       "    <tr>\n",
       "      <th>2022-01-04 09:15:00</th>\n",
       "      <td>NIFTY</td>\n",
       "      <td>19600CE</td>\n",
       "      <td>0.5</td>\n",
       "      <td>0.50</td>\n",
       "      <td>0.35</td>\n",
       "      <td>0.40</td>\n",
       "      <td>9600</td>\n",
       "      <td>253100</td>\n",
       "      <td>2022-01-06</td>\n",
       "      <td>2</td>\n",
       "    </tr>\n",
       "    <tr>\n",
       "      <th>2022-01-04 09:15:00</th>\n",
       "      <td>NIFTY</td>\n",
       "      <td>19500CE</td>\n",
       "      <td>0.5</td>\n",
       "      <td>0.50</td>\n",
       "      <td>0.45</td>\n",
       "      <td>0.50</td>\n",
       "      <td>9400</td>\n",
       "      <td>342850</td>\n",
       "      <td>2022-01-06</td>\n",
       "      <td>2</td>\n",
       "    </tr>\n",
       "    <tr>\n",
       "      <th>2022-01-04 09:15:00</th>\n",
       "      <td>NIFTY</td>\n",
       "      <td>18900CE</td>\n",
       "      <td>0.5</td>\n",
       "      <td>0.55</td>\n",
       "      <td>0.50</td>\n",
       "      <td>0.55</td>\n",
       "      <td>5550</td>\n",
       "      <td>66200</td>\n",
       "      <td>2022-01-06</td>\n",
       "      <td>2</td>\n",
       "    </tr>\n",
       "    <tr>\n",
       "      <th>2022-01-04 09:15:00</th>\n",
       "      <td>NIFTY</td>\n",
       "      <td>19000CE</td>\n",
       "      <td>0.5</td>\n",
       "      <td>0.80</td>\n",
       "      <td>0.45</td>\n",
       "      <td>0.55</td>\n",
       "      <td>17800</td>\n",
       "      <td>686650</td>\n",
       "      <td>2022-01-06</td>\n",
       "      <td>2</td>\n",
       "    </tr>\n",
       "    <tr>\n",
       "      <th>2022-01-04 09:15:00</th>\n",
       "      <td>NIFTY</td>\n",
       "      <td>19450CE</td>\n",
       "      <td>0.6</td>\n",
       "      <td>0.60</td>\n",
       "      <td>0.60</td>\n",
       "      <td>0.60</td>\n",
       "      <td>100</td>\n",
       "      <td>6250</td>\n",
       "      <td>2022-01-06</td>\n",
       "      <td>2</td>\n",
       "    </tr>\n",
       "  </tbody>\n",
       "</table>\n",
       "</div>"
      ],
      "text/plain": [
       "                     index    scrip  open  high   low  close  volume  \\\n",
       "date_time                                                              \n",
       "2022-01-04 09:15:00  NIFTY  19600CE   0.5  0.50  0.35   0.40    9600   \n",
       "2022-01-04 09:15:00  NIFTY  19500CE   0.5  0.50  0.45   0.50    9400   \n",
       "2022-01-04 09:15:00  NIFTY  18900CE   0.5  0.55  0.50   0.55    5550   \n",
       "2022-01-04 09:15:00  NIFTY  19000CE   0.5  0.80  0.45   0.55   17800   \n",
       "2022-01-04 09:15:00  NIFTY  19450CE   0.6  0.60  0.60   0.60     100   \n",
       "\n",
       "                     openinterest expiry_date  dte  \n",
       "date_time                                           \n",
       "2022-01-04 09:15:00        253100  2022-01-06    2  \n",
       "2022-01-04 09:15:00        342850  2022-01-06    2  \n",
       "2022-01-04 09:15:00         66200  2022-01-06    2  \n",
       "2022-01-04 09:15:00        686650  2022-01-06    2  \n",
       "2022-01-04 09:15:00          6250  2022-01-06    2  "
      ]
     },
     "execution_count": 14,
     "metadata": {},
     "output_type": "execute_result"
    }
   ],
   "source": [
    "opt.head()"
   ]
  },
  {
   "cell_type": "code",
   "execution_count": null,
   "id": "9bc2f097",
   "metadata": {},
   "outputs": [],
   "source": [
    "pd.read_pickle(r\"C:\\Users\\ashu4\\Desktop\\ankit internship\\2025\\2025\\option\\banknifty-2025-01-03.pkl\")"
   ]
  },
  {
   "cell_type": "code",
   "execution_count": null,
   "id": "51b1a68c",
   "metadata": {},
   "outputs": [
    {
     "data": {
      "text/plain": [
       "(np.float64(143.16), np.float64(118.91999999999999))"
      ]
     },
     "execution_count": 14,
     "metadata": {},
     "output_type": "execute_result"
    }
   ],
   "source": [
    "opt = opt.loc[entry_time:exit_time]\n",
    "scrip = fut.loc[entry_time, 'close']\n",
    "strike = round(scrip/50)*50\n",
    "ce_scrip = f'{strike}CE'\n",
    "pe_scrip = f'{strike}PE'\n",
    "ce_data = opt[(opt['scrip'] == ce_scrip) ]\n",
    "pe_data = opt[(opt['scrip'] == pe_scrip) ]\n",
    "ce_price = ce_data.loc[entry_time, 'close']\n",
    "pe_price = pe_data.loc[entry_time, 'close']\n",
    "\n",
    "sl=20\n",
    "ce_sl_price = ce_price* (1+sl/100)\n",
    "pe_sl_price = pe_price* (1+sl/100)\n",
    "ce_sl_price,pe_sl_price"
   ]
  },
  {
   "cell_type": "code",
   "execution_count": 17,
   "id": "2de73726",
   "metadata": {},
   "outputs": [
    {
     "name": "stderr",
     "output_type": "stream",
     "text": [
      "C:\\Users\\ashu4\\AppData\\Local\\Temp\\ipykernel_10416\\3562733567.py:1: FutureWarning: Series.__getitem__ treating keys as positions is deprecated. In a future version, integer keys will always be treated as labels (consistent with DataFrame behavior). To access a value by position, use `ser.iloc[pos]`\n",
      "  ce_data.dte[0]\n"
     ]
    },
    {
     "data": {
      "text/plain": [
       "np.int64(3)"
      ]
     },
     "execution_count": 17,
     "metadata": {},
     "output_type": "execute_result"
    }
   ],
   "source": [
    "ce_data.dte[0]"
   ]
  },
  {
   "cell_type": "code",
   "execution_count": 13,
   "id": "b34f7a25",
   "metadata": {},
   "outputs": [],
   "source": [
    "def ner(data,sl_price):\n",
    "    total_pnl=0\n",
    "    price = data.iloc[0].close\n",
    "    sl_flag = False\n",
    "    while True:\n",
    "        try:\n",
    "            sl_time=data[data.high>=sl_price].index[0]\n",
    "        except:\n",
    "            sl_time = None\n",
    "\n",
    "        print(\"sl hit at \", sl_time)\n",
    "        if sl_time is not None:\n",
    "            pnl = price - sl_price - 0.01*price\n",
    "            print(\"pnl\",pnl)\n",
    "            total_pnl +=pnl\n",
    "        \n",
    "        if sl_time is None:\n",
    "            sl_flag=False\n",
    "            print(\"no sl hit\")\n",
    "            pnl=price - data.loc[exit_time].close - 0.01*price\n",
    "            print(pnl)\n",
    "            total_pnl+=pnl\n",
    "            return total_pnl\n",
    "\n",
    "        try:\n",
    "            sell_again_time = data[(data.low<=price)&(data.index>sl_time)].index[0]\n",
    "        except:\n",
    "            sell_again_time = None\n",
    "        \n",
    "        if sell_again_time is not None:\n",
    "            print(\"sell again at :\",sell_again_time)\n",
    "            sl_flag = True\n",
    "            data=data[data.index>sell_again_time]\n",
    "        else:\n",
    "            print(\"not selling again\")\n",
    "            return total_pnl\n",
    "\n"
   ]
  },
  {
   "cell_type": "code",
   "execution_count": 14,
   "id": "d8c8eda8",
   "metadata": {},
   "outputs": [
    {
     "name": "stdout",
     "output_type": "stream",
     "text": [
      "sl hit at  2022-01-04 09:21:00\n",
      "pnl -22.3965\n",
      "sell again at : 2022-01-04 09:35:00\n",
      "sl hit at  2022-01-04 10:09:00\n",
      "pnl -22.3965\n",
      "sell again at : 2022-01-04 11:15:00\n",
      "sl hit at  2022-01-04 12:04:00\n",
      "pnl -22.3965\n",
      "sell again at : 2022-01-04 13:42:00\n",
      "sl hit at  2022-01-04 14:08:00\n",
      "pnl -22.3965\n",
      "not selling again\n"
     ]
    },
    {
     "data": {
      "text/plain": [
       "np.float64(-89.586)"
      ]
     },
     "execution_count": 14,
     "metadata": {},
     "output_type": "execute_result"
    }
   ],
   "source": [
    "ner(ce_data.copy(),ce_sl_price)"
   ]
  },
  {
   "cell_type": "code",
   "execution_count": 15,
   "id": "b32ab747",
   "metadata": {},
   "outputs": [
    {
     "name": "stdout",
     "output_type": "stream",
     "text": [
      "sl hit at  2022-01-04 09:38:00\n",
      "pnl -18.79499999999999\n",
      "sell again at : 2022-01-04 09:45:00\n",
      "sl hit at  None\n",
      "no sl hit\n",
      "62.904999999999994\n"
     ]
    },
    {
     "data": {
      "text/plain": [
       "np.float64(44.11)"
      ]
     },
     "execution_count": 15,
     "metadata": {},
     "output_type": "execute_result"
    }
   ],
   "source": [
    "ner(pe_data.copy(),pe_sl_price)"
   ]
  },
  {
   "cell_type": "code",
   "execution_count": null,
   "id": "ca727319",
   "metadata": {},
   "outputs": [],
   "source": [
    "def run_leg(data, sl_price,method, order_side=\"CE\"):\n",
    "    \"\"\"Runs one option leg (CE or PE) and returns metadata updates.\"\"\"\n",
    "    total_pnl = 0\n",
    "    price = data.iloc[0].close\n",
    "    sl_count = 0\n",
    "    \n",
    "    if method == 'HL' :\n",
    "        high='high',\n",
    "        low='low'\n",
    "    elif method == 'CC':\n",
    "        close = 'close',\n",
    "        close = 'close'\n",
    "    \n",
    "    leg_meta = {}\n",
    "    # initialize placeholders\n",
    "    for i in range(8):\n",
    "        if i!=0:\n",
    "            leg_meta[f\"{order_side}{i}.Decay.Flag\"] = False \n",
    "            leg_meta[f\"{order_side}{i}.Decay.Time\"] = \"\"\n",
    "        leg_meta[f\"{order_side}{i}.SL.Flag\"] = False\n",
    "        leg_meta[f\"{order_side}{i}.SL.Time\"] = \"\"\n",
    "        leg_meta[f\"{order_side}{i}.PNL\"] = 0\n",
    "\n",
    "    while True:\n",
    "        try:\n",
    "            sl_time = data[data.high >= sl_price].index[0]\n",
    "        except:\n",
    "            sl_time = None\n",
    "\n",
    "        if sl_time is not None:\n",
    "            pnl = price - sl_price - 0.01 * price\n",
    "            total_pnl += pnl\n",
    "\n",
    "            leg_meta[f\"{order_side}{sl_count}.SL.Flag\"] = True\n",
    "            leg_meta[f\"{order_side}{sl_count}.SL.Time\"] = str(sl_time)\n",
    "            leg_meta[f\"{order_side}{sl_count}.PNL\"] = pnl\n",
    "            sl_count += 1\n",
    "\n",
    "        if sl_time is None:\n",
    "            # No SL hit, exit at last candle\n",
    "            exit_time = data.index[-1]\n",
    "            pnl = price - data.loc[exit_time].close - 0.01 * price\n",
    "            total_pnl += pnl\n",
    "\n",
    "            \n",
    "            leg_meta[f\"{order_side}{sl_count}.PNL\"] = pnl\n",
    "            break\n",
    "\n",
    "        try:\n",
    "            sell_again_time = data[(data.low <= price) & (data.index > sl_time)].index[0]\n",
    "        except:\n",
    "            sell_again_time = None\n",
    "\n",
    "        if sell_again_time is not None:\n",
    "            data = data[data.index > sell_again_time]\n",
    "            \n",
    "            leg_meta[f\"{order_side}{sl_count}.Decay.Flag\"] = True\n",
    "            leg_meta[f\"{order_side}{sl_count}.Decay.Time\"] = str(sell_again_time)\n",
    "        else:\n",
    "            break\n",
    "\n",
    "    return total_pnl, leg_meta\n",
    "\n",
    "\n",
    "def ner_both(data_ce, sl_ce, data_pe, sl_pe,\n",
    "             strategy=\"NRE\", symbol=\"NIFTY\",\n",
    "             start_time=\"09:20:00\", end_time=\"15:25:00\",\n",
    "             method=\"HL\", sl=20.0, resl=20.0, om=0.0,\n",
    "             trade_date=\"2022-01-04\", fut_scrip:int=17713.8,\n",
    "             ce_scrip:str=None,pe_scrip=None):\n",
    "\n",
    "    # Run CE leg\n",
    "    ce_pnl, ce_meta = run_leg(data_ce, sl_ce, \"CE\",method=method)\n",
    "    # Run PE leg\n",
    "    pe_pnl, pe_meta = run_leg(data_pe, sl_pe, \"PE\",method=method)\n",
    "\n",
    "    # Base metadata\n",
    "    metadata = {\n",
    "        \"P_Strategy\": strategy,\n",
    "        \"P_Index\": symbol,\n",
    "        \"P_StartTime\": start_time,\n",
    "        \"P_EndTime\": end_time,\n",
    "        \"P_OrderSide\": \"SELL\",\n",
    "        \"P_Method\": method,\n",
    "        \"P_SL\": sl,\n",
    "        \"P_ReSL\": resl,\n",
    "        \"P_OM\": om,\n",
    "        \"Date\": trade_date,\n",
    "        \"Day\": pd.to_datetime(trade_date).day_name(),\n",
    "        \"DTE\": 3,\n",
    "        \"EntryTime\": start_time,\n",
    "        \"Future\": fut_scrip,\n",
    "        \"CE.Strike\": ce_scrip,\n",
    "        \"CE.Price\": data_ce.iloc[0].close,\n",
    "        \"CE.SL.Price\": sl_ce,\n",
    "    }\n",
    "    pe={\n",
    "        \"PE.Strike\": pe_scrip,\n",
    "        \"PE.Price\": data_pe.iloc[0].close,\n",
    "        \"PE.SL.Price\": sl_pe,\n",
    "    }\n",
    "\n",
    "    # Merge CE and PE legs\n",
    "    metadata.update(ce_meta)\n",
    "    metadata.update(pe)\n",
    "    metadata.update(pe_meta)\n",
    "\n",
    "    return ce_pnl + pe_pnl, metadata"
   ]
  },
  {
   "cell_type": "code",
   "execution_count": 32,
   "id": "951dd6aa",
   "metadata": {},
   "outputs": [],
   "source": [
    "pnl , rows = ner_both(ce_data,ce_sl_price,pe_data,pe_sl_price,fut_scrip=future_scrip,ce_scrip=ce_scrip,pe_scrip=pe_scrip)"
   ]
  },
  {
   "cell_type": "code",
   "execution_count": 33,
   "id": "a6ff1ce2",
   "metadata": {},
   "outputs": [
    {
     "name": "stdout",
     "output_type": "stream",
     "text": [
      "Total pnl:  -45.476\n"
     ]
    }
   ],
   "source": [
    "print(\"Total pnl: \",pnl)\n",
    "df = pd.DataFrame([rows])\n",
    "df.to_csv(\"result.csv\")"
   ]
  },
  {
   "cell_type": "code",
   "execution_count": 36,
   "id": "cdfa88a7",
   "metadata": {},
   "outputs": [],
   "source": [
    "df=pd.read_parquet(r\"C:\\Users\\ashu4\\Downloads\\NIFTY 2019-03-07 NRE No-1.parquet\")"
   ]
  },
  {
   "cell_type": "code",
   "execution_count": 39,
   "id": "ef870a44",
   "metadata": {},
   "outputs": [
    {
     "data": {
      "text/html": [
       "<div>\n",
       "<style scoped>\n",
       "    .dataframe tbody tr th:only-of-type {\n",
       "        vertical-align: middle;\n",
       "    }\n",
       "\n",
       "    .dataframe tbody tr th {\n",
       "        vertical-align: top;\n",
       "    }\n",
       "\n",
       "    .dataframe thead th {\n",
       "        text-align: right;\n",
       "    }\n",
       "</style>\n",
       "<table border=\"1\" class=\"dataframe\">\n",
       "  <thead>\n",
       "    <tr style=\"text-align: right;\">\n",
       "      <th></th>\n",
       "      <th>P_Strategy</th>\n",
       "      <th>P_Index</th>\n",
       "      <th>P_StartTime</th>\n",
       "      <th>P_EndTime</th>\n",
       "      <th>P_OrderSide</th>\n",
       "      <th>P_Method</th>\n",
       "      <th>P_SL</th>\n",
       "      <th>P_ReSL</th>\n",
       "      <th>P_OM</th>\n",
       "      <th>Date</th>\n",
       "      <th>...</th>\n",
       "      <th>PE6.Decay.Flag</th>\n",
       "      <th>PE6.Decay.Time</th>\n",
       "      <th>PE6.SL.Flag</th>\n",
       "      <th>PE6.SL.Time</th>\n",
       "      <th>PE6.PNL</th>\n",
       "      <th>PE7.Decay.Flag</th>\n",
       "      <th>PE7.Decay.Time</th>\n",
       "      <th>PE7.SL.Flag</th>\n",
       "      <th>PE7.SL.Time</th>\n",
       "      <th>PE7.PNL</th>\n",
       "    </tr>\n",
       "  </thead>\n",
       "  <tbody>\n",
       "    <tr>\n",
       "      <th>0</th>\n",
       "      <td>NRE</td>\n",
       "      <td>NIFTY</td>\n",
       "      <td>09:16:00</td>\n",
       "      <td>13:00:00</td>\n",
       "      <td>SELL</td>\n",
       "      <td>HL</td>\n",
       "      <td>0</td>\n",
       "      <td>0.0</td>\n",
       "      <td>0.00</td>\n",
       "      <td>2019-03-07</td>\n",
       "      <td>...</td>\n",
       "      <td>False</td>\n",
       "      <td>NaT</td>\n",
       "      <td>False</td>\n",
       "      <td>NaT</td>\n",
       "      <td>0.0</td>\n",
       "      <td>False</td>\n",
       "      <td>NaT</td>\n",
       "      <td>False</td>\n",
       "      <td>NaT</td>\n",
       "      <td>0.0</td>\n",
       "    </tr>\n",
       "    <tr>\n",
       "      <th>1</th>\n",
       "      <td>NRE</td>\n",
       "      <td>NIFTY</td>\n",
       "      <td>09:16:00</td>\n",
       "      <td>13:00:00</td>\n",
       "      <td>SELL</td>\n",
       "      <td>HL</td>\n",
       "      <td>0</td>\n",
       "      <td>0.0</td>\n",
       "      <td>0.05</td>\n",
       "      <td>2019-03-07</td>\n",
       "      <td>...</td>\n",
       "      <td>False</td>\n",
       "      <td>NaT</td>\n",
       "      <td>False</td>\n",
       "      <td>NaT</td>\n",
       "      <td>0.0</td>\n",
       "      <td>False</td>\n",
       "      <td>NaT</td>\n",
       "      <td>False</td>\n",
       "      <td>NaT</td>\n",
       "      <td>0.0</td>\n",
       "    </tr>\n",
       "  </tbody>\n",
       "</table>\n",
       "<p>2 rows × 96 columns</p>\n",
       "</div>"
      ],
      "text/plain": [
       "  P_Strategy P_Index P_StartTime P_EndTime P_OrderSide P_Method  P_SL  P_ReSL  \\\n",
       "0        NRE   NIFTY    09:16:00  13:00:00        SELL       HL     0     0.0   \n",
       "1        NRE   NIFTY    09:16:00  13:00:00        SELL       HL     0     0.0   \n",
       "\n",
       "   P_OM        Date  ... PE6.Decay.Flag  PE6.Decay.Time PE6.SL.Flag  \\\n",
       "0  0.00  2019-03-07  ...          False             NaT       False   \n",
       "1  0.05  2019-03-07  ...          False             NaT       False   \n",
       "\n",
       "   PE6.SL.Time PE6.PNL  PE7.Decay.Flag  PE7.Decay.Time  PE7.SL.Flag  \\\n",
       "0          NaT     0.0           False             NaT        False   \n",
       "1          NaT     0.0           False             NaT        False   \n",
       "\n",
       "  PE7.SL.Time  PE7.PNL  \n",
       "0         NaT      0.0  \n",
       "1         NaT      0.0  \n",
       "\n",
       "[2 rows x 96 columns]"
      ]
     },
     "execution_count": 39,
     "metadata": {},
     "output_type": "execute_result"
    }
   ],
   "source": [
    "df.head(2)"
   ]
  },
  {
   "cell_type": "code",
   "execution_count": 179,
   "id": "85254a94",
   "metadata": {},
   "outputs": [],
   "source": [
    "fut_path = \"2019-03-07_nifty_future.pkl\"\n",
    "opt_path = \"2019-03-07_nifty.pkl\"\n",
    "\n",
    "opt = pd.read_pickle(path_options+\"\\\\\"+opt_path).set_index(\"date_time\")\n",
    "fut = pd.read_pickle(path_future+\"\\\\\"+fut_path).set_index(\"date_time\")\n",
    "opt.index = pd.to_datetime(opt.index)\n",
    "fut.index = pd.to_datetime(fut.index)"
   ]
  },
  {
   "cell_type": "code",
   "execution_count": null,
   "id": "38706c97",
   "metadata": {},
   "outputs": [],
   "source": [
    "start_dates = df.P_StartTime.unique()\n",
    "end_times=df.P_EndTime.unique()\n",
    "methods=df.P_Method.unique()    # HL , CC \n",
    "sls=resls=df.P_SL.unique()\n",
    "oms=df.P_OM.unique()"
   ]
  },
  {
   "cell_type": "code",
   "execution_count": 234,
   "id": "65d97aa2",
   "metadata": {},
   "outputs": [],
   "source": [
    "def run_leg(data, sl_price,method:Literal[\"HL\",\"CC\"], order_side):\n",
    "    \"\"\"Runs one option leg (CE or PE) and returns metadata updates.\"\"\"\n",
    "    total_pnl = 0\n",
    "    price = data.iloc[0].close\n",
    "    sl_count = 0\n",
    "    \n",
    "    if method == 'HL' :\n",
    "        high='high'\n",
    "        low='low'\n",
    "    elif method == 'CC':\n",
    "        high='close'\n",
    "        low='close'\n",
    "    \n",
    "    leg_meta = {}\n",
    "    # initialize placeholders\n",
    "    for i in range(8):\n",
    "        if i!=0:\n",
    "            leg_meta[f\"{order_side}{i}.Decay.Flag\"] = False \n",
    "            leg_meta[f\"{order_side}{i}.Decay.Time\"] = \"\"\n",
    "        leg_meta[f\"{order_side}{i}.SL.Flag\"] = False\n",
    "        leg_meta[f\"{order_side}{i}.SL.Time\"] = \"\"\n",
    "        leg_meta[f\"{order_side}{i}.PNL\"] = 0\n",
    "\n",
    "    while True:\n",
    "        try:\n",
    "            sl_time = data[data[high] >= sl_price].index[0]\n",
    "        except:\n",
    "            sl_time = None\n",
    "\n",
    "        if sl_time is not None:\n",
    "            pnl = price - sl_price - 0.01 * price\n",
    "            total_pnl += pnl\n",
    "\n",
    "            leg_meta[f\"{order_side}{sl_count}.SL.Flag\"] = True\n",
    "            leg_meta[f\"{order_side}{sl_count}.SL.Time\"] = str(sl_time)\n",
    "            leg_meta[f\"{order_side}{sl_count}.PNL\"] = pnl\n",
    "            sl_count += 1\n",
    "\n",
    "        if sl_time is None:\n",
    "            # No SL hit, exit at last candle\n",
    "            exit_time = data.index[-1]\n",
    "            pnl = price - data.loc[exit_time].close - 0.01 * price\n",
    "            total_pnl += pnl\n",
    "\n",
    "            \n",
    "            leg_meta[f\"{order_side}{sl_count}.PNL\"] = pnl\n",
    "            break\n",
    "\n",
    "        try:\n",
    "            sell_again_time = data[(data[low] <= price) & (data.index > sl_time)].index[0] \n",
    "        except:\n",
    "            sell_again_time = None\n",
    "\n",
    "        if sell_again_time is not None:\n",
    "            data = data[data.index > sell_again_time]\n",
    "            \n",
    "            leg_meta[f\"{order_side}{sl_count}.Decay.Flag\"] = True\n",
    "            leg_meta[f\"{order_side}{sl_count}.Decay.Time\"] = str(sell_again_time)\n",
    "        else:\n",
    "            break\n",
    "\n",
    "    return total_pnl, leg_meta\n",
    "\n",
    "\n",
    "def ner_both(option, strategy=\"NRE\", symbol=\"NIFTY\",\n",
    "             start_time=\"09:20:00\", end_time=\"15:25:00\",\n",
    "             method='CC', sl=20.0, resl=20.0, om=0,\n",
    "             trade_date=\"2022-01-04\",\n",
    "             ):\n",
    "    if om == 0:\n",
    "        ce_scrip,pe_scrip,ce_price,pe_price,future_scrip,entry_time=bt.get_straddle_strike(start_time,end_time)\n",
    "    else:\n",
    "        ce_scrip,pe_scrip,ce_price,pe_price,future_scrip,entry_time=bt.get_strangle_strike(start_time,end_time,om=om)\n",
    "    \n",
    "    ce_sl_price = ce_price* (1+sl/100)\n",
    "    pe_sl_price = pe_price* (1+sl/100)\n",
    "\n",
    "    opt = option.loc[entry_time:exit_time]\n",
    "    ce_data = opt[(opt['scrip'] == ce_scrip) ]\n",
    "    pe_data = opt[(opt['scrip'] == pe_scrip) ]\n",
    "    ce_price = ce_data.loc[entry_time, 'close']\n",
    "    pe_price = pe_data.loc[entry_time, 'close']\n",
    "\n",
    "    # Run CE leg\n",
    "    ce_pnl, ce_meta = run_leg(ce_data, ce_sl_price, method=method,order_side=\"CE\")\n",
    "    print(\"method: \",method)\n",
    "    # Run PE leg\n",
    "    pe_pnl, pe_meta = run_leg(pe_data, pe_sl_price, method=method,order_side=\"PE\")\n",
    "    print(\"method: \",method)\n",
    "\n",
    "    # Base metadata\n",
    "    metadata = {\n",
    "        \"P_Strategy\": strategy,\n",
    "        \"P_Index\": symbol,\n",
    "        \"P_StartTime\": start_time,\n",
    "        \"P_EndTime\": end_time,\n",
    "        \"P_OrderSide\": \"SELL\",\n",
    "        \"P_Method\": method,\n",
    "        \"P_SL\": sl,\n",
    "        \"P_ReSL\": resl,\n",
    "        \"P_OM\": om,\n",
    "        \"Date\": trade_date,\n",
    "        \"Day\": pd.to_datetime(trade_date).day_name(),\n",
    "        \"DTE\": 3,\n",
    "        \"EntryTime\": start_time,\n",
    "        \"Future\": future_scrip,\n",
    "        \"CE.Strike\": ce_scrip,\n",
    "        \"CE.Price\": ce_data.iloc[0].close,\n",
    "        \"CE.SL.Price\": ce_sl_price,\n",
    "    }\n",
    "    pe={\n",
    "        \"PE.Strike\": pe_scrip,\n",
    "        \"PE.Price\": pe_data.iloc[0].close,\n",
    "        \"PE.SL.Price\": pe_sl_price,\n",
    "    }\n",
    "\n",
    "    # Merge CE and PE legs\n",
    "    metadata.update(ce_meta)\n",
    "    metadata.update(pe)\n",
    "    metadata.update(pe_meta)\n",
    "\n",
    "    return ce_pnl + pe_pnl, metadata"
   ]
  },
  {
   "cell_type": "code",
   "execution_count": 233,
   "id": "862541bc",
   "metadata": {},
   "outputs": [
    {
     "data": {
      "text/plain": [
       "'CC'"
      ]
     },
     "execution_count": 233,
     "metadata": {},
     "output_type": "execute_result"
    }
   ],
   "source": [
    "methods[1]"
   ]
  },
  {
   "cell_type": "code",
   "execution_count": null,
   "id": "d0333a3b",
   "metadata": {},
   "outputs": [],
   "source": [
    "combinations=[]\n",
    "for start_date in start_dates:\n",
    "    for end_time in end_times:\n",
    "        for method in methods:\n",
    "            for sl in sls:\n",
    "                for om in oms:\n",
    "                    print(start_date,end_time,method,sl,om)\n",
    "                    pnl , rows = ner_both(\n",
    "                             opt.copy(),\n",
    "                             start_time=start_date,\n",
    "                             end_time=end_time,\n",
    "                             method='HL',\n",
    "                             sl=sl,resl=sl,\n",
    "                             om=om,\n",
    "                             trade_date=opt.index[0].date())\n",
    "                    print(rows)\n",
    "                    combinations.append(rows)\n",
    "                    print(\"total \" ,pnl)\n",
    "\n",
    "combination=pd.DataFrame(combinations)"
   ]
  },
  {
   "cell_type": "code",
   "execution_count": 258,
   "metadata": {},
   "outputs": [],
   "source": [
    "combination=pd.DataFrame(combinations)"
   ]
  },
  {
   "cell_type": "code",
   "execution_count": 261,
   "id": "882076dc",
   "metadata": {},
   "outputs": [],
   "source": [
    "combination.to_csv(\"sre with parameters.csv\")"
   ]
  },
  {
   "cell_type": "code",
   "execution_count": 164,
   "id": "81bac220",
   "metadata": {},
   "outputs": [],
   "source": [
    "pd.DataFrame([rows]).to_csv(\"demo.csv\")"
   ]
  },
  {
   "cell_type": "code",
   "execution_count": 247,
   "id": "fd22d62e",
   "metadata": {},
   "outputs": [],
   "source": [
    "entry = pd.to_datetime(\"2019-03-07 09:20:00\")\n",
    "exit = pd.to_datetime(\"2019-03-07 15:25:00\")"
   ]
  },
  {
   "cell_type": "code",
   "execution_count": 1,
   "id": "d285427c",
   "metadata": {},
   "outputs": [],
   "source": [
    "import pandas as pd"
   ]
  },
  {
   "cell_type": "code",
   "execution_count": 9,
   "id": "fed0f56c",
   "metadata": {},
   "outputs": [],
   "source": [
    "pd.read_parquet(\n",
    "    r\"C:\\Users\\ashu4\\Downloads\\NIFTY\\NIFTY\\NREW NIFTY 0920 1525 SELL HL 90.0 90.0 0.0.parquet\"\n",
    ").to_csv(r\"C:\\Users\\ashu4\\Downloads\\NIFTY\\NIFTY\\NREW NIFTY 0920 1525 SELL HL 90.0 90.0 0.0.csv\")"
   ]
  },
  {
   "cell_type": "code",
   "execution_count": null,
   "id": "9edd9bf5",
   "metadata": {},
   "outputs": [],
   "source": [
    "def weekly_nre():\n",
    "    weekly_groups = group_files_by_week(nifty_future_list, nifty_options_list)\n",
    "\n",
    "    weekly_folder = processed_files / \"weekly_file\"\n",
    "    weekly_folder.mkdir(exist_ok=True)\n",
    "\n",
    "    for group in weekly_groups:\n",
    "        # Combine all files in the group\n",
    "        futs = []\n",
    "        opts = []\n",
    "        for fut_path, opt_path in group:\n",
    "            fut = pd.read_pickle(fut_path)\n",
    "            opt = pd.read_pickle(opt_path)\n",
    "            futs.append(fut)\n",
    "            opts.append(opt)\n",
    "        fut_week = pd.concat(futs).set_index(\"date_time\")\n",
    "        opt_week = pd.concat(opts).set_index(\"date_time\")\n",
    "        fut_week.index = pd.to_datetime(fut_week.index)\n",
    "        opt_week.index = pd.to_datetime(opt_week.index)\n",
    "        opt_week[\"date_time\"] = opt_week.index\n",
    "        fut_week[\"date_time\"] = fut_week.index\n",
    "\n",
    "        # Build ordered list of distinct file dates in this group\n",
    "        dates = []\n",
    "        for _, opt_path in group:\n",
    "            opt_sample = pd.read_pickle(opt_path)\n",
    "            dt = pd.to_datetime(opt_sample.iloc[0][\"date_time\"]).date()\n",
    "            dates.append(dt)\n",
    "        dates = sorted(set(dates))\n",
    "        if not dates:\n",
    "            continue\n",
    "        last_date = dates[-1]\n",
    "\n",
    "        print(f\"Processing week (combos end on): {last_date}  -- start dates: {dates}\")\n",
    "\n",
    "        # For every start_date in the group, create combo start_date -> last_date\n",
    "        for start_date in dates:\n",
    "            for start_time in start_times:\n",
    "                for end_time in end_times:\n",
    "                    for method in methods:\n",
    "                        for sl in sls:\n",
    "                            for om in oms:\n",
    "                                start_dt = pd.to_datetime(\n",
    "                                    f\"{start_date} {start_time.strftime('%H:%M:%S')}\"\n",
    "                                )\n",
    "                                end_dt = pd.to_datetime(\n",
    "                                    f\"{last_date} {end_time.strftime('%H:%M:%S')}\"\n",
    "                                )\n",
    "                                try:\n",
    "                                    pnl, rows = ner_both_weekly(\n",
    "                                        opt_week.copy(),\n",
    "                                        fut_week.copy(),\n",
    "                                        start_time=start_dt,\n",
    "                                        end_time=end_dt,\n",
    "                                        method=method,\n",
    "                                        sl=sl,\n",
    "                                        resl=sl,\n",
    "                                        om=om,\n",
    "                                    )\n",
    "                                except Exception as e:\n",
    "                                    print(\n",
    "                                        \"weekly_nre: error running ner_both_weekly\", e\n",
    "                                    )\n",
    "                                    continue\n",
    "\n",
    "                                # Save single-row parquet per parameter combination\n",
    "                                out_df = pd.DataFrame([rows])\n",
    "                                filename = (\n",
    "                                    f\"NREW NIFTY {start_time.strftime('%H%M')} \"\n",
    "                                    f\"{end_time.strftime('%H%M')} SELL {method} {sl} {sl} {om}.csv\"\n",
    "                                )\n",
    "                                out_path = weekly_folder / filename\n",
    "                                try:\n",
    "                                    out_df.to_csv(out_path, index=False)\n",
    "                                except Exception as e:\n",
    "                                    print(\"failed to write csv\", out_path, e)\n",
    "\n",
    "        print(\"week completed\", last_date)"
   ]
  }
 ],
 "metadata": {
  "kernelspec": {
   "display_name": "Python 3",
   "language": "python",
   "name": "python3"
  },
  "language_info": {
   "codemirror_mode": {
    "name": "ipython",
    "version": 3
   },
   "file_extension": ".py",
   "mimetype": "text/x-python",
   "name": "python",
   "nbconvert_exporter": "python",
   "pygments_lexer": "ipython3",
   "version": "3.13.7"
  }
 },
 "nbformat": 4,
 "nbformat_minor": 5
}
