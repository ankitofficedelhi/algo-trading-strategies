{
 "cells": [
  {
   "cell_type": "code",
   "execution_count": 1,
   "id": "74b7210a",
   "metadata": {},
   "outputs": [],
   "source": [
    "import pandas as pd\n",
    "import datetime\n",
    "from typing import Tuple"
   ]
  },
  {
   "cell_type": "code",
   "execution_count": 19,
   "id": "5b2dd360",
   "metadata": {},
   "outputs": [],
   "source": [
    "fut = pd.read_csv(\"sensex_future.csv\").set_index(\"date_time\")\n",
    "fut.index = pd.to_datetime(fut.index)\n",
    "opt = pd.read_csv(\"sensex.csv\").set_index(\"date_time\")\n",
    "opt.index = pd.to_datetime(opt.index)"
   ]
  },
  {
   "cell_type": "code",
   "execution_count": 23,
   "id": "e257a75d",
   "metadata": {},
   "outputs": [],
   "source": [
    "fut = pd.read_pickle(\"C:\\\\PICKLE\\\\Nifty Future\\\\2019-02-11_nifty_future.pkl\").set_index(\"date_time\")\n",
    "fut.index = pd.to_datetime(fut.index)\n",
    "opt = pd.read_pickle(\"C:\\\\PICKLE\\\\Nifty Options\\\\2019-02-11_nifty.pkl\").set_index(\"date_time\")\n",
    "opt.index = pd.to_datetime(opt.index)"
   ]
  },
  {
   "cell_type": "code",
   "execution_count": 31,
   "id": "59e35a06",
   "metadata": {},
   "outputs": [],
   "source": [
    "entry_time = pd.to_datetime(\"2019-02-11 09:20:00\")\n",
    "exit_time = pd.to_datetime(\"2019-02-11 15:00:00\")\n",
    "sl=20\n",
    "ut_sl=40"
   ]
  },
  {
   "cell_type": "code",
   "execution_count": 30,
   "id": "44d268a0",
   "metadata": {},
   "outputs": [
    {
     "data": {
      "text/html": [
       "<div>\n",
       "<style scoped>\n",
       "    .dataframe tbody tr th:only-of-type {\n",
       "        vertical-align: middle;\n",
       "    }\n",
       "\n",
       "    .dataframe tbody tr th {\n",
       "        vertical-align: top;\n",
       "    }\n",
       "\n",
       "    .dataframe thead th {\n",
       "        text-align: right;\n",
       "    }\n",
       "</style>\n",
       "<table border=\"1\" class=\"dataframe\">\n",
       "  <thead>\n",
       "    <tr style=\"text-align: right;\">\n",
       "      <th></th>\n",
       "      <th>scrip</th>\n",
       "      <th>open</th>\n",
       "      <th>high</th>\n",
       "      <th>low</th>\n",
       "      <th>close</th>\n",
       "      <th>volume</th>\n",
       "      <th>openinterest</th>\n",
       "    </tr>\n",
       "    <tr>\n",
       "      <th>date_time</th>\n",
       "      <th></th>\n",
       "      <th></th>\n",
       "      <th></th>\n",
       "      <th></th>\n",
       "      <th></th>\n",
       "      <th></th>\n",
       "      <th></th>\n",
       "    </tr>\n",
       "  </thead>\n",
       "  <tbody>\n",
       "    <tr>\n",
       "      <th>2019-02-11 09:15:00</th>\n",
       "      <td>NIFTY-I</td>\n",
       "      <td>10920.00</td>\n",
       "      <td>10929.90</td>\n",
       "      <td>10915.60</td>\n",
       "      <td>10917.40</td>\n",
       "      <td>116625</td>\n",
       "      <td>20999550</td>\n",
       "    </tr>\n",
       "    <tr>\n",
       "      <th>2019-02-11 09:16:00</th>\n",
       "      <td>NIFTY-I</td>\n",
       "      <td>10918.00</td>\n",
       "      <td>10918.85</td>\n",
       "      <td>10901.00</td>\n",
       "      <td>10909.55</td>\n",
       "      <td>163125</td>\n",
       "      <td>21024375</td>\n",
       "    </tr>\n",
       "    <tr>\n",
       "      <th>2019-02-11 09:17:00</th>\n",
       "      <td>NIFTY-I</td>\n",
       "      <td>10908.70</td>\n",
       "      <td>10909.70</td>\n",
       "      <td>10904.15</td>\n",
       "      <td>10908.90</td>\n",
       "      <td>120900</td>\n",
       "      <td>21024375</td>\n",
       "    </tr>\n",
       "    <tr>\n",
       "      <th>2019-02-11 09:18:00</th>\n",
       "      <td>NIFTY-I</td>\n",
       "      <td>10907.75</td>\n",
       "      <td>10910.70</td>\n",
       "      <td>10903.90</td>\n",
       "      <td>10908.95</td>\n",
       "      <td>84675</td>\n",
       "      <td>21024375</td>\n",
       "    </tr>\n",
       "    <tr>\n",
       "      <th>2019-02-11 09:19:00</th>\n",
       "      <td>NIFTY-I</td>\n",
       "      <td>10908.95</td>\n",
       "      <td>10915.00</td>\n",
       "      <td>10908.05</td>\n",
       "      <td>10915.00</td>\n",
       "      <td>75825</td>\n",
       "      <td>21134025</td>\n",
       "    </tr>\n",
       "    <tr>\n",
       "      <th>2019-02-11 09:20:00</th>\n",
       "      <td>NIFTY-I</td>\n",
       "      <td>10915.10</td>\n",
       "      <td>10915.10</td>\n",
       "      <td>10896.80</td>\n",
       "      <td>10898.55</td>\n",
       "      <td>94650</td>\n",
       "      <td>21134025</td>\n",
       "    </tr>\n",
       "  </tbody>\n",
       "</table>\n",
       "</div>"
      ],
      "text/plain": [
       "                       scrip      open      high       low     close  volume  \\\n",
       "date_time                                                                      \n",
       "2019-02-11 09:15:00  NIFTY-I  10920.00  10929.90  10915.60  10917.40  116625   \n",
       "2019-02-11 09:16:00  NIFTY-I  10918.00  10918.85  10901.00  10909.55  163125   \n",
       "2019-02-11 09:17:00  NIFTY-I  10908.70  10909.70  10904.15  10908.90  120900   \n",
       "2019-02-11 09:18:00  NIFTY-I  10907.75  10910.70  10903.90  10908.95   84675   \n",
       "2019-02-11 09:19:00  NIFTY-I  10908.95  10915.00  10908.05  10915.00   75825   \n",
       "2019-02-11 09:20:00  NIFTY-I  10915.10  10915.10  10896.80  10898.55   94650   \n",
       "\n",
       "                     openinterest  \n",
       "date_time                          \n",
       "2019-02-11 09:15:00      20999550  \n",
       "2019-02-11 09:16:00      21024375  \n",
       "2019-02-11 09:17:00      21024375  \n",
       "2019-02-11 09:18:00      21024375  \n",
       "2019-02-11 09:19:00      21134025  \n",
       "2019-02-11 09:20:00      21134025  "
      ]
     },
     "execution_count": 30,
     "metadata": {},
     "output_type": "execute_result"
    }
   ],
   "source": [
    "fut.head(6)"
   ]
  },
  {
   "cell_type": "code",
   "execution_count": 29,
   "id": "aa91a6c9",
   "metadata": {},
   "outputs": [
    {
     "data": {
      "text/plain": [
       "Timestamp('2024-01-01 09:20:00')"
      ]
     },
     "execution_count": 29,
     "metadata": {},
     "output_type": "execute_result"
    }
   ],
   "source": [
    "entry_time"
   ]
  },
  {
   "cell_type": "code",
   "execution_count": 33,
   "id": "de291c88",
   "metadata": {},
   "outputs": [
    {
     "name": "stdout",
     "output_type": "stream",
     "text": [
      "10898.55\n"
     ]
    },
    {
     "data": {
      "text/plain": [
       "10900"
      ]
     },
     "execution_count": 33,
     "metadata": {},
     "output_type": "execute_result"
    }
   ],
   "source": [
    "fut_close_entry = fut.loc[entry_time, 'close']\n",
    "print(fut_close_entry)\n",
    "fut_close_entry = round(fut_close_entry / 100) * 100\n",
    "fut_close_entry"
   ]
  },
  {
   "cell_type": "code",
   "execution_count": 34,
   "id": "144f1a68",
   "metadata": {},
   "outputs": [
    {
     "data": {
      "text/html": [
       "<div>\n",
       "<style scoped>\n",
       "    .dataframe tbody tr th:only-of-type {\n",
       "        vertical-align: middle;\n",
       "    }\n",
       "\n",
       "    .dataframe tbody tr th {\n",
       "        vertical-align: top;\n",
       "    }\n",
       "\n",
       "    .dataframe thead th {\n",
       "        text-align: right;\n",
       "    }\n",
       "</style>\n",
       "<table border=\"1\" class=\"dataframe\">\n",
       "  <thead>\n",
       "    <tr style=\"text-align: right;\">\n",
       "      <th></th>\n",
       "      <th>index</th>\n",
       "      <th>scrip</th>\n",
       "      <th>open</th>\n",
       "      <th>high</th>\n",
       "      <th>low</th>\n",
       "      <th>close</th>\n",
       "      <th>volume</th>\n",
       "      <th>openinterest</th>\n",
       "      <th>expiry_date</th>\n",
       "      <th>dte</th>\n",
       "    </tr>\n",
       "    <tr>\n",
       "      <th>date_time</th>\n",
       "      <th></th>\n",
       "      <th></th>\n",
       "      <th></th>\n",
       "      <th></th>\n",
       "      <th></th>\n",
       "      <th></th>\n",
       "      <th></th>\n",
       "      <th></th>\n",
       "      <th></th>\n",
       "      <th></th>\n",
       "    </tr>\n",
       "  </thead>\n",
       "  <tbody>\n",
       "    <tr>\n",
       "      <th>2019-02-11 09:15:00</th>\n",
       "      <td>NIFTY</td>\n",
       "      <td>10900CE</td>\n",
       "      <td>69.95</td>\n",
       "      <td>96.10</td>\n",
       "      <td>56.95</td>\n",
       "      <td>64.00</td>\n",
       "      <td>13050</td>\n",
       "      <td>0</td>\n",
       "      <td>2019-02-14</td>\n",
       "      <td>3</td>\n",
       "    </tr>\n",
       "    <tr>\n",
       "      <th>2019-02-11 09:16:00</th>\n",
       "      <td>NIFTY</td>\n",
       "      <td>10900CE</td>\n",
       "      <td>62.35</td>\n",
       "      <td>68.65</td>\n",
       "      <td>61.60</td>\n",
       "      <td>65.50</td>\n",
       "      <td>36375</td>\n",
       "      <td>16500</td>\n",
       "      <td>2019-02-14</td>\n",
       "      <td>3</td>\n",
       "    </tr>\n",
       "    <tr>\n",
       "      <th>2019-02-11 09:17:00</th>\n",
       "      <td>NIFTY</td>\n",
       "      <td>10900CE</td>\n",
       "      <td>65.95</td>\n",
       "      <td>65.95</td>\n",
       "      <td>63.30</td>\n",
       "      <td>65.00</td>\n",
       "      <td>50850</td>\n",
       "      <td>16500</td>\n",
       "      <td>2019-02-14</td>\n",
       "      <td>3</td>\n",
       "    </tr>\n",
       "    <tr>\n",
       "      <th>2019-02-11 09:18:00</th>\n",
       "      <td>NIFTY</td>\n",
       "      <td>10900CE</td>\n",
       "      <td>64.10</td>\n",
       "      <td>64.95</td>\n",
       "      <td>60.90</td>\n",
       "      <td>62.50</td>\n",
       "      <td>53700</td>\n",
       "      <td>16500</td>\n",
       "      <td>2019-02-14</td>\n",
       "      <td>3</td>\n",
       "    </tr>\n",
       "    <tr>\n",
       "      <th>2019-02-11 09:19:00</th>\n",
       "      <td>NIFTY</td>\n",
       "      <td>10900CE</td>\n",
       "      <td>61.55</td>\n",
       "      <td>63.20</td>\n",
       "      <td>60.70</td>\n",
       "      <td>62.00</td>\n",
       "      <td>59400</td>\n",
       "      <td>78525</td>\n",
       "      <td>2019-02-14</td>\n",
       "      <td>3</td>\n",
       "    </tr>\n",
       "    <tr>\n",
       "      <th>...</th>\n",
       "      <td>...</td>\n",
       "      <td>...</td>\n",
       "      <td>...</td>\n",
       "      <td>...</td>\n",
       "      <td>...</td>\n",
       "      <td>...</td>\n",
       "      <td>...</td>\n",
       "      <td>...</td>\n",
       "      <td>...</td>\n",
       "      <td>...</td>\n",
       "    </tr>\n",
       "    <tr>\n",
       "      <th>2019-02-11 15:25:00</th>\n",
       "      <td>NIFTY</td>\n",
       "      <td>10900CE</td>\n",
       "      <td>57.30</td>\n",
       "      <td>58.60</td>\n",
       "      <td>57.15</td>\n",
       "      <td>58.60</td>\n",
       "      <td>22275</td>\n",
       "      <td>605025</td>\n",
       "      <td>2019-02-14</td>\n",
       "      <td>3</td>\n",
       "    </tr>\n",
       "    <tr>\n",
       "      <th>2019-02-11 15:26:00</th>\n",
       "      <td>NIFTY</td>\n",
       "      <td>10900CE</td>\n",
       "      <td>58.60</td>\n",
       "      <td>59.80</td>\n",
       "      <td>58.40</td>\n",
       "      <td>59.75</td>\n",
       "      <td>45075</td>\n",
       "      <td>605025</td>\n",
       "      <td>2019-02-14</td>\n",
       "      <td>3</td>\n",
       "    </tr>\n",
       "    <tr>\n",
       "      <th>2019-02-11 15:27:00</th>\n",
       "      <td>NIFTY</td>\n",
       "      <td>10900CE</td>\n",
       "      <td>59.85</td>\n",
       "      <td>60.00</td>\n",
       "      <td>58.60</td>\n",
       "      <td>58.60</td>\n",
       "      <td>54075</td>\n",
       "      <td>605025</td>\n",
       "      <td>2019-02-14</td>\n",
       "      <td>3</td>\n",
       "    </tr>\n",
       "    <tr>\n",
       "      <th>2019-02-11 15:28:00</th>\n",
       "      <td>NIFTY</td>\n",
       "      <td>10900CE</td>\n",
       "      <td>58.80</td>\n",
       "      <td>59.60</td>\n",
       "      <td>58.55</td>\n",
       "      <td>59.60</td>\n",
       "      <td>44850</td>\n",
       "      <td>575250</td>\n",
       "      <td>2019-02-14</td>\n",
       "      <td>3</td>\n",
       "    </tr>\n",
       "    <tr>\n",
       "      <th>2019-02-11 15:29:00</th>\n",
       "      <td>NIFTY</td>\n",
       "      <td>10900CE</td>\n",
       "      <td>59.55</td>\n",
       "      <td>60.00</td>\n",
       "      <td>59.30</td>\n",
       "      <td>60.00</td>\n",
       "      <td>50025</td>\n",
       "      <td>575250</td>\n",
       "      <td>2019-02-14</td>\n",
       "      <td>3</td>\n",
       "    </tr>\n",
       "  </tbody>\n",
       "</table>\n",
       "<p>375 rows × 10 columns</p>\n",
       "</div>"
      ],
      "text/plain": [
       "                     index    scrip   open   high    low  close  volume  \\\n",
       "date_time                                                                 \n",
       "2019-02-11 09:15:00  NIFTY  10900CE  69.95  96.10  56.95  64.00   13050   \n",
       "2019-02-11 09:16:00  NIFTY  10900CE  62.35  68.65  61.60  65.50   36375   \n",
       "2019-02-11 09:17:00  NIFTY  10900CE  65.95  65.95  63.30  65.00   50850   \n",
       "2019-02-11 09:18:00  NIFTY  10900CE  64.10  64.95  60.90  62.50   53700   \n",
       "2019-02-11 09:19:00  NIFTY  10900CE  61.55  63.20  60.70  62.00   59400   \n",
       "...                    ...      ...    ...    ...    ...    ...     ...   \n",
       "2019-02-11 15:25:00  NIFTY  10900CE  57.30  58.60  57.15  58.60   22275   \n",
       "2019-02-11 15:26:00  NIFTY  10900CE  58.60  59.80  58.40  59.75   45075   \n",
       "2019-02-11 15:27:00  NIFTY  10900CE  59.85  60.00  58.60  58.60   54075   \n",
       "2019-02-11 15:28:00  NIFTY  10900CE  58.80  59.60  58.55  59.60   44850   \n",
       "2019-02-11 15:29:00  NIFTY  10900CE  59.55  60.00  59.30  60.00   50025   \n",
       "\n",
       "                     openinterest expiry_date  dte  \n",
       "date_time                                           \n",
       "2019-02-11 09:15:00             0  2019-02-14    3  \n",
       "2019-02-11 09:16:00         16500  2019-02-14    3  \n",
       "2019-02-11 09:17:00         16500  2019-02-14    3  \n",
       "2019-02-11 09:18:00         16500  2019-02-14    3  \n",
       "2019-02-11 09:19:00         78525  2019-02-14    3  \n",
       "...                           ...         ...  ...  \n",
       "2019-02-11 15:25:00        605025  2019-02-14    3  \n",
       "2019-02-11 15:26:00        605025  2019-02-14    3  \n",
       "2019-02-11 15:27:00        605025  2019-02-14    3  \n",
       "2019-02-11 15:28:00        575250  2019-02-14    3  \n",
       "2019-02-11 15:29:00        575250  2019-02-14    3  \n",
       "\n",
       "[375 rows x 10 columns]"
      ]
     },
     "execution_count": 34,
     "metadata": {},
     "output_type": "execute_result"
    }
   ],
   "source": [
    "# Create CE and PE strike symbols based on fut_close_entry\n",
    "ce_strike = f\"{int(fut_close_entry)}CE\"\n",
    "pe_strike = f\"{int(fut_close_entry)}PE\"\n",
    "\n",
    "# Extract data for CE and PE from entry_time to exit_time\n",
    "ce_data = opt[(opt['scrip'] == ce_strike) ]\n",
    "pe_data = opt[(opt['scrip'] == pe_strike) ]\n",
    "\n",
    "ce_data"
   ]
  },
  {
   "cell_type": "code",
   "execution_count": 48,
   "id": "36881b9a",
   "metadata": {},
   "outputs": [],
   "source": [
    "ce_data = ce_data.loc[entry_time:exit_time]\n",
    "pe_data = pe_data.loc[entry_time:exit_time]"
   ]
  },
  {
   "cell_type": "code",
   "execution_count": 49,
   "id": "32edef39",
   "metadata": {},
   "outputs": [
    {
     "data": {
      "application/vnd.microsoft.datawrangler.viewer.v0+json": {
       "columns": [
        {
         "name": "date_time",
         "rawType": "datetime64[ns]",
         "type": "datetime"
        },
        {
         "name": "index",
         "rawType": "object",
         "type": "string"
        },
        {
         "name": "scrip",
         "rawType": "object",
         "type": "string"
        },
        {
         "name": "open",
         "rawType": "float64",
         "type": "float"
        },
        {
         "name": "high",
         "rawType": "float64",
         "type": "float"
        },
        {
         "name": "low",
         "rawType": "float64",
         "type": "float"
        },
        {
         "name": "close",
         "rawType": "float64",
         "type": "float"
        },
        {
         "name": "volume",
         "rawType": "int64",
         "type": "integer"
        },
        {
         "name": "openinterest",
         "rawType": "int64",
         "type": "integer"
        },
        {
         "name": "expiry_date",
         "rawType": "object",
         "type": "string"
        },
        {
         "name": "dte",
         "rawType": "int64",
         "type": "integer"
        }
       ],
       "ref": "2ea01f6e-842a-4ae7-8c1b-507fa99153ce",
       "rows": [
        [
         "2024-01-01 09:17:00",
         "SENSEX",
         "72100CE",
         "550.75",
         "557.25",
         "510.0",
         "535.0",
         "1800",
         "0",
         "2024-01-05",
         "4"
        ],
        [
         "2024-01-01 09:18:00",
         "SENSEX",
         "72100CE",
         "538.65",
         "543.55",
         "525.0",
         "527.25",
         "1200",
         "0",
         "2024-01-05",
         "4"
        ],
        [
         "2024-01-01 09:19:00",
         "SENSEX",
         "72100CE",
         "530.15",
         "537.05",
         "518.65",
         "518.65",
         "2330",
         "0",
         "2024-01-05",
         "4"
        ],
        [
         "2024-01-01 09:20:00",
         "SENSEX",
         "72100CE",
         "516.7",
         "519.85",
         "505.55",
         "507.5",
         "1600",
         "0",
         "2024-01-05",
         "4"
        ],
        [
         "2024-01-01 09:21:00",
         "SENSEX",
         "72100CE",
         "507.05",
         "515.05",
         "503.5",
         "511.55",
         "1560",
         "0",
         "2024-01-05",
         "4"
        ]
       ],
       "shape": {
        "columns": 10,
        "rows": 5
       }
      },
      "text/html": [
       "<div>\n",
       "<style scoped>\n",
       "    .dataframe tbody tr th:only-of-type {\n",
       "        vertical-align: middle;\n",
       "    }\n",
       "\n",
       "    .dataframe tbody tr th {\n",
       "        vertical-align: top;\n",
       "    }\n",
       "\n",
       "    .dataframe thead th {\n",
       "        text-align: right;\n",
       "    }\n",
       "</style>\n",
       "<table border=\"1\" class=\"dataframe\">\n",
       "  <thead>\n",
       "    <tr style=\"text-align: right;\">\n",
       "      <th></th>\n",
       "      <th>index</th>\n",
       "      <th>scrip</th>\n",
       "      <th>open</th>\n",
       "      <th>high</th>\n",
       "      <th>low</th>\n",
       "      <th>close</th>\n",
       "      <th>volume</th>\n",
       "      <th>openinterest</th>\n",
       "      <th>expiry_date</th>\n",
       "      <th>dte</th>\n",
       "    </tr>\n",
       "    <tr>\n",
       "      <th>date_time</th>\n",
       "      <th></th>\n",
       "      <th></th>\n",
       "      <th></th>\n",
       "      <th></th>\n",
       "      <th></th>\n",
       "      <th></th>\n",
       "      <th></th>\n",
       "      <th></th>\n",
       "      <th></th>\n",
       "      <th></th>\n",
       "    </tr>\n",
       "  </thead>\n",
       "  <tbody>\n",
       "    <tr>\n",
       "      <th>2024-01-01 09:17:00</th>\n",
       "      <td>SENSEX</td>\n",
       "      <td>72100CE</td>\n",
       "      <td>550.75</td>\n",
       "      <td>557.25</td>\n",
       "      <td>510.00</td>\n",
       "      <td>535.00</td>\n",
       "      <td>1800</td>\n",
       "      <td>0</td>\n",
       "      <td>2024-01-05</td>\n",
       "      <td>4</td>\n",
       "    </tr>\n",
       "    <tr>\n",
       "      <th>2024-01-01 09:18:00</th>\n",
       "      <td>SENSEX</td>\n",
       "      <td>72100CE</td>\n",
       "      <td>538.65</td>\n",
       "      <td>543.55</td>\n",
       "      <td>525.00</td>\n",
       "      <td>527.25</td>\n",
       "      <td>1200</td>\n",
       "      <td>0</td>\n",
       "      <td>2024-01-05</td>\n",
       "      <td>4</td>\n",
       "    </tr>\n",
       "    <tr>\n",
       "      <th>2024-01-01 09:19:00</th>\n",
       "      <td>SENSEX</td>\n",
       "      <td>72100CE</td>\n",
       "      <td>530.15</td>\n",
       "      <td>537.05</td>\n",
       "      <td>518.65</td>\n",
       "      <td>518.65</td>\n",
       "      <td>2330</td>\n",
       "      <td>0</td>\n",
       "      <td>2024-01-05</td>\n",
       "      <td>4</td>\n",
       "    </tr>\n",
       "    <tr>\n",
       "      <th>2024-01-01 09:20:00</th>\n",
       "      <td>SENSEX</td>\n",
       "      <td>72100CE</td>\n",
       "      <td>516.70</td>\n",
       "      <td>519.85</td>\n",
       "      <td>505.55</td>\n",
       "      <td>507.50</td>\n",
       "      <td>1600</td>\n",
       "      <td>0</td>\n",
       "      <td>2024-01-05</td>\n",
       "      <td>4</td>\n",
       "    </tr>\n",
       "    <tr>\n",
       "      <th>2024-01-01 09:21:00</th>\n",
       "      <td>SENSEX</td>\n",
       "      <td>72100CE</td>\n",
       "      <td>507.05</td>\n",
       "      <td>515.05</td>\n",
       "      <td>503.50</td>\n",
       "      <td>511.55</td>\n",
       "      <td>1560</td>\n",
       "      <td>0</td>\n",
       "      <td>2024-01-05</td>\n",
       "      <td>4</td>\n",
       "    </tr>\n",
       "  </tbody>\n",
       "</table>\n",
       "</div>"
      ],
      "text/plain": [
       "                      index    scrip    open    high     low   close  volume  \\\n",
       "date_time                                                                      \n",
       "2024-01-01 09:17:00  SENSEX  72100CE  550.75  557.25  510.00  535.00    1800   \n",
       "2024-01-01 09:18:00  SENSEX  72100CE  538.65  543.55  525.00  527.25    1200   \n",
       "2024-01-01 09:19:00  SENSEX  72100CE  530.15  537.05  518.65  518.65    2330   \n",
       "2024-01-01 09:20:00  SENSEX  72100CE  516.70  519.85  505.55  507.50    1600   \n",
       "2024-01-01 09:21:00  SENSEX  72100CE  507.05  515.05  503.50  511.55    1560   \n",
       "\n",
       "                     openinterest expiry_date  dte  \n",
       "date_time                                           \n",
       "2024-01-01 09:17:00             0  2024-01-05    4  \n",
       "2024-01-01 09:18:00             0  2024-01-05    4  \n",
       "2024-01-01 09:19:00             0  2024-01-05    4  \n",
       "2024-01-01 09:20:00             0  2024-01-05    4  \n",
       "2024-01-01 09:21:00             0  2024-01-05    4  "
      ]
     },
     "execution_count": 49,
     "metadata": {},
     "output_type": "execute_result"
    }
   ],
   "source": [
    "ce_data.head()"
   ]
  },
  {
   "cell_type": "code",
   "execution_count": 50,
   "id": "09146bd2",
   "metadata": {},
   "outputs": [
    {
     "data": {
      "application/vnd.microsoft.datawrangler.viewer.v0+json": {
       "columns": [
        {
         "name": "date_time",
         "rawType": "datetime64[ns]",
         "type": "datetime"
        },
        {
         "name": "index",
         "rawType": "object",
         "type": "string"
        },
        {
         "name": "scrip",
         "rawType": "object",
         "type": "string"
        },
        {
         "name": "open",
         "rawType": "float64",
         "type": "float"
        },
        {
         "name": "high",
         "rawType": "float64",
         "type": "float"
        },
        {
         "name": "low",
         "rawType": "float64",
         "type": "float"
        },
        {
         "name": "close",
         "rawType": "float64",
         "type": "float"
        },
        {
         "name": "volume",
         "rawType": "int64",
         "type": "integer"
        },
        {
         "name": "openinterest",
         "rawType": "int64",
         "type": "integer"
        },
        {
         "name": "expiry_date",
         "rawType": "object",
         "type": "string"
        },
        {
         "name": "dte",
         "rawType": "int64",
         "type": "integer"
        }
       ],
       "ref": "bfc72134-1032-4e91-bb7f-b07b09d08a7c",
       "rows": [
        [
         "2024-01-01 09:17:00",
         "SENSEX",
         "72100PE",
         "405.35",
         "427.15",
         "400.05",
         "427.15",
         "4510",
         "0",
         "2024-01-05",
         "4"
        ],
        [
         "2024-01-01 09:18:00",
         "SENSEX",
         "72100PE",
         "423.55",
         "434.15",
         "420.45",
         "429.9",
         "1710",
         "0",
         "2024-01-05",
         "4"
        ],
        [
         "2024-01-01 09:19:00",
         "SENSEX",
         "72100PE",
         "428.4",
         "442.7",
         "422.05",
         "439.0",
         "4590",
         "0",
         "2024-01-05",
         "4"
        ],
        [
         "2024-01-01 09:20:00",
         "SENSEX",
         "72100PE",
         "440.0",
         "452.95",
         "431.0",
         "444.1",
         "6610",
         "0",
         "2024-01-05",
         "4"
        ]
       ],
       "shape": {
        "columns": 10,
        "rows": 4
       }
      },
      "text/html": [
       "<div>\n",
       "<style scoped>\n",
       "    .dataframe tbody tr th:only-of-type {\n",
       "        vertical-align: middle;\n",
       "    }\n",
       "\n",
       "    .dataframe tbody tr th {\n",
       "        vertical-align: top;\n",
       "    }\n",
       "\n",
       "    .dataframe thead th {\n",
       "        text-align: right;\n",
       "    }\n",
       "</style>\n",
       "<table border=\"1\" class=\"dataframe\">\n",
       "  <thead>\n",
       "    <tr style=\"text-align: right;\">\n",
       "      <th></th>\n",
       "      <th>index</th>\n",
       "      <th>scrip</th>\n",
       "      <th>open</th>\n",
       "      <th>high</th>\n",
       "      <th>low</th>\n",
       "      <th>close</th>\n",
       "      <th>volume</th>\n",
       "      <th>openinterest</th>\n",
       "      <th>expiry_date</th>\n",
       "      <th>dte</th>\n",
       "    </tr>\n",
       "    <tr>\n",
       "      <th>date_time</th>\n",
       "      <th></th>\n",
       "      <th></th>\n",
       "      <th></th>\n",
       "      <th></th>\n",
       "      <th></th>\n",
       "      <th></th>\n",
       "      <th></th>\n",
       "      <th></th>\n",
       "      <th></th>\n",
       "      <th></th>\n",
       "    </tr>\n",
       "  </thead>\n",
       "  <tbody>\n",
       "    <tr>\n",
       "      <th>2024-01-01 09:17:00</th>\n",
       "      <td>SENSEX</td>\n",
       "      <td>72100PE</td>\n",
       "      <td>405.35</td>\n",
       "      <td>427.15</td>\n",
       "      <td>400.05</td>\n",
       "      <td>427.15</td>\n",
       "      <td>4510</td>\n",
       "      <td>0</td>\n",
       "      <td>2024-01-05</td>\n",
       "      <td>4</td>\n",
       "    </tr>\n",
       "    <tr>\n",
       "      <th>2024-01-01 09:18:00</th>\n",
       "      <td>SENSEX</td>\n",
       "      <td>72100PE</td>\n",
       "      <td>423.55</td>\n",
       "      <td>434.15</td>\n",
       "      <td>420.45</td>\n",
       "      <td>429.90</td>\n",
       "      <td>1710</td>\n",
       "      <td>0</td>\n",
       "      <td>2024-01-05</td>\n",
       "      <td>4</td>\n",
       "    </tr>\n",
       "    <tr>\n",
       "      <th>2024-01-01 09:19:00</th>\n",
       "      <td>SENSEX</td>\n",
       "      <td>72100PE</td>\n",
       "      <td>428.40</td>\n",
       "      <td>442.70</td>\n",
       "      <td>422.05</td>\n",
       "      <td>439.00</td>\n",
       "      <td>4590</td>\n",
       "      <td>0</td>\n",
       "      <td>2024-01-05</td>\n",
       "      <td>4</td>\n",
       "    </tr>\n",
       "    <tr>\n",
       "      <th>2024-01-01 09:20:00</th>\n",
       "      <td>SENSEX</td>\n",
       "      <td>72100PE</td>\n",
       "      <td>440.00</td>\n",
       "      <td>452.95</td>\n",
       "      <td>431.00</td>\n",
       "      <td>444.10</td>\n",
       "      <td>6610</td>\n",
       "      <td>0</td>\n",
       "      <td>2024-01-05</td>\n",
       "      <td>4</td>\n",
       "    </tr>\n",
       "  </tbody>\n",
       "</table>\n",
       "</div>"
      ],
      "text/plain": [
       "                      index    scrip    open    high     low   close  volume  \\\n",
       "date_time                                                                      \n",
       "2024-01-01 09:17:00  SENSEX  72100PE  405.35  427.15  400.05  427.15    4510   \n",
       "2024-01-01 09:18:00  SENSEX  72100PE  423.55  434.15  420.45  429.90    1710   \n",
       "2024-01-01 09:19:00  SENSEX  72100PE  428.40  442.70  422.05  439.00    4590   \n",
       "2024-01-01 09:20:00  SENSEX  72100PE  440.00  452.95  431.00  444.10    6610   \n",
       "\n",
       "                     openinterest expiry_date  dte  \n",
       "date_time                                           \n",
       "2024-01-01 09:17:00             0  2024-01-05    4  \n",
       "2024-01-01 09:18:00             0  2024-01-05    4  \n",
       "2024-01-01 09:19:00             0  2024-01-05    4  \n",
       "2024-01-01 09:20:00             0  2024-01-05    4  "
      ]
     },
     "execution_count": 50,
     "metadata": {},
     "output_type": "execute_result"
    }
   ],
   "source": [
    "pe_data.head(4)"
   ]
  },
  {
   "cell_type": "code",
   "execution_count": 51,
   "id": "15bf2b5b",
   "metadata": {},
   "outputs": [
    {
     "data": {
      "text/plain": [
       "(535.0, 427.15)"
      ]
     },
     "execution_count": 51,
     "metadata": {},
     "output_type": "execute_result"
    }
   ],
   "source": [
    "ce_price = ce_data.loc[entry_time, 'close']\n",
    "pe_price = pe_data.loc[entry_time, 'close']\n",
    "ce_price,pe_price"
   ]
  },
  {
   "cell_type": "code",
   "execution_count": 52,
   "id": "92ec401a",
   "metadata": {},
   "outputs": [
    {
     "data": {
      "text/plain": [
       "(642.0, 512.5799999999999)"
      ]
     },
     "execution_count": 52,
     "metadata": {},
     "output_type": "execute_result"
    }
   ],
   "source": [
    "# Calculate CE and PE stop loss prices as sl percentage above their entry prices\n",
    "ce_sl_price = ce_price + ((ce_price * sl) / 100)\n",
    "pe_sl_price = pe_price + ((pe_price * sl) / 100)\n",
    "\n",
    "ce_sl_price, pe_sl_price"
   ]
  },
  {
   "cell_type": "code",
   "execution_count": 53,
   "id": "44597f21",
   "metadata": {},
   "outputs": [
    {
     "name": "stdout",
     "output_type": "stream",
     "text": [
      "CE SL hit time: 2024-01-01 13:50:00\n",
      "PE SL hit time: NaT\n"
     ]
    }
   ],
   "source": [
    "# Find the first time CE or PE hits their respective stop loss price\n",
    "ce_hit_time = ce_data[ce_data['high'] >= ce_sl_price].index.min()\n",
    "pe_hit_time = pe_data[pe_data['high'] >= pe_sl_price].index.min()\n",
    "\n",
    "print(\"CE SL hit time:\", ce_hit_time)\n",
    "print(\"PE SL hit time:\", pe_hit_time)"
   ]
  },
  {
   "cell_type": "code",
   "execution_count": null,
   "id": "7fec1823",
   "metadata": {},
   "outputs": [
    {
     "name": "stdout",
     "output_type": "stream",
     "text": [
      "CE PnL: -107.0\n",
      "PE PnL: -135.39999999999998\n",
      "Total PnL: -242.39999999999998\n"
     ]
    },
    {
     "name": "stderr",
     "output_type": "stream",
     "text": [
      "C:\\Users\\ankit\\AppData\\Local\\Temp\\ipykernel_3852\\3917036277.py:30: UserWarning: Boolean Series key will be reindexed to match DataFrame index.\n",
      "  pe_ut_hit_time = pe_data.loc[first_hit_time:][pe_data['high'] >= pe_ut_sl_price].index.min()\n"
     ]
    }
   ],
   "source": [
    "# Calculate PnL based on SL hit logic for CE and PE\n",
    "ce_pnl = None\n",
    "pe_pnl = None\n",
    "\n",
    "try:\n",
    "    # Check which SL hit first (if any)\n",
    "    if pd.notna(ce_hit_time) and pd.notna(pe_hit_time):\n",
    "        # Both SL hit, take the earlier one\n",
    "        if ce_hit_time <= pe_hit_time:\n",
    "            first_sl = 'ce'\n",
    "            first_hit_time = ce_hit_time\n",
    "        else:\n",
    "            first_sl = 'pe'\n",
    "            first_hit_time = pe_hit_time\n",
    "    elif pd.notna(ce_hit_time):\n",
    "        first_sl = 'ce'\n",
    "        first_hit_time = ce_hit_time\n",
    "    elif pd.notna(pe_hit_time):\n",
    "        first_sl = 'pe'\n",
    "        first_hit_time = pe_hit_time\n",
    "    else:\n",
    "        first_sl = None\n",
    "        first_hit_time = None\n",
    "\n",
    "    if first_sl == 'ce':\n",
    "        ce_pnl = ce_price - ce_sl_price\n",
    "        # Modify PE SL to ut_sl% above pe_price from ce_hit_time onwards\n",
    "        pe_ut_sl_price = pe_price + ((pe_price * ut_sl) / 100)\n",
    "        pe_ut_hit_time = pe_data.loc[first_hit_time:][pe_data['high'] >= pe_ut_sl_price].index.min()\n",
    "        if pd.notna(pe_ut_hit_time):\n",
    "            pe_exit_price = pe_data.loc[pe_ut_hit_time, 'close']\n",
    "        else:\n",
    "            pe_exit_price = pe_data.loc[exit_time, 'close']\n",
    "        pe_pnl = pe_exit_price - pe_price\n",
    "\n",
    "    elif first_sl == 'pe':\n",
    "        pe_pnl = pe_price - pe_sl_price\n",
    "        # Modify CE SL to ut_sl% above ce_price from pe_hit_time onwards\n",
    "        ce_ut_sl_price = ce_price + ((ce_price * ut_sl) / 100)\n",
    "        ce_ut_hit_time = ce_data.loc[first_hit_time:][ce_data['high'] >= ce_ut_sl_price].index.min()\n",
    "        if pd.notna(ce_ut_hit_time):\n",
    "            ce_exit_price = ce_data.loc[ce_ut_hit_time, 'close']\n",
    "        else:\n",
    "            ce_exit_price = ce_data.loc[exit_time, 'close']\n",
    "        ce_pnl = ce_exit_price - ce_price\n",
    "\n",
    "    else:\n",
    "        # Neither SL hit, exit at exit_time\n",
    "        ce_exit_price = ce_data.loc[exit_time, 'close']\n",
    "        pe_exit_price = pe_data.loc[exit_time, 'close']\n",
    "        ce_pnl = ce_exit_price - ce_price\n",
    "        pe_pnl = pe_exit_price - pe_price\n",
    "\n",
    "except Exception as e:\n",
    "    print(\"Error in PnL calculation:\", e)\n",
    "\n",
    "print(\"CE PnL:\", ce_pnl)\n",
    "print(\"PE PnL:\", pe_pnl)\n",
    "print(\"Total PnL:\", (ce_pnl if ce_pnl is not None else 0) + (pe_pnl if pe_pnl is not None else 0))\n"
   ]
  },
  {
   "cell_type": "code",
   "execution_count": 59,
   "id": "f35d5ea7",
   "metadata": {},
   "outputs": [
    {
     "data": {
      "text/plain": [
       "pandas._libs.tslibs.timestamps.Timestamp"
      ]
     },
     "execution_count": 59,
     "metadata": {},
     "output_type": "execute_result"
    }
   ],
   "source": [
    "type(entry_time)"
   ]
  },
  {
   "cell_type": "code",
   "execution_count": null,
   "id": "a405c312",
   "metadata": {},
   "outputs": [],
   "source": [
    "def b120(fut:pd.DataFrame, opt:pd.DataFrame, sl:int, ut_sl:int, entry_time:pd.Timestamp, exit_time:pd.Timestamp) -> Tuple[int, int, int]:\n",
    "    # Find future close at entry and round to nearest 100\n",
    "    fut_close_entry = fut.loc[entry_time, 'close']\n",
    "    fut_close_entry = round(fut_close_entry / 100) * 100\n",
    "\n",
    "    ce_strike = f\"{int(fut_close_entry)}CE\"\n",
    "    pe_strike = f\"{int(fut_close_entry)}PE\"\n",
    "\n",
    "    ce_data = opt[(opt['scrip'] == ce_strike)].loc[entry_time:exit_time]\n",
    "    pe_data = opt[(opt['scrip'] == pe_strike)].loc[entry_time:exit_time]\n",
    "\n",
    "    ce_price = ce_data.loc[entry_time, 'close']\n",
    "    pe_price = pe_data.loc[entry_time, 'close']\n",
    "\n",
    "    ce_sl_price = ce_price + ((ce_price * sl) / 100)\n",
    "    pe_sl_price = pe_price + ((pe_price * sl) / 100)\n",
    "\n",
    "    ce_hit_time = ce_data[ce_data['high'] >= ce_sl_price].index.min()\n",
    "    pe_hit_time = pe_data[pe_data['high'] >= pe_sl_price].index.min()\n",
    "\n",
    "    ce_pnl = None\n",
    "    pe_pnl = None\n",
    "\n",
    "    try:\n",
    "        if pd.notna(ce_hit_time) and pd.notna(pe_hit_time):\n",
    "            if ce_hit_time <= pe_hit_time:\n",
    "                first_sl = 'ce'\n",
    "                first_hit_time = ce_hit_time\n",
    "            else:\n",
    "                first_sl = 'pe'\n",
    "                first_hit_time = pe_hit_time\n",
    "        elif pd.notna(ce_hit_time):\n",
    "            first_sl = 'ce'\n",
    "            first_hit_time = ce_hit_time\n",
    "        elif pd.notna(pe_hit_time):\n",
    "            first_sl = 'pe'\n",
    "            first_hit_time = pe_hit_time\n",
    "        else:\n",
    "            first_sl = None\n",
    "            first_hit_time = None\n",
    "\n",
    "        if first_sl == 'ce':\n",
    "            ce_pnl = ce_price - ce_sl_price\n",
    "            pe_ut_sl_price = pe_price + ((pe_price * ut_sl) / 100)\n",
    "            pe_ut_hit_time = pe_data.loc[first_hit_time:][pe_data['high'] >= pe_ut_sl_price].index.min()\n",
    "\n",
    "            if pd.notna(pe_ut_hit_time):\n",
    "                pe_exit_price = pe_data.loc[pe_ut_hit_time, 'close']\n",
    "            else:\n",
    "                pe_exit_price = pe_data.loc[exit_time, 'close']\n",
    "            pe_pnl = pe_exit_price - pe_price\n",
    "\n",
    "        elif first_sl == 'pe':\n",
    "            pe_pnl = pe_price - pe_sl_price\n",
    "            ce_ut_sl_price = ce_price + ((ce_price * ut_sl) / 100)\n",
    "            ce_ut_hit_time = ce_data.loc[first_hit_time:][ce_data['high'] >= ce_ut_sl_price].index.min()\n",
    "\n",
    "            if pd.notna(ce_ut_hit_time):\n",
    "                ce_exit_price = ce_data.loc[ce_ut_hit_time, 'close']\n",
    "            else:\n",
    "                ce_exit_price = ce_data.loc[exit_time, 'close']\n",
    "            ce_pnl = ce_exit_price - ce_price\n",
    "\n",
    "        else:\n",
    "            ce_exit_price = ce_data.loc[exit_time, 'close']\n",
    "            pe_exit_price = pe_data.loc[exit_time, 'close']\n",
    "            ce_pnl = ce_exit_price - ce_price\n",
    "            pe_pnl = pe_exit_price - pe_price\n",
    "\n",
    "    except Exception as e:\n",
    "        print(\"Error in PnL calculation:\", e)\n",
    "        return None\n",
    "\n",
    "    total_pnl = (ce_pnl if ce_pnl is not None else 0) + (pe_pnl if pe_pnl is not None else 0)\n",
    "    return ce_pnl, pe_pnl, total_pnl "
   ]
  },
  {
   "cell_type": "code",
   "execution_count": null,
   "id": "72c6b7b6",
   "metadata": {},
   "outputs": [
    {
     "name": "stderr",
     "output_type": "stream",
     "text": [
      "C:\\Users\\ankit\\AppData\\Local\\Temp\\ipykernel_3852\\3197136863.py:45: UserWarning: Boolean Series key will be reindexed to match DataFrame index.\n",
      "  pe_ut_hit_time = pe_data.loc[first_hit_time:][pe_data['high'] >= pe_ut_sl_price].index.min()\n"
     ]
    },
    {
     "data": {
      "text/plain": [
       "-242.39999999999998"
      ]
     },
     "execution_count": 58,
     "metadata": {},
     "output_type": "execute_result"
    }
   ],
   "source": [
    "b120(fut,opt,sl,ut_sl,entry_time,exit_time)"
   ]
  },
  {
   "cell_type": "code",
   "execution_count": 1,
   "id": "8fbcc0a7",
   "metadata": {},
   "outputs": [
    {
     "data": {
      "text/plain": [
       "8"
      ]
     },
     "execution_count": 1,
     "metadata": {},
     "output_type": "execute_result"
    }
   ],
   "source": [
    "import os\n",
    "os.cpu_count()"
   ]
  },
  {
   "cell_type": "code",
   "execution_count": null,
   "id": "aeb11f7d",
   "metadata": {},
   "outputs": [],
   "source": []
  }
 ],
 "metadata": {
  "kernelspec": {
   "display_name": "Python 3",
   "language": "python",
   "name": "python3"
  },
  "language_info": {
   "codemirror_mode": {
    "name": "ipython",
    "version": 3
   },
   "file_extension": ".py",
   "mimetype": "text/x-python",
   "name": "python",
   "nbconvert_exporter": "python",
   "pygments_lexer": "ipython3",
   "version": "3.13.7"
  }
 },
 "nbformat": 4,
 "nbformat_minor": 5
}
