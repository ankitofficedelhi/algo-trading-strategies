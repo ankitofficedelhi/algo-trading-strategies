{
 "cells": [
  {
   "cell_type": "markdown",
   "id": "6f5f505e",
   "metadata": {},
   "source": [
    "### SRE strategy"
   ]
  },
  {
   "cell_type": "code",
   "execution_count": 3,
   "id": "081f4dab",
   "metadata": {},
   "outputs": [],
   "source": [
    "import pandas as pd\n",
    "import numpy as np\n"
   ]
  },
  {
   "cell_type": "code",
   "execution_count": 3,
   "id": "a754d911",
   "metadata": {},
   "outputs": [],
   "source": [
    "# fut = pd.read_pickle(\"C:\\\\PICKLE\\\\Nifty Future\\\\2019-02-11_nifty_future.pkl\").set_index(\"date_time\")\n",
    "# fut.index = pd.to_datetime(fut.index)\n",
    "# opt = pd.read_pickle(\"C:\\\\PICKLE\\\\Nifty Options\\\\2019-02-11_nifty.pkl\").set_index(\"date_time\")\n",
    "# opt.index = pd.to_datetime(opt.index)"
   ]
  },
  {
   "cell_type": "code",
   "execution_count": 53,
   "id": "37cec9aa",
   "metadata": {},
   "outputs": [],
   "source": [
    "fut = pd.read_pickle(\"C:\\\\PICKLE\\\\BN Future\\\\2025-08-04_banknifty_future.pkl\").set_index(\"date_time\")\n",
    "fut.index = pd.to_datetime(fut.index)\n",
    "opt = pd.read_pickle(\"C:\\\\PICKLE\\\\BN Options\\\\2025-08-04_banknifty.pkl\").set_index(\"date_time\")\n",
    "opt.index = pd.to_datetime(opt.index)"
   ]
  },
  {
   "cell_type": "code",
   "execution_count": 54,
   "id": "120bbb04",
   "metadata": {},
   "outputs": [],
   "source": [
    "entry_time = pd.to_datetime(\"2025-08-04 09:20:00\")\n",
    "exit_time = pd.to_datetime(\"2025-08-04 15:25:00\")\n",
    "sl =  10\n",
    "intra_sl = 20\n",
    "om = 0.1"
   ]
  },
  {
   "cell_type": "code",
   "execution_count": 55,
   "id": "2d30d613",
   "metadata": {},
   "outputs": [],
   "source": [
    "# import pandas as pd\n",
    "def get_one_om(future_price,fpt,step):\n",
    "    future_price = fpt['close'].iloc[0] if future_price is None else future_price\n",
    "\n",
    "    return ((int(future_price/step)*step)/100)\n",
    "\n",
    "def get_strangle_strike(start_dt,end_dt,opt:pd.DataFrame,fpt:pd.DataFrame,step:int,om=0,target = False,tf = 1):\n",
    "\n",
    "    valid_times = fpt.loc[start_dt:end_dt].index\n",
    "    for current_dt in valid_times:\n",
    "        # om , target ,tf= 1 , 1,1\n",
    "        future_price = fpt.loc[current_dt,'close']\n",
    "        one_om = get_one_om(future_price,fpt,step)\n",
    "        target = one_om * om if target is None else target\n",
    "        # opt[(opt.index==current_dt)]\n",
    "        target_od = opt[(opt.index==current_dt)&(opt['close']>=target*tf)].sort_values(by=['close']).copy()\n",
    "\n",
    "        ce_scrip = target_od.loc[target_od['scrip'].str.endswith('CE'),'scrip'].iloc[0]\n",
    "        pe_scrip = target_od.loc[target_od['scrip'].str.endswith('PE'),'scrip'].iloc[0]\n",
    "        ce_scrip_list = [ce_scrip,f\"{int(ce_scrip[:-2])-step}CE\",f\"{int(ce_scrip[:-2])+step}CE\"]\n",
    "        pe_scrip_list = [pe_scrip,f\"{int(pe_scrip[:-2])-step}PE\",f\"{int(pe_scrip[:-2])+step}PE\"]\n",
    "\n",
    "        call_list_prices, put_list_prices = [], []\n",
    "        for z in range(3):\n",
    "            try:\n",
    "                call_list_prices.append(opt[opt['scrip'] == ce_scrip_list[z]].loc[current_dt, 'close'])\n",
    "            except:\n",
    "                call_list_prices.append(0)\n",
    "            try:\n",
    "                put_list_prices.append(opt[opt['scrip'] == pe_scrip_list[z]].loc[current_dt, 'close'])\n",
    "            except:\n",
    "                put_list_prices.append(0)\n",
    "        call,put,min_diff = call_list_prices[0],put_list_prices[0],float('inf')\n",
    "        target_2, target_3 = target*2*tf, target*3\n",
    "\n",
    "        diff = abs(put-call)\n",
    "        required_call, required_put = None, None\n",
    "        if (put+call >= target_2) & (min_diff > diff) & (put+call <= target_3):\n",
    "            min_diff = diff\n",
    "            required_call, required_put = call, put\n",
    "\n",
    "        for i in range(1,3):\n",
    "            if (min_diff > abs(put_list_prices[i] - call)) & (put_list_prices[i]+call >= target_2) & (put_list_prices[i]+call <= target_3):\n",
    "                min_diff = abs(put_list_prices[i] - call)\n",
    "                required_call, required_put = call, put_list_prices[i]\n",
    "            if (min_diff > abs(call_list_prices[i] - put)) & (call_list_prices[i]+put >= target_2) & (call_list_prices[i]+put <= target_3):\n",
    "                min_diff = abs(call_list_prices[i] - put)\n",
    "                required_call, required_put = call_list_prices[i], put\n",
    "\n",
    "        ce_scrip, pe_scrip = ce_scrip_list[call_list_prices.index(required_call)], pe_scrip_list[put_list_prices.index(required_put)]\n",
    "        ce_price, pe_price = opt[opt['scrip'] == ce_scrip].loc[current_dt, 'close'], opt[opt['scrip'] == pe_scrip].loc[current_dt, 'close']\n",
    "            \n",
    "\n",
    "        return ce_scrip,pe_scrip,ce_price,pe_price\n",
    "       "
   ]
  },
  {
   "cell_type": "code",
   "execution_count": 56,
   "id": "6f5a6e67",
   "metadata": {},
   "outputs": [
    {
     "data": {
      "text/plain": [
       "(np.float64(59.3), np.float64(59.2), '58400CE', '52700PE')"
      ]
     },
     "execution_count": 56,
     "metadata": {},
     "output_type": "execute_result"
    }
   ],
   "source": [
    "ce_scrip,pe_scrip,ce_price,pe_price = get_strangle_strike(entry_time,exit_time,opt,fut,100,om=om,target = None,tf = 1)\n",
    "ce_price,pe_price,ce_scrip,pe_scrip"
   ]
  },
  {
   "cell_type": "code",
   "execution_count": 57,
   "id": "2c5c9359",
   "metadata": {},
   "outputs": [],
   "source": [
    "opt = opt.loc[entry_time:exit_time]\n",
    "ce_data = opt[(opt['scrip'] == ce_scrip) ]\n",
    "pe_data = opt[(opt['scrip'] == pe_scrip) ]"
   ]
  },
  {
   "cell_type": "code",
   "execution_count": 58,
   "id": "be552e0e",
   "metadata": {},
   "outputs": [
    {
     "data": {
      "text/plain": [
       "(np.float64(127.98), np.float64(118.5), np.float64(142.2))"
      ]
     },
     "execution_count": 58,
     "metadata": {},
     "output_type": "execute_result"
    }
   ],
   "source": [
    "sl =  8\n",
    "intra_sl = 20\n",
    "ce_pe_price = ce_price+pe_price\n",
    "sl_price = ce_pe_price*(1+sl/100)\n",
    "intra_sl_price = ce_pe_price*(1+intra_sl/100)\n",
    "sl_price,ce_pe_price ,intra_sl_price"
   ]
  },
  {
   "cell_type": "code",
   "execution_count": 72,
   "id": "881ed4a4",
   "metadata": {},
   "outputs": [],
   "source": [
    "def check_sl_hit(ce_data,pe_data,sl_price,intra_sl_price):\n",
    "    try:\n",
    "        sl_time = ce_data[ce_data.close +  pe_data.close >= sl_price].index[0]\n",
    "    except:\n",
    "        sl_time = None\n",
    "    try:\n",
    "        intra_sl_time = ce_data[np.maximum(ce_data.high + pe_data.low, ce_data.low + pe_data.high )>= intra_sl_price ].index[0]\n",
    "        \n",
    "    except:\n",
    "        intra_sl_time = None\n",
    "\n",
    "    return sl_time,intra_sl_time\n"
   ]
  },
  {
   "cell_type": "code",
   "execution_count": null,
   "id": "4bcf0b48",
   "metadata": {},
   "outputs": [],
   "source": [
    "def calculate_sl_intra(entry_time):\n",
    "    ce_pe_price = ce_data.loc[entry_time,'close']+pe_data.loc[entry_time,'close']\n",
    "    sl =  8\n",
    "    intra_sl = 20\n",
    "    sl_price = ce_pe_price*(1+sl/100)\n",
    "    intra_sl_price = ce_pe_price*(1+intra_sl/100)\n",
    "    \n",
    "    return sl_price,ce_pe_price ,intra_sl_price\n"
   ]
  },
  {
   "cell_type": "code",
   "execution_count": 61,
   "id": "02774294",
   "metadata": {},
   "outputs": [
    {
     "data": {
      "text/plain": [
       "(Timestamp('2025-08-04 09:48:00'), None)"
      ]
     },
     "execution_count": 61,
     "metadata": {},
     "output_type": "execute_result"
    }
   ],
   "source": [
    "sl_time,intra_sl_time = check_sl_hit(ce_data,pe_data,sl_price,intra_sl_price)\n",
    "sl_time,intra_sl_time"
   ]
  },
  {
   "cell_type": "code",
   "execution_count": null,
   "id": "d55906c2",
   "metadata": {},
   "outputs": [
    {
     "name": "stdout",
     "output_type": "stream",
     "text": [
      "SL HIT :  2025-08-04 09:48:00\n",
      "pnl  -9.480000000000004\n",
      "total pnl  -9.480000000000004\n",
      "next trade hit\n",
      "SL NOT HIT -9.480000000000004\n",
      "pnl at exit 22.849999999999994\n",
      "total pnl  13.36999999999999\n"
     ]
    }
   ],
   "source": [
    "total_pnl=0\n",
    "sl_time,intra_sl_time = check_sl_hit(ce_data,pe_data,sl_price,intra_sl_price)\n",
    "while True:\n",
    "\n",
    "    if sl_time is None and intra_sl_time is None:\n",
    "        print(\"SL NOT HIT\", total_pnl )\n",
    "        exit_ce_pe = ce_data.loc[exit_time,'close'] + pe_data.loc[exit_time,'close']\n",
    "        pnl = ce_pe_price - exit_ce_pe\n",
    "        print(\"pnl at exit\", pnl)\n",
    "        total_pnl += pnl\n",
    "        print(\"total pnl \",total_pnl) \n",
    "        break\n",
    "\n",
    "    elif(sl_time is not None and intra_sl_time is not None):\n",
    "        if sl_time < intra_sl_time:\n",
    "            print(\"SL HIT : \", sl_time)\n",
    "            pnl = ce_pe_price - sl_price\n",
    "            total_pnl +=pnl\n",
    "            print(\"pnl \",pnl)\n",
    "            print('total pnl ',total_pnl)\n",
    "            entry_time = sl_time            \n",
    "            sl_price,ce_pe_price ,intra_sl_price = calculate_sl_intra(entry_time)\n",
    "\n",
    "            sl_time,intra_sl_time = check_sl_hit(ce_data,pe_data,sl_price,intra_sl_price)\n",
    "            print(\"next trade hit\")\n",
    "        else:\n",
    "            print(\"INTRA SL HIT \",intra_sl)\n",
    "            pnl = ce_pe_price - intra_sl_price\n",
    "            print(pnl)\n",
    "            break\n",
    "    elif sl_time is not None and intra_sl_time is None:\n",
    "        \n",
    "        print(\"SL HIT : \", sl_time)\n",
    "        pnl = ce_pe_price - sl_price\n",
    "        total_pnl +=pnl\n",
    "        print(\"pnl \",pnl)\n",
    "        print('total pnl ',total_pnl)\n",
    "        entry_time = sl_time            \n",
    "        sl_price,ce_pe_price ,intra_sl_price = calculate_sl_intra(entry_time)\n",
    "        sl_time,intra_sl_time = check_sl_hit(ce_data,pe_data,sl_price,intra_sl_price)\n",
    "        print(\"next trade hit\")\n",
    "         "
   ]
  },
  {
   "cell_type": "code",
   "execution_count": null,
   "id": "2d3cb381",
   "metadata": {},
   "outputs": [],
   "source": [
    "pd.DataFrame(np.maximum(ce_data.high + pe_data.low, ce_data.low + pe_data.high ) )"
   ]
  },
  {
   "cell_type": "code",
   "execution_count": 63,
   "id": "5ca28573",
   "metadata": {},
   "outputs": [],
   "source": [
    "def calculate_sl_intra(entry_time,sl,intra_sl):\n",
    "    ce_pe_price = ce_data.loc[entry_time,'close']+pe_data.loc[entry_time,'close']\n",
    "\n",
    "    sl_price = ce_pe_price*(1+sl/100)\n",
    "    intra_sl_price = ce_pe_price*(1+intra_sl/100)\n",
    "    return sl_price,ce_pe_price ,intra_sl_price\n"
   ]
  },
  {
   "cell_type": "code",
   "execution_count": 67,
   "id": "80cca431",
   "metadata": {},
   "outputs": [],
   "source": [
    "def backtest_strategy(opt, fut, entry_time, exit_time, ce_scrip, pe_scrip, sl, intra_sl):\n",
    "    \n",
    "    fut = pd.read_pickle(\"C:\\\\PICKLE\\\\BN Future\\\\2025-08-04_banknifty_future.pkl\").set_index(\"date_time\")\n",
    "    fut.index = pd.to_datetime(fut.index)\n",
    "    opt = pd.read_pickle(\"C:\\\\PICKLE\\\\BN Options\\\\2025-08-04_banknifty.pkl\").set_index(\"date_time\")\n",
    "    opt.index = pd.to_datetime(opt.index)\n",
    "\n",
    "    ce_scrip,pe_scrip,ce_price,pe_price = get_strangle_strike(entry_time,exit_time,opt,fut,100,om=om,target = None,tf = 1)\n",
    "\n",
    "    opt = opt.loc[entry_time:exit_time]\n",
    "    ce_data = opt[(opt['scrip'] == ce_scrip) ]\n",
    "    pe_data = opt[(opt['scrip'] == pe_scrip) ]\n",
    "  \n",
    "    sl_price,ce_pe_price ,intra_sl_price = calculate_sl_intra(entry_time,sl,intra_sl)\n",
    "    # print(\"price sl , ce_pe\",sl_price,ce_pe_price)\n",
    "    \n",
    "    total_pnl=0\n",
    "    \n",
    "    sl_time,intra_sl_time = check_sl_hit(ce_data,pe_data,sl_price,intra_sl_price)\n",
    "    # print(\"sl_hit\" , sl_time,intra_sl_time)\n",
    "    next_hit = False\n",
    "    while True:\n",
    "        if sl_time is None and intra_sl_time is None:\n",
    "            print(\"SL NOT HIT\", total_pnl )\n",
    "            exit_ce_pe = ce_data.loc[exit_time,'close'] + pe_data.loc[exit_time,'close']\n",
    "            pnl = ce_pe_price - exit_ce_pe\n",
    "            print(\"pnl at exit\", pnl)\n",
    "            total_pnl += pnl\n",
    "            print(\"total pnl \",total_pnl) \n",
    "            break\n",
    "\n",
    "        elif(sl_time is not None and intra_sl_time is not None):\n",
    "            if sl_time < intra_sl_time:\n",
    "                print(\"SL HIT : \", sl_time)\n",
    "                pnl = ce_pe_price - sl_price\n",
    "                total_pnl +=pnl\n",
    "                print(\"pnl \",pnl)\n",
    "                print('total pnl ',total_pnl)\n",
    "                \n",
    "                sl_price,ce_pe_price ,intra_sl_price = calculate_sl_intra(sl_time,sl,intra_sl)\n",
    "\n",
    "                sl_time,intra_sl_time = check_sl_hit(ce_data,pe_data,sl_price,intra_sl_price)\n",
    "                next_hit = False\n",
    "                print(\"next trade hit\")\n",
    "            else:\n",
    "                print(\"INTRA SL HIT \",intra_sl)\n",
    "                pnl = ce_pe_price - intra_sl_price\n",
    "                print(pnl)\n",
    "                break\n",
    "        elif sl_time is not None and intra_sl_time is None:\n",
    "            \n",
    "            print(\"SL HIT : \", sl_time)\n",
    "            pnl = ce_pe_price - sl_price\n",
    "            total_pnl +=pnl\n",
    "            print(\"pnl \",pnl)\n",
    "            print('total pnl ',total_pnl)\n",
    "            sl_price,ce_pe_price ,intra_sl_price = calculate_sl_intra(sl_time,sl,intra_sl)\n",
    "            sl_time,intra_sl_time = check_sl_hit(ce_data,pe_data,sl_price,intra_sl_price)\n",
    "            next_hit = False\n",
    "            print(\"next trade hit\")\n",
    "            \n",
    "\n",
    "    return {\"total_pnl\" : total_pnl,\n",
    "            \"next trade\" : next_hit\n",
    "    }\n",
    "\n",
    "    "
   ]
  },
  {
   "cell_type": "code",
   "execution_count": 71,
   "id": "64167bff",
   "metadata": {},
   "outputs": [
    {
     "name": "stdout",
     "output_type": "stream",
     "text": [
      "SL HIT :  2025-08-04 09:48:00\n",
      "pnl  -9.480000000000004\n",
      "total pnl  -9.480000000000004\n",
      "next trade hit\n",
      "SL NOT HIT -9.480000000000004\n",
      "pnl at exit 22.849999999999994\n",
      "total pnl  13.36999999999999\n"
     ]
    },
    {
     "data": {
      "text/plain": [
       "{'total_pnl': np.float64(13.36999999999999), 'next trade': False}"
      ]
     },
     "execution_count": 71,
     "metadata": {},
     "output_type": "execute_result"
    }
   ],
   "source": [
    "backtest_strategy(opt, fut,entry_time, exit_time, ce_scrip, pe_scrip, sl, intra_sl)"
   ]
  }
 ],
 "metadata": {
  "kernelspec": {
   "display_name": "Python 3",
   "language": "python",
   "name": "python3"
  },
  "language_info": {
   "codemirror_mode": {
    "name": "ipython",
    "version": 3
   },
   "file_extension": ".py",
   "mimetype": "text/x-python",
   "name": "python",
   "nbconvert_exporter": "python",
   "pygments_lexer": "ipython3",
   "version": "3.13.7"
  }
 },
 "nbformat": 4,
 "nbformat_minor": 5
}
