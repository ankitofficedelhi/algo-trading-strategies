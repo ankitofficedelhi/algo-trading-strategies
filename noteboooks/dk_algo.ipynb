{
 "cells": [
  {
   "cell_type": "code",
   "execution_count": null,
   "id": "c2e68aa9",
   "metadata": {},
   "outputs": [],
   "source": [
    "import pandas as pd\n",
    "import os\n"
   ]
  },
  {
   "cell_type": "code",
   "execution_count": 5,
   "id": "bdfbb1be",
   "metadata": {},
   "outputs": [],
   "source": [
    "fut = pd.read_csv(\"sensex_future.csv\").set_index(\"date_time\")\n",
    "fut.index = pd.to_datetime(fut.index)\n",
    "opt = pd.read_csv(\"sensex.csv\").set_index(\"date_time\")\n",
    "opt.index = pd.to_datetime(opt.index)"
   ]
  },
  {
   "cell_type": "code",
   "execution_count": 6,
   "id": "4dfa8ff2",
   "metadata": {},
   "outputs": [
    {
     "data": {
      "text/html": [
       "<div>\n",
       "<style scoped>\n",
       "    .dataframe tbody tr th:only-of-type {\n",
       "        vertical-align: middle;\n",
       "    }\n",
       "\n",
       "    .dataframe tbody tr th {\n",
       "        vertical-align: top;\n",
       "    }\n",
       "\n",
       "    .dataframe thead th {\n",
       "        text-align: right;\n",
       "    }\n",
       "</style>\n",
       "<table border=\"1\" class=\"dataframe\">\n",
       "  <thead>\n",
       "    <tr style=\"text-align: right;\">\n",
       "      <th></th>\n",
       "      <th>scrip</th>\n",
       "      <th>open</th>\n",
       "      <th>high</th>\n",
       "      <th>low</th>\n",
       "      <th>close</th>\n",
       "      <th>volume</th>\n",
       "      <th>openinterest</th>\n",
       "    </tr>\n",
       "    <tr>\n",
       "      <th>date_time</th>\n",
       "      <th></th>\n",
       "      <th></th>\n",
       "      <th></th>\n",
       "      <th></th>\n",
       "      <th></th>\n",
       "      <th></th>\n",
       "      <th></th>\n",
       "    </tr>\n",
       "  </thead>\n",
       "  <tbody>\n",
       "    <tr>\n",
       "      <th>2024-01-01 09:15:00</th>\n",
       "      <td>SENSEX-I</td>\n",
       "      <td>72218.39</td>\n",
       "      <td>72222.72</td>\n",
       "      <td>72104.77</td>\n",
       "      <td>72143.27</td>\n",
       "      <td>0</td>\n",
       "      <td>0</td>\n",
       "    </tr>\n",
       "    <tr>\n",
       "      <th>2024-01-01 09:16:00</th>\n",
       "      <td>SENSEX-I</td>\n",
       "      <td>72142.35</td>\n",
       "      <td>72159.23</td>\n",
       "      <td>72083.18</td>\n",
       "      <td>72087.38</td>\n",
       "      <td>0</td>\n",
       "      <td>0</td>\n",
       "    </tr>\n",
       "    <tr>\n",
       "      <th>2024-01-01 09:17:00</th>\n",
       "      <td>SENSEX-I</td>\n",
       "      <td>72089.73</td>\n",
       "      <td>72127.49</td>\n",
       "      <td>72089.73</td>\n",
       "      <td>72119.61</td>\n",
       "      <td>0</td>\n",
       "      <td>0</td>\n",
       "    </tr>\n",
       "    <tr>\n",
       "      <th>2024-01-01 09:18:00</th>\n",
       "      <td>SENSEX-I</td>\n",
       "      <td>72124.98</td>\n",
       "      <td>72132.88</td>\n",
       "      <td>72077.93</td>\n",
       "      <td>72103.10</td>\n",
       "      <td>0</td>\n",
       "      <td>0</td>\n",
       "    </tr>\n",
       "    <tr>\n",
       "      <th>2024-01-01 09:19:00</th>\n",
       "      <td>SENSEX-I</td>\n",
       "      <td>72101.84</td>\n",
       "      <td>72116.55</td>\n",
       "      <td>72064.69</td>\n",
       "      <td>72068.92</td>\n",
       "      <td>0</td>\n",
       "      <td>0</td>\n",
       "    </tr>\n",
       "  </tbody>\n",
       "</table>\n",
       "</div>"
      ],
      "text/plain": [
       "                        scrip      open      high       low     close  volume  \\\n",
       "date_time                                                                       \n",
       "2024-01-01 09:15:00  SENSEX-I  72218.39  72222.72  72104.77  72143.27       0   \n",
       "2024-01-01 09:16:00  SENSEX-I  72142.35  72159.23  72083.18  72087.38       0   \n",
       "2024-01-01 09:17:00  SENSEX-I  72089.73  72127.49  72089.73  72119.61       0   \n",
       "2024-01-01 09:18:00  SENSEX-I  72124.98  72132.88  72077.93  72103.10       0   \n",
       "2024-01-01 09:19:00  SENSEX-I  72101.84  72116.55  72064.69  72068.92       0   \n",
       "\n",
       "                     openinterest  \n",
       "date_time                          \n",
       "2024-01-01 09:15:00             0  \n",
       "2024-01-01 09:16:00             0  \n",
       "2024-01-01 09:17:00             0  \n",
       "2024-01-01 09:18:00             0  \n",
       "2024-01-01 09:19:00             0  "
      ]
     },
     "execution_count": 6,
     "metadata": {},
     "output_type": "execute_result"
    }
   ],
   "source": [
    "fut.head()"
   ]
  },
  {
   "cell_type": "code",
   "execution_count": 7,
   "id": "4ace85b0",
   "metadata": {},
   "outputs": [
    {
     "data": {
      "text/html": [
       "<div>\n",
       "<style scoped>\n",
       "    .dataframe tbody tr th:only-of-type {\n",
       "        vertical-align: middle;\n",
       "    }\n",
       "\n",
       "    .dataframe tbody tr th {\n",
       "        vertical-align: top;\n",
       "    }\n",
       "\n",
       "    .dataframe thead th {\n",
       "        text-align: right;\n",
       "    }\n",
       "</style>\n",
       "<table border=\"1\" class=\"dataframe\">\n",
       "  <thead>\n",
       "    <tr style=\"text-align: right;\">\n",
       "      <th></th>\n",
       "      <th>index</th>\n",
       "      <th>scrip</th>\n",
       "      <th>open</th>\n",
       "      <th>high</th>\n",
       "      <th>low</th>\n",
       "      <th>close</th>\n",
       "      <th>volume</th>\n",
       "      <th>openinterest</th>\n",
       "      <th>expiry_date</th>\n",
       "      <th>dte</th>\n",
       "    </tr>\n",
       "    <tr>\n",
       "      <th>date_time</th>\n",
       "      <th></th>\n",
       "      <th></th>\n",
       "      <th></th>\n",
       "      <th></th>\n",
       "      <th></th>\n",
       "      <th></th>\n",
       "      <th></th>\n",
       "      <th></th>\n",
       "      <th></th>\n",
       "      <th></th>\n",
       "    </tr>\n",
       "  </thead>\n",
       "  <tbody>\n",
       "    <tr>\n",
       "      <th>2024-01-01 09:15:00</th>\n",
       "      <td>SENSEX</td>\n",
       "      <td>74500CE</td>\n",
       "      <td>35.55</td>\n",
       "      <td>35.55</td>\n",
       "      <td>28.35</td>\n",
       "      <td>28.35</td>\n",
       "      <td>180</td>\n",
       "      <td>0</td>\n",
       "      <td>2024-01-05</td>\n",
       "      <td>4</td>\n",
       "    </tr>\n",
       "    <tr>\n",
       "      <th>2024-01-01 09:15:00</th>\n",
       "      <td>SENSEX</td>\n",
       "      <td>74300CE</td>\n",
       "      <td>36.80</td>\n",
       "      <td>38.85</td>\n",
       "      <td>36.80</td>\n",
       "      <td>37.25</td>\n",
       "      <td>100</td>\n",
       "      <td>0</td>\n",
       "      <td>2024-01-05</td>\n",
       "      <td>4</td>\n",
       "    </tr>\n",
       "    <tr>\n",
       "      <th>2024-01-01 09:15:00</th>\n",
       "      <td>SENSEX</td>\n",
       "      <td>74200CE</td>\n",
       "      <td>46.25</td>\n",
       "      <td>46.25</td>\n",
       "      <td>40.00</td>\n",
       "      <td>40.00</td>\n",
       "      <td>70</td>\n",
       "      <td>0</td>\n",
       "      <td>2024-01-05</td>\n",
       "      <td>4</td>\n",
       "    </tr>\n",
       "    <tr>\n",
       "      <th>2024-01-01 09:15:00</th>\n",
       "      <td>SENSEX</td>\n",
       "      <td>74100CE</td>\n",
       "      <td>57.35</td>\n",
       "      <td>57.35</td>\n",
       "      <td>47.25</td>\n",
       "      <td>47.25</td>\n",
       "      <td>120</td>\n",
       "      <td>0</td>\n",
       "      <td>2024-01-05</td>\n",
       "      <td>4</td>\n",
       "    </tr>\n",
       "    <tr>\n",
       "      <th>2024-01-01 09:15:00</th>\n",
       "      <td>SENSEX</td>\n",
       "      <td>74000CE</td>\n",
       "      <td>48.45</td>\n",
       "      <td>54.45</td>\n",
       "      <td>48.45</td>\n",
       "      <td>49.15</td>\n",
       "      <td>360</td>\n",
       "      <td>0</td>\n",
       "      <td>2024-01-05</td>\n",
       "      <td>4</td>\n",
       "    </tr>\n",
       "  </tbody>\n",
       "</table>\n",
       "</div>"
      ],
      "text/plain": [
       "                      index    scrip   open   high    low  close  volume  \\\n",
       "date_time                                                                  \n",
       "2024-01-01 09:15:00  SENSEX  74500CE  35.55  35.55  28.35  28.35     180   \n",
       "2024-01-01 09:15:00  SENSEX  74300CE  36.80  38.85  36.80  37.25     100   \n",
       "2024-01-01 09:15:00  SENSEX  74200CE  46.25  46.25  40.00  40.00      70   \n",
       "2024-01-01 09:15:00  SENSEX  74100CE  57.35  57.35  47.25  47.25     120   \n",
       "2024-01-01 09:15:00  SENSEX  74000CE  48.45  54.45  48.45  49.15     360   \n",
       "\n",
       "                     openinterest expiry_date  dte  \n",
       "date_time                                           \n",
       "2024-01-01 09:15:00             0  2024-01-05    4  \n",
       "2024-01-01 09:15:00             0  2024-01-05    4  \n",
       "2024-01-01 09:15:00             0  2024-01-05    4  \n",
       "2024-01-01 09:15:00             0  2024-01-05    4  \n",
       "2024-01-01 09:15:00             0  2024-01-05    4  "
      ]
     },
     "execution_count": 7,
     "metadata": {},
     "output_type": "execute_result"
    }
   ],
   "source": [
    "opt.head()"
   ]
  },
  {
   "cell_type": "code",
   "execution_count": 17,
   "id": "de83119d",
   "metadata": {},
   "outputs": [],
   "source": [
    "entry_time = pd.to_datetime(\"2024-01-01 09:20:00\")\n",
    "exit_time = pd.to_datetime(\"2024-01-01 15:00:00\")\n",
    "sl = 20\n",
    "dk = 20"
   ]
  },
  {
   "cell_type": "code",
   "execution_count": 9,
   "id": "06cbcb1f",
   "metadata": {},
   "outputs": [
    {
     "data": {
      "text/plain": [
       "np.float64(72043.13)"
      ]
     },
     "execution_count": 9,
     "metadata": {},
     "output_type": "execute_result"
    }
   ],
   "source": [
    "entry_close = fut.loc[entry_time, 'close']\n",
    "entry_close"
   ]
  },
  {
   "cell_type": "code",
   "execution_count": 10,
   "id": "7bb0e9b4",
   "metadata": {},
   "outputs": [
    {
     "data": {
      "text/plain": [
       "72000"
      ]
     },
     "execution_count": 10,
     "metadata": {},
     "output_type": "execute_result"
    }
   ],
   "source": [
    "fut_close_entry = round(entry_close / 100) * 100\n",
    "fut_close_entry"
   ]
  },
  {
   "cell_type": "code",
   "execution_count": 12,
   "id": "ea505805",
   "metadata": {},
   "outputs": [
    {
     "data": {
      "text/html": [
       "<div>\n",
       "<style scoped>\n",
       "    .dataframe tbody tr th:only-of-type {\n",
       "        vertical-align: middle;\n",
       "    }\n",
       "\n",
       "    .dataframe tbody tr th {\n",
       "        vertical-align: top;\n",
       "    }\n",
       "\n",
       "    .dataframe thead th {\n",
       "        text-align: right;\n",
       "    }\n",
       "</style>\n",
       "<table border=\"1\" class=\"dataframe\">\n",
       "  <thead>\n",
       "    <tr style=\"text-align: right;\">\n",
       "      <th></th>\n",
       "      <th>index</th>\n",
       "      <th>scrip</th>\n",
       "      <th>open</th>\n",
       "      <th>high</th>\n",
       "      <th>low</th>\n",
       "      <th>close</th>\n",
       "      <th>volume</th>\n",
       "      <th>openinterest</th>\n",
       "      <th>expiry_date</th>\n",
       "      <th>dte</th>\n",
       "    </tr>\n",
       "    <tr>\n",
       "      <th>date_time</th>\n",
       "      <th></th>\n",
       "      <th></th>\n",
       "      <th></th>\n",
       "      <th></th>\n",
       "      <th></th>\n",
       "      <th></th>\n",
       "      <th></th>\n",
       "      <th></th>\n",
       "      <th></th>\n",
       "      <th></th>\n",
       "    </tr>\n",
       "  </thead>\n",
       "  <tbody>\n",
       "    <tr>\n",
       "      <th>2024-01-01 09:15:00</th>\n",
       "      <td>SENSEX</td>\n",
       "      <td>72000CE</td>\n",
       "      <td>725.0</td>\n",
       "      <td>787.30</td>\n",
       "      <td>640.05</td>\n",
       "      <td>647.55</td>\n",
       "      <td>1070</td>\n",
       "      <td>0</td>\n",
       "      <td>2024-01-05</td>\n",
       "      <td>4</td>\n",
       "    </tr>\n",
       "    <tr>\n",
       "      <th>2024-01-01 09:16:00</th>\n",
       "      <td>SENSEX</td>\n",
       "      <td>72000CE</td>\n",
       "      <td>647.5</td>\n",
       "      <td>658.30</td>\n",
       "      <td>605.65</td>\n",
       "      <td>605.65</td>\n",
       "      <td>2440</td>\n",
       "      <td>0</td>\n",
       "      <td>2024-01-05</td>\n",
       "      <td>4</td>\n",
       "    </tr>\n",
       "    <tr>\n",
       "      <th>2024-01-01 09:17:00</th>\n",
       "      <td>SENSEX</td>\n",
       "      <td>72000CE</td>\n",
       "      <td>610.0</td>\n",
       "      <td>614.20</td>\n",
       "      <td>556.85</td>\n",
       "      <td>590.30</td>\n",
       "      <td>14300</td>\n",
       "      <td>0</td>\n",
       "      <td>2024-01-05</td>\n",
       "      <td>4</td>\n",
       "    </tr>\n",
       "    <tr>\n",
       "      <th>2024-01-01 09:18:00</th>\n",
       "      <td>SENSEX</td>\n",
       "      <td>72000CE</td>\n",
       "      <td>586.3</td>\n",
       "      <td>597.45</td>\n",
       "      <td>570.00</td>\n",
       "      <td>582.70</td>\n",
       "      <td>2480</td>\n",
       "      <td>0</td>\n",
       "      <td>2024-01-05</td>\n",
       "      <td>4</td>\n",
       "    </tr>\n",
       "    <tr>\n",
       "      <th>2024-01-01 09:19:00</th>\n",
       "      <td>SENSEX</td>\n",
       "      <td>72000CE</td>\n",
       "      <td>578.8</td>\n",
       "      <td>595.50</td>\n",
       "      <td>574.05</td>\n",
       "      <td>579.05</td>\n",
       "      <td>1710</td>\n",
       "      <td>0</td>\n",
       "      <td>2024-01-05</td>\n",
       "      <td>4</td>\n",
       "    </tr>\n",
       "  </tbody>\n",
       "</table>\n",
       "</div>"
      ],
      "text/plain": [
       "                      index    scrip   open    high     low   close  volume  \\\n",
       "date_time                                                                     \n",
       "2024-01-01 09:15:00  SENSEX  72000CE  725.0  787.30  640.05  647.55    1070   \n",
       "2024-01-01 09:16:00  SENSEX  72000CE  647.5  658.30  605.65  605.65    2440   \n",
       "2024-01-01 09:17:00  SENSEX  72000CE  610.0  614.20  556.85  590.30   14300   \n",
       "2024-01-01 09:18:00  SENSEX  72000CE  586.3  597.45  570.00  582.70    2480   \n",
       "2024-01-01 09:19:00  SENSEX  72000CE  578.8  595.50  574.05  579.05    1710   \n",
       "\n",
       "                     openinterest expiry_date  dte  \n",
       "date_time                                           \n",
       "2024-01-01 09:15:00             0  2024-01-05    4  \n",
       "2024-01-01 09:16:00             0  2024-01-05    4  \n",
       "2024-01-01 09:17:00             0  2024-01-05    4  \n",
       "2024-01-01 09:18:00             0  2024-01-05    4  \n",
       "2024-01-01 09:19:00             0  2024-01-05    4  "
      ]
     },
     "execution_count": 12,
     "metadata": {},
     "output_type": "execute_result"
    }
   ],
   "source": [
    "# Create CE and PE strike symbols based on fut_close_entry\n",
    "ce_strike = f\"{int(fut_close_entry)}CE\"\n",
    "pe_strike = f\"{int(fut_close_entry)}PE\"\n",
    "\n",
    "# Extract data for CE and PE from entry_time to exit_time\n",
    "ce_data = opt[(opt['scrip'] == ce_strike) ]\n",
    "pe_data = opt[(opt['scrip'] == pe_strike) ]\n",
    "\n",
    "ce_data.head()"
   ]
  },
  {
   "cell_type": "code",
   "execution_count": 15,
   "id": "3cece52e",
   "metadata": {},
   "outputs": [],
   "source": [
    "ce_data = ce_data.loc[entry_time:exit_time]\n",
    "pe_data = pe_data.loc[entry_time:exit_time]\n",
    "\n"
   ]
  },
  {
   "cell_type": "code",
   "execution_count": 16,
   "id": "a45dbc09",
   "metadata": {},
   "outputs": [
    {
     "data": {
      "text/plain": [
       "(np.float64(564.6), np.float64(402.8))"
      ]
     },
     "execution_count": 16,
     "metadata": {},
     "output_type": "execute_result"
    }
   ],
   "source": [
    "ce_price = ce_data.loc[entry_time, 'close']\n",
    "pe_price = pe_data.loc[entry_time, 'close']\n",
    "ce_price,pe_price"
   ]
  },
  {
   "cell_type": "code",
   "execution_count": 18,
   "id": "f45168f1",
   "metadata": {},
   "outputs": [
    {
     "data": {
      "text/plain": [
       "np.float64(677.52)"
      ]
     },
     "execution_count": 18,
     "metadata": {},
     "output_type": "execute_result"
    }
   ],
   "source": [
    "ce_price * (1 + dk / 100)"
   ]
  },
  {
   "cell_type": "code",
   "execution_count": 19,
   "id": "447714eb",
   "metadata": {},
   "outputs": [
    {
     "data": {
      "text/plain": [
       "np.float64(677.52)"
      ]
     },
     "execution_count": 19,
     "metadata": {},
     "output_type": "execute_result"
    }
   ],
   "source": [
    "ce_price  + (dk / 100) * ce_price"
   ]
  },
  {
   "cell_type": "code",
   "execution_count": 38,
   "id": "ae98e440",
   "metadata": {},
   "outputs": [
    {
     "data": {
      "text/plain": [
       "np.float64(564.6)"
      ]
     },
     "execution_count": 38,
     "metadata": {},
     "output_type": "execute_result"
    }
   ],
   "source": [
    "ce_price"
   ]
  },
  {
   "cell_type": "code",
   "execution_count": 39,
   "id": "d0d9f857",
   "metadata": {},
   "outputs": [],
   "source": [
    "dk_price = ce_price * (1 - dk / 100)\n",
    "sl_price = dk_price * (1 + sl / 100)"
   ]
  },
  {
   "cell_type": "code",
   "execution_count": 63,
   "id": "e4c33cbe",
   "metadata": {},
   "outputs": [
    {
     "data": {
      "text/plain": [
       "np.float64(564.6)"
      ]
     },
     "execution_count": 63,
     "metadata": {},
     "output_type": "execute_result"
    }
   ],
   "source": [
    "ce_price"
   ]
  },
  {
   "cell_type": "code",
   "execution_count": 40,
   "id": "3671e7cf",
   "metadata": {},
   "outputs": [
    {
     "data": {
      "text/plain": [
       "(np.float64(451.68000000000006), np.float64(542.0160000000001))"
      ]
     },
     "execution_count": 40,
     "metadata": {},
     "output_type": "execute_result"
    }
   ],
   "source": [
    "dk_price, sl_price"
   ]
  },
  {
   "cell_type": "code",
   "execution_count": 58,
   "id": "2287ad6e",
   "metadata": {},
   "outputs": [],
   "source": [
    "target_hit_time = ce_data[ce_data['low'] <= dk_price].index.min()\n"
   ]
  },
  {
   "cell_type": "code",
   "execution_count": 59,
   "id": "9a66737f",
   "metadata": {},
   "outputs": [
    {
     "data": {
      "text/plain": [
       "NaT"
      ]
     },
     "execution_count": 59,
     "metadata": {},
     "output_type": "execute_result"
    }
   ],
   "source": [
    "target_hit_time"
   ]
  },
  {
   "cell_type": "code",
   "execution_count": 60,
   "id": "775bd0be",
   "metadata": {},
   "outputs": [],
   "source": [
    "if pd.notna(target_hit_time) :\n",
    "    \n",
    "    sl_data = ce_data[ce_data.index >= target_hit_time]\n",
    "\n",
    "\n",
    "    sl_hit_time = sl_data[sl_data['high'] >= sl_price].index.min()\n",
    "\n",
    "    if (pd.isna(sl_hit_time) ):\n",
    "        exit_time = ce_data.index.max()\n",
    "        exit_price = ce_data.loc[exit_time, 'close']\n",
    "        trade_type = 'target'\n",
    "        pnl = exit_price - dk_price  # For sell side\n",
    "    else:\n",
    "        exit_time = sl_hit_time\n",
    "        exit_price =  sl_price\n",
    "        trade_type = 'stoploss'\n",
    "        pnl = dk_price - exit_price  # For sell side\n",
    "\n",
    "else :\n",
    "\n",
    "    target_hit_time = None\n",
    "    sl_hit_time = None\n",
    "    pnl = 0\n",
    "    exit_time = ce_data.index.max()"
   ]
  },
  {
   "cell_type": "code",
   "execution_count": 61,
   "id": "9b1ad3b7",
   "metadata": {},
   "outputs": [
    {
     "data": {
      "text/plain": [
       "(Timestamp('2024-01-01 09:20:00'),\n",
       " Timestamp('2024-01-01 15:00:00'),\n",
       " None,\n",
       " None,\n",
       " 'exit',\n",
       " 0)"
      ]
     },
     "execution_count": 61,
     "metadata": {},
     "output_type": "execute_result"
    }
   ],
   "source": [
    "entry_time, exit_time, target_hit_time, sl_hit_time, trade_type, pnl"
   ]
  },
  {
   "cell_type": "code",
   "execution_count": null,
   "id": "35656501",
   "metadata": {},
   "outputs": [
    {
     "name": "stdout",
     "output_type": "stream",
     "text": [
      "CE Trade Result: {'entry_price': np.float64(564.6), 'dk_price': np.float64(451.68000000000006), 'sl_price': np.float64(542.0160000000001), 'target_hit_time': None, 'sl_hit_time': None, 'trade_type': 'no_trade', 'pnl': 0}\n",
      "PE Trade Result: {'entry_price': np.float64(402.8), 'dk_price': np.float64(322.24), 'sl_price': np.float64(386.688), 'target_hit_time': None, 'sl_hit_time': None, 'trade_type': 'no_trade', 'pnl': 0}\n",
      "Total PnL: 0\n"
     ]
    }
   ],
   "source": [
    "def trade_strategy_fast(data, entry_time, exit_time, entry_price, dk, sl):\n",
    "    \"\"\"\n",
    "    Vectorized trade strategy for CE/PE options (SELL side).\n",
    "    \"\"\"\n",
    "    # Initial target and stoploss\n",
    "    dk_price = entry_price * (1 - dk / 100)\n",
    "    sl_price = dk_price * (1 + sl / 100)\n",
    "\n",
    "    # Slice data for the trading window\n",
    "    data_window = data.loc[entry_time:exit_time]\n",
    "\n",
    "    # Find first time target (dk) is hit\n",
    "    target_hit_time = data[data['low'] <= dk_price].index.min()\n",
    "\n",
    "\n",
    "    if pd.notna(target_hit_time) :\n",
    "    \n",
    "        sl_data = data_window[data_window.index >= target_hit_time]\n",
    "        sl_hit_time = sl_data[sl_data['high'] >= sl_price].index.min()\n",
    "\n",
    "        if (pd.isna(sl_hit_time) ):\n",
    "            exit_time = sl_data.index.max()\n",
    "            exit_price = sl_data.loc[exit_time, 'close']\n",
    "            trade_type = 'target'\n",
    "            pnl =  dk_price - exit_price  # For sell side\n",
    "        else:\n",
    "            exit_time = sl_hit_time\n",
    "            exit_price =  sl_price\n",
    "            trade_type = 'stoploss'\n",
    "            pnl = dk_price - exit_price  # For sell side\n",
    "\n",
    "    else :\n",
    "\n",
    "        target_hit_time = None\n",
    "        sl_hit_time = None\n",
    "        pnl = 0\n",
    "        exit_time = data.index.max()\n",
    "\n",
    "    return {\n",
    "        \"entry_price\": entry_price,\n",
    "        \"dk_price\": dk_price,\n",
    "        \"sl_price\": sl_price,\n",
    "        \"target_hit_time\": target_hit_time,\n",
    "        \"sl_hit_time\": sl_hit_time,\n",
    "        \"trade_type\": trade_type if pd.notna(target_hit_time) else 'no_trade',\n",
    "        \"pnl\": pnl\n",
    "    }\n",
    "\n",
    "# Example usage\n",
    "ce_result = trade_strategy_fast(ce_data, entry_time, exit_time, ce_price, dk, sl)\n",
    "pe_result = trade_strategy_fast(pe_data, entry_time, exit_time, pe_data.loc[entry_time, 'close'], dk, sl)\n",
    "\n",
    "print(\"CE Trade Result:\", ce_result)\n",
    "print(\"PE Trade Result:\", pe_result)\n",
    "print(\"Total PnL:\", ce_result['pnl'] + pe_result['pnl'])\n"
   ]
  },
  {
   "cell_type": "code",
   "execution_count": 24,
   "id": "72ad4361",
   "metadata": {},
   "outputs": [
    {
     "data": {
      "text/plain": [
       "np.float64(323.43000000000006)"
      ]
     },
     "execution_count": 24,
     "metadata": {},
     "output_type": "execute_result"
    }
   ],
   "source": [
    "ce_result[\"pnl\"]"
   ]
  },
  {
   "cell_type": "code",
   "execution_count": null,
   "id": "ed90e8f5",
   "metadata": {},
   "outputs": [],
   "source": []
  }
 ],
 "metadata": {
  "kernelspec": {
   "display_name": "Python 3",
   "language": "python",
   "name": "python3"
  },
  "language_info": {
   "codemirror_mode": {
    "name": "ipython",
    "version": 3
   },
   "file_extension": ".py",
   "mimetype": "text/x-python",
   "name": "python",
   "nbconvert_exporter": "python",
   "pygments_lexer": "ipython3",
   "version": "3.13.7"
  }
 },
 "nbformat": 4,
 "nbformat_minor": 5
}
