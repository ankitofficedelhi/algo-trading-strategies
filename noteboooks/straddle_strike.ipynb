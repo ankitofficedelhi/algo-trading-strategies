{
 "cells": [
  {
   "cell_type": "code",
   "execution_count": 1,
   "id": "7fa46f7c",
   "metadata": {},
   "outputs": [],
   "source": [
    "import pandas as pd\n",
    "import os"
   ]
  },
  {
   "cell_type": "code",
   "execution_count": 2,
   "id": "ab4790c7",
   "metadata": {},
   "outputs": [],
   "source": [
    "fut = pd.read_pickle(\"C:\\\\PICKLE\\\\Nifty Future\\\\2019-02-11_nifty_future.pkl\").set_index(\"date_time\")\n",
    "fut.index = pd.to_datetime(fut.index)\n",
    "opt = pd.read_pickle(\"C:\\\\PICKLE\\\\Nifty Options\\\\2019-02-11_nifty.pkl\").set_index(\"date_time\")\n",
    "opt.index = pd.to_datetime(opt.index)"
   ]
  },
  {
   "cell_type": "code",
   "execution_count": 3,
   "id": "d8b307b4",
   "metadata": {},
   "outputs": [
    {
     "data": {
      "text/html": [
       "<div>\n",
       "<style scoped>\n",
       "    .dataframe tbody tr th:only-of-type {\n",
       "        vertical-align: middle;\n",
       "    }\n",
       "\n",
       "    .dataframe tbody tr th {\n",
       "        vertical-align: top;\n",
       "    }\n",
       "\n",
       "    .dataframe thead th {\n",
       "        text-align: right;\n",
       "    }\n",
       "</style>\n",
       "<table border=\"1\" class=\"dataframe\">\n",
       "  <thead>\n",
       "    <tr style=\"text-align: right;\">\n",
       "      <th></th>\n",
       "      <th>scrip</th>\n",
       "      <th>open</th>\n",
       "      <th>high</th>\n",
       "      <th>low</th>\n",
       "      <th>close</th>\n",
       "      <th>volume</th>\n",
       "      <th>openinterest</th>\n",
       "    </tr>\n",
       "    <tr>\n",
       "      <th>date_time</th>\n",
       "      <th></th>\n",
       "      <th></th>\n",
       "      <th></th>\n",
       "      <th></th>\n",
       "      <th></th>\n",
       "      <th></th>\n",
       "      <th></th>\n",
       "    </tr>\n",
       "  </thead>\n",
       "  <tbody>\n",
       "    <tr>\n",
       "      <th>2019-02-11 09:15:00</th>\n",
       "      <td>NIFTY-I</td>\n",
       "      <td>10920.0</td>\n",
       "      <td>10929.90</td>\n",
       "      <td>10915.60</td>\n",
       "      <td>10917.40</td>\n",
       "      <td>116625</td>\n",
       "      <td>20999550</td>\n",
       "    </tr>\n",
       "    <tr>\n",
       "      <th>2019-02-11 09:16:00</th>\n",
       "      <td>NIFTY-I</td>\n",
       "      <td>10918.0</td>\n",
       "      <td>10918.85</td>\n",
       "      <td>10901.00</td>\n",
       "      <td>10909.55</td>\n",
       "      <td>163125</td>\n",
       "      <td>21024375</td>\n",
       "    </tr>\n",
       "    <tr>\n",
       "      <th>2019-02-11 09:17:00</th>\n",
       "      <td>NIFTY-I</td>\n",
       "      <td>10908.7</td>\n",
       "      <td>10909.70</td>\n",
       "      <td>10904.15</td>\n",
       "      <td>10908.90</td>\n",
       "      <td>120900</td>\n",
       "      <td>21024375</td>\n",
       "    </tr>\n",
       "  </tbody>\n",
       "</table>\n",
       "</div>"
      ],
      "text/plain": [
       "                       scrip     open      high       low     close  volume  \\\n",
       "date_time                                                                     \n",
       "2019-02-11 09:15:00  NIFTY-I  10920.0  10929.90  10915.60  10917.40  116625   \n",
       "2019-02-11 09:16:00  NIFTY-I  10918.0  10918.85  10901.00  10909.55  163125   \n",
       "2019-02-11 09:17:00  NIFTY-I  10908.7  10909.70  10904.15  10908.90  120900   \n",
       "\n",
       "                     openinterest  \n",
       "date_time                          \n",
       "2019-02-11 09:15:00      20999550  \n",
       "2019-02-11 09:16:00      21024375  \n",
       "2019-02-11 09:17:00      21024375  "
      ]
     },
     "execution_count": 3,
     "metadata": {},
     "output_type": "execute_result"
    }
   ],
   "source": [
    "fut.head(3)"
   ]
  },
  {
   "cell_type": "code",
   "execution_count": 4,
   "id": "96b3f751",
   "metadata": {},
   "outputs": [],
   "source": [
    "entry_time = pd.to_datetime(\"2019-02-11 09:20:00\")\n",
    "exit_time = pd.to_datetime(\"2019-02-11 15:00:00\")\n",
    "sl = 20\n",
    "dk = 20"
   ]
  },
  {
   "cell_type": "code",
   "execution_count": 5,
   "id": "b07c52be",
   "metadata": {},
   "outputs": [],
   "source": [
    "valid_time = fut.loc[entry_time:exit_time].index"
   ]
  },
  {
   "cell_type": "code",
   "execution_count": 6,
   "id": "51ace6f4",
   "metadata": {},
   "outputs": [
    {
     "data": {
      "text/plain": [
       "DatetimeIndex(['2019-02-11 09:20:00', '2019-02-11 09:21:00',\n",
       "               '2019-02-11 09:22:00', '2019-02-11 09:23:00',\n",
       "               '2019-02-11 09:24:00', '2019-02-11 09:25:00',\n",
       "               '2019-02-11 09:26:00', '2019-02-11 09:27:00',\n",
       "               '2019-02-11 09:28:00', '2019-02-11 09:29:00',\n",
       "               ...\n",
       "               '2019-02-11 14:51:00', '2019-02-11 14:52:00',\n",
       "               '2019-02-11 14:53:00', '2019-02-11 14:54:00',\n",
       "               '2019-02-11 14:55:00', '2019-02-11 14:56:00',\n",
       "               '2019-02-11 14:57:00', '2019-02-11 14:58:00',\n",
       "               '2019-02-11 14:59:00', '2019-02-11 15:00:00'],\n",
       "              dtype='datetime64[ns]', name='date_time', length=341, freq=None)"
      ]
     },
     "execution_count": 6,
     "metadata": {},
     "output_type": "execute_result"
    }
   ],
   "source": [
    "valid_time"
   ]
  },
  {
   "cell_type": "code",
   "execution_count": 28,
   "id": "6949cfdd",
   "metadata": {},
   "outputs": [],
   "source": [
    "from tqdm import tqdm"
   ]
  },
  {
   "cell_type": "code",
   "execution_count": 49,
   "id": "d4ba625d",
   "metadata": {},
   "outputs": [
    {
     "name": "stdout",
     "output_type": "stream",
     "text": [
      "55.55 69.7\n",
      "58.65 66.7\n",
      "59.55 67.0\n",
      "59.0 66.45\n",
      "59.2 65.15\n",
      "57.95 66.9\n",
      "57.15 67.2\n",
      "55.55 69.95\n",
      "53.6 73.05\n",
      "53.25 75.55\n",
      "78.45 54.45\n",
      "53.85 74.25\n",
      "54.65 73.15\n",
      "55.45 70.1\n",
      "55.0 69.25\n",
      "55.15 69.55\n",
      "54.6 70.75\n",
      "52.7 70.5\n",
      "54.25 68.45\n",
      "55.15 66.7\n",
      "56.0 64.0\n",
      "55.45 65.35\n",
      "54.0 67.8\n",
      "53.7 68.1\n",
      "53.95 67.8\n",
      "51.8 69.95\n",
      "52.1 71.1\n",
      "50.6 73.05\n",
      "75.0 52.75\n",
      "73.45 56.1\n",
      "75.5 52.5\n",
      "72.65 54.35\n",
      "73.3 54.15\n",
      "69.5 54.95\n",
      "69.5 55.2\n",
      "73.1 51.65\n",
      "70.35 56.0\n",
      "68.75 56.0\n",
      "70.0 55.55\n",
      "72.5 53.15\n",
      "72.25 53.0\n",
      "72.95 53.0\n",
      "73.45 51.9\n",
      "74.0 51.1\n",
      "72.75 52.85\n",
      "73.15 52.95\n",
      "49.8 74.55\n",
      "73.75 50.8\n",
      "73.1 51.4\n",
      "73.4 51.25\n",
      "72.4 53.6\n",
      "72.4 53.6\n",
      "74.0 50.55\n",
      "74.3 50.7\n",
      "49.8 73.0\n",
      "51.2 71.4\n",
      "51.9 69.1\n",
      "50.7 69.75\n",
      "52.2 68.85\n",
      "51.5 69.55\n",
      "50.8 70.9\n",
      "50.9 70.65\n",
      "50.05 71.85\n",
      "50.2 71.9\n",
      "51.4 70.0\n",
      "50.5 71.65\n",
      "49.3 72.65\n",
      "50.3 72.0\n",
      "50.75 71.3\n",
      "50.9 71.45\n",
      "50.7 71.5\n",
      "75.5 51.05\n",
      "75.0 50.4\n",
      "74.6 51.5\n",
      "73.6 52.7\n",
      "74.95 51.2\n",
      "49.5 73.25\n",
      "74.0 51.0\n",
      "73.6 51.65\n",
      "72.6 52.0\n",
      "72.45 52.9\n",
      "75.0 52.15\n",
      "73.0 53.0\n",
      "74.0 50.85\n",
      "49.0 73.7\n",
      "49.25 73.65\n",
      "49.45 73.8\n",
      "49.8 72.1\n",
      "49.95 72.45\n",
      "49.6 73.2\n",
      "74.35 50.4\n",
      "74.1 50.7\n",
      "74.25 51.7\n",
      "74.85 50.8\n",
      "50.35 71.75\n",
      "50.9 70.7\n",
      "50.2 72.25\n",
      "50.15 72.3\n",
      "50.1 71.65\n",
      "51.15 70.0\n",
      "51.0 71.2\n",
      "50.95 71.25\n",
      "50.7 71.2\n",
      "50.85 71.65\n",
      "50.5 72.55\n",
      "74.95 50.6\n",
      "74.45 52.45\n",
      "74.35 50.9\n",
      "49.2 73.9\n",
      "74.05 50.95\n",
      "73.7 51.3\n",
      "49.75 73.25\n",
      "50.0 71.85\n",
      "51.2 70.75\n",
      "51.4 70.5\n",
      "50.7 72.4\n",
      "50.85 72.75\n",
      "52.35 70.65\n",
      "51.4 72.0\n",
      "50.85 74.1\n",
      "51.85 71.65\n",
      "52.4 69.8\n",
      "51.5 72.0\n",
      "50.9 72.15\n",
      "49.6 73.15\n",
      "51.0 73.2\n",
      "51.3 71.65\n",
      "51.6 72.2\n",
      "54.5 66.0\n",
      "55.0 67.2\n",
      "55.3 66.1\n",
      "54.65 67.45\n",
      "54.75 66.85\n",
      "53.45 68.25\n",
      "52.7 70.25\n",
      "53.0 70.55\n",
      "53.75 69.0\n",
      "52.0 71.0\n",
      "52.1 71.5\n",
      "50.5 72.85\n",
      "51.35 72.1\n",
      "51.65 71.3\n",
      "51.05 72.5\n",
      "52.45 69.15\n",
      "52.35 69.55\n",
      "53.5 68.7\n",
      "53.5 68.05\n",
      "54.0 69.1\n",
      "54.8 67.55\n",
      "54.9 67.5\n",
      "54.8 66.65\n",
      "57.55 61.9\n",
      "56.65 63.95\n",
      "57.05 62.4\n",
      "56.25 63.45\n",
      "55.25 64.1\n",
      "57.5 62.4\n",
      "57.7 61.35\n",
      "57.05 62.45\n",
      "57.5 62.5\n",
      "55.1 64.95\n",
      "53.8 66.65\n",
      "52.8 68.0\n",
      "52.7 67.65\n",
      "53.85 66.5\n",
      "53.9 68.0\n",
      "53.25 67.45\n",
      "53.5 67.4\n",
      "51.0 69.5\n",
      "51.4 69.7\n",
      "51.35 69.7\n",
      "50.6 69.65\n",
      "52.0 68.05\n",
      "53.7 65.6\n",
      "53.95 66.2\n",
      "54.5 66.0\n",
      "54.2 66.0\n",
      "55.4 64.1\n",
      "56.8 61.7\n",
      "56.55 62.65\n",
      "58.6 59.35\n",
      "58.65 59.65\n",
      "57.95 60.85\n",
      "57.7 61.15\n",
      "58.25 60.55\n",
      "59.35 58.7\n",
      "58.15 59.25\n",
      "56.95 61.3\n",
      "57.6 60.0\n",
      "55.45 61.8\n",
      "54.0 64.0\n",
      "53.65 64.5\n",
      "53.35 65.95\n",
      "55.1 65.0\n",
      "52.55 68.95\n",
      "53.35 69.25\n",
      "50.35 72.7\n",
      "51.8 71.35\n",
      "52.4 68.75\n",
      "52.65 68.15\n",
      "52.7 66.0\n",
      "52.6 66.95\n",
      "52.8 67.75\n",
      "53.8 65.7\n",
      "52.5 67.4\n",
      "51.4 69.45\n",
      "52.2 68.65\n",
      "52.5 68.5\n",
      "52.25 68.9\n",
      "52.1 68.1\n",
      "52.5 68.05\n",
      "52.1 68.5\n",
      "53.5 65.75\n",
      "54.55 64.45\n",
      "55.25 63.4\n",
      "53.75 64.6\n",
      "54.9 64.0\n",
      "54.45 64.0\n",
      "54.05 65.0\n",
      "55.05 63.6\n",
      "56.2 62.7\n",
      "57.0 61.65\n",
      "57.3 61.5\n",
      "55.3 64.0\n",
      "54.6 64.95\n",
      "55.75 63.85\n",
      "55.35 64.75\n",
      "54.8 64.55\n",
      "54.05 65.05\n",
      "54.6 64.8\n",
      "56.0 64.3\n",
      "56.5 62.6\n",
      "55.75 63.9\n",
      "55.7 64.25\n",
      "57.6 61.35\n",
      "56.75 61.9\n",
      "55.45 62.7\n",
      "54.4 65.45\n",
      "53.25 66.65\n",
      "53.9 65.6\n",
      "55.45 65.5\n",
      "55.0 65.45\n",
      "54.75 65.85\n",
      "54.9 66.35\n",
      "52.5 67.85\n",
      "52.9 67.75\n",
      "53.25 67.9\n",
      "55.45 63.5\n",
      "55.05 65.15\n",
      "53.4 66.65\n",
      "53.25 67.25\n",
      "52.9 67.2\n",
      "51.6 68.5\n",
      "51.7 69.5\n",
      "51.1 70.2\n",
      "52.3 68.1\n",
      "52.05 68.95\n",
      "52.95 67.35\n",
      "53.15 66.85\n",
      "54.9 64.8\n",
      "57.7 59.55\n",
      "56.8 62.35\n",
      "56.3 62.8\n",
      "56.8 61.35\n",
      "56.0 63.65\n",
      "53.7 65.55\n",
      "53.8 66.0\n",
      "50.5 69.5\n",
      "50.7 69.1\n",
      "71.0 52.4\n",
      "73.55 49.25\n",
      "72.8 50.0\n",
      "48.8 72.9\n",
      "49.0 72.5\n",
      "52.3 66.85\n",
      "53.6 65.25\n",
      "55.25 62.0\n",
      "54.85 62.3\n",
      "53.05 64.35\n",
      "55.2 62.6\n",
      "55.0 63.15\n",
      "54.25 62.7\n",
      "56.55 60.85\n",
      "53.75 63.5\n",
      "55.0 61.65\n",
      "55.05 63.0\n",
      "56.5 60.7\n",
      "55.55 61.75\n",
      "56.8 60.0\n",
      "58.55 57.1\n",
      "62.95 52.2\n",
      "62.25 53.1\n",
      "59.15 55.55\n",
      "59.45 55.95\n",
      "61.8 53.6\n",
      "60.35 55.1\n",
      "58.75 57.2\n",
      "60.3 55.25\n",
      "63.0 52.3\n",
      "63.0 53.0\n",
      "67.25 48.05\n",
      "64.55 50.5\n",
      "66.15 48.7\n",
      "67.35 47.65\n",
      "63.95 50.6\n",
      "61.9 52.5\n",
      "62.8 53.0\n",
      "61.1 54.05\n",
      "63.5 52.5\n",
      "61.2 53.9\n",
      "62.15 53.35\n",
      "63.45 50.8\n",
      "62.5 51.45\n",
      "63.4 50.65\n",
      "67.25 47.35\n",
      "66.95 46.3\n",
      "43.85 66.9\n",
      "43.55 64.1\n",
      "42.0 65.35\n",
      "66.9 44.35\n",
      "67.85 44.2\n",
      "66.2 45.9\n",
      "65.45 46.55\n",
      "61.95 50.0\n",
      "61.4 51.45\n",
      "61.15 51.85\n",
      "57.5 55.8\n",
      "58.05 54.55\n",
      "60.0 52.35\n",
      "60.0 52.55\n",
      "61.85 50.0\n",
      "61.2 50.7\n",
      "59.4 52.5\n",
      "56.25 55.95\n",
      "57.0 54.1\n",
      "56.4 54.55\n",
      "52.9 56.5\n",
      "53.35 56.8\n",
      "51.4 58.6\n",
      "54.2 56.05\n",
      "53.8 54.75\n"
     ]
    }
   ],
   "source": [
    "sd ,SDroundoff = 0,False\n",
    "for current_dt in valid_time:\n",
    "    future_price = fut.loc[current_dt,'close']\n",
    "    round_price = round(future_price/50)*50\n",
    "\n",
    "    ce_scrip,pe_scrip = f\"{round_price}CE\",f\"{round_price}PE\"\n",
    "    # print(ce_scrip,pe_scrip)\n",
    "    # ce_price,pe_price = opt.loc[(current_dt,ce_scrip),'close'] , opt.loc[(current_dt,pe_scrip),'close']\n",
    "    ce_price,pe_price = opt[opt.scrip == ce_scrip].loc[current_dt,'close'] , opt[opt.scrip == ce_scrip].loc[current_dt,'close']\n",
    "    # print(ce_price,pe_price)\n",
    "\n",
    "    syn_future = ce_price-pe_price + round_price\n",
    "    round_syn_future=round(syn_future/50)*50\n",
    "\n",
    "    ce_scrip_list = [f\"{round_syn_future}CE\", f\"{round_syn_future+50}CE\", f\"{round_syn_future-50}CE\"]\n",
    "    pe_scrip_list = [f\"{round_syn_future}PE\", f\"{round_syn_future+50}PE\", f\"{round_syn_future-50}PE\"]\n",
    "                \n",
    "    # print(ce_scrip_list,pe_scrip_list)\n",
    "    scrip_index,min_val = None , float(\"inf\")\n",
    "\n",
    "    for i in range(3):\n",
    "        try:\n",
    "            ce_price = opt[opt.scrip == ce_scrip_list[i]].loc[current_dt,'close']\n",
    "            pe_price = opt[opt.scrip == pe_scrip_list[i]].loc[current_dt,'close']\n",
    "            diff = abs(ce_price - pe_price)\n",
    "            if min_val> diff:\n",
    "                min_val = diff\n",
    "                scrip_index = i \n",
    "\n",
    "            # print(opt[opt.scrip == ce_scrip_list[scrip_index]].loc[valid_time[0],'close'])\n",
    "        except:\n",
    "            pass\n",
    "    ce_scrip,pe_scrip = ce_scrip_list[scrip_index],pe_scrip_list[scrip_index]\n",
    "    ce_price ,pe_price = opt[opt.scrip == ce_scrip].loc[current_dt,'close'], opt[opt.scrip == pe_scrip].loc[current_dt,'close']\n",
    "    print(ce_price,pe_price)\n",
    "\n",
    "    if sd:\n",
    "        sd_range = (ce_price+pe_price)*sd\n",
    "        if SDroundoff:\n",
    "            sd_range = round(sd_range/50)*50\n",
    "        else:\n",
    "            sd_range = max(50,round(sd_range/50)*50)\n",
    "\n",
    "        ce_scrip,pe_scrip = f\"{int(ce_scrip[:-2])+sd_range}CE\",f\"{int(pe_scrip[:-2])+sd_range}PE\"\n",
    "        ce_price,pe_price = opt[opt.scrip == ce_scrip].loc[valid_time[0],'close'] , opt[opt.scrip == pe_scrip].loc[valid_time[0],'close']\n",
    "\n",
    "\n",
    "\n"
   ]
  },
  {
   "cell_type": "code",
   "execution_count": 13,
   "id": "c8baab4c",
   "metadata": {},
   "outputs": [],
   "source": [
    "ce_scrip,pe_scrip = f\"{round_fp}CE\",f\"{round_fp}PE\""
   ]
  },
  {
   "cell_type": "code",
   "execution_count": 20,
   "id": "05467cb4",
   "metadata": {},
   "outputs": [],
   "source": [
    "ce_price,pe_price = opt[opt.scrip == ce_scrip].loc[valid_time[0],'close'] , opt[opt.scrip == pe_scrip].loc[valid_time[0],'close']"
   ]
  },
  {
   "cell_type": "code",
   "execution_count": 22,
   "id": "f7dd224f",
   "metadata": {},
   "outputs": [
    {
     "data": {
      "text/plain": [
       "np.float64(10885.85)"
      ]
     },
     "execution_count": 22,
     "metadata": {},
     "output_type": "execute_result"
    }
   ],
   "source": [
    "syn_future = ce_price-pe_price + round_fp\n",
    "syn_future"
   ]
  },
  {
   "cell_type": "code",
   "execution_count": null,
   "id": "2d6845aa",
   "metadata": {},
   "outputs": [
    {
     "data": {
      "text/plain": [
       "10900"
      ]
     },
     "execution_count": 24,
     "metadata": {},
     "output_type": "execute_result"
    }
   ],
   "source": [
    "round_syn_future=round(syn_future/50)*50"
   ]
  },
  {
   "cell_type": "code",
   "execution_count": 33,
   "id": "492710fa",
   "metadata": {},
   "outputs": [],
   "source": [
    "ce_scrip_list = [f\"{round_syn_future}CE\", f\"{round_syn_future+50}CE\", f\"{round_syn_future-50}CE\"]\n",
    "pe_scrip_list = [f\"{round_syn_future}PE\", f\"{round_syn_future+50}PE\", f\"{round_syn_future-50}PE\"]"
   ]
  },
  {
   "cell_type": "code",
   "execution_count": 35,
   "id": "1dca648f",
   "metadata": {},
   "outputs": [],
   "source": [
    "scrip_index ,min_val = None , float(\"inf\")"
   ]
  },
  {
   "cell_type": "code",
   "execution_count": 38,
   "id": "c8e7b9cc",
   "metadata": {},
   "outputs": [
    {
     "name": "stdout",
     "output_type": "stream",
     "text": [
      "55.55\n",
      "55.55\n",
      "55.55\n"
     ]
    }
   ],
   "source": [
    "for i in range(3):\n",
    "    try:\n",
    "        ce_price = opt[opt.scrip == ce_scrip_list[i]].loc[valid_time[0],'close']\n",
    "        pe_price = opt[opt.scrip == pe_scrip_list[i]].loc[valid_time[0],'close']\n",
    "        diff = abs(ce_price - pe_price)\n",
    "        if min_val> diff:\n",
    "            min_val = diff\n",
    "            scrip_index = i \n",
    "\n",
    "        print(opt[opt.scrip == ce_scrip_list[scrip_index]].loc[valid_time[0],'close'])\n",
    "    except:\n",
    "        pass"
   ]
  },
  {
   "cell_type": "code",
   "execution_count": 45,
   "id": "ad70eeac",
   "metadata": {},
   "outputs": [],
   "source": [
    "sd ,SDroundoff= 1,False"
   ]
  },
  {
   "cell_type": "code",
   "execution_count": 47,
   "id": "4b801025",
   "metadata": {},
   "outputs": [],
   "source": [
    "if sd:\n",
    "    sd_range = (ce_price+pe_price)*sd\n",
    "    if SDroundoff:\n",
    "        sd_range = round(sd_range/50)*50\n",
    "    else:\n",
    "        sd_range = max(50,round(sd_range/50)*50)\n",
    "\n",
    "    ce_scrip,pe_scrip = f\"{round_fp+sd_range}CE\",f\"{round_fp+sd_range}PE\"\n",
    "    ce_price,pe_price = opt[opt.scrip == ce_scrip].loc[valid_time[0],'close'] , opt[opt.scrip == pe_scrip].loc[valid_time[0],'close']\n",
    "\n"
   ]
  },
  {
   "cell_type": "markdown",
   "id": "94ac31b1",
   "metadata": {},
   "source": [
    "get_strangle_strike function"
   ]
  },
  {
   "cell_type": "code",
   "execution_count": 56,
   "id": "40edf08e",
   "metadata": {},
   "outputs": [],
   "source": [
    "def get_one_om( future_price=None):\n",
    "    future_price = fut.loc['close'].iloc[0] if future_price is None else future_price\n",
    "    return int(future_price*50)/100\n"
   ]
  },
  {
   "cell_type": "code",
   "execution_count": 57,
   "id": "f823864a",
   "metadata": {},
   "outputs": [
    {
     "data": {
      "text/plain": [
       "5449.27"
      ]
     },
     "execution_count": 57,
     "metadata": {},
     "output_type": "execute_result"
    }
   ],
   "source": [
    "get_one_om(future_price)"
   ]
  },
  {
   "cell_type": "code",
   "execution_count": 64,
   "id": "b1ff67c8",
   "metadata": {},
   "outputs": [
    {
     "data": {
      "text/html": [
       "<div>\n",
       "<style scoped>\n",
       "    .dataframe tbody tr th:only-of-type {\n",
       "        vertical-align: middle;\n",
       "    }\n",
       "\n",
       "    .dataframe tbody tr th {\n",
       "        vertical-align: top;\n",
       "    }\n",
       "\n",
       "    .dataframe thead th {\n",
       "        text-align: right;\n",
       "    }\n",
       "</style>\n",
       "<table border=\"1\" class=\"dataframe\">\n",
       "  <thead>\n",
       "    <tr style=\"text-align: right;\">\n",
       "      <th></th>\n",
       "      <th>index</th>\n",
       "      <th>scrip</th>\n",
       "      <th>open</th>\n",
       "      <th>high</th>\n",
       "      <th>low</th>\n",
       "      <th>close</th>\n",
       "      <th>volume</th>\n",
       "      <th>openinterest</th>\n",
       "      <th>expiry_date</th>\n",
       "      <th>dte</th>\n",
       "    </tr>\n",
       "    <tr>\n",
       "      <th>date_time</th>\n",
       "      <th></th>\n",
       "      <th></th>\n",
       "      <th></th>\n",
       "      <th></th>\n",
       "      <th></th>\n",
       "      <th></th>\n",
       "      <th></th>\n",
       "      <th></th>\n",
       "      <th></th>\n",
       "      <th></th>\n",
       "    </tr>\n",
       "  </thead>\n",
       "  <tbody>\n",
       "    <tr>\n",
       "      <th>2019-02-11 09:15:00</th>\n",
       "      <td>NIFTY</td>\n",
       "      <td>11400CE</td>\n",
       "      <td>0.20</td>\n",
       "      <td>3.00</td>\n",
       "      <td>0.2</td>\n",
       "      <td>0.70</td>\n",
       "      <td>34125</td>\n",
       "      <td>0</td>\n",
       "      <td>2019-02-14</td>\n",
       "      <td>3</td>\n",
       "    </tr>\n",
       "    <tr>\n",
       "      <th>2019-02-11 09:15:00</th>\n",
       "      <td>NIFTY</td>\n",
       "      <td>11500CE</td>\n",
       "      <td>0.50</td>\n",
       "      <td>2.40</td>\n",
       "      <td>0.5</td>\n",
       "      <td>0.75</td>\n",
       "      <td>16125</td>\n",
       "      <td>0</td>\n",
       "      <td>2019-02-14</td>\n",
       "      <td>3</td>\n",
       "    </tr>\n",
       "    <tr>\n",
       "      <th>2019-02-11 09:15:00</th>\n",
       "      <td>NIFTY</td>\n",
       "      <td>11600CE</td>\n",
       "      <td>2.95</td>\n",
       "      <td>3.05</td>\n",
       "      <td>0.9</td>\n",
       "      <td>0.90</td>\n",
       "      <td>6000</td>\n",
       "      <td>0</td>\n",
       "      <td>2019-02-14</td>\n",
       "      <td>3</td>\n",
       "    </tr>\n",
       "  </tbody>\n",
       "</table>\n",
       "</div>"
      ],
      "text/plain": [
       "                     index    scrip  open  high  low  close  volume  \\\n",
       "date_time                                                             \n",
       "2019-02-11 09:15:00  NIFTY  11400CE  0.20  3.00  0.2   0.70   34125   \n",
       "2019-02-11 09:15:00  NIFTY  11500CE  0.50  2.40  0.5   0.75   16125   \n",
       "2019-02-11 09:15:00  NIFTY  11600CE  2.95  3.05  0.9   0.90    6000   \n",
       "\n",
       "                     openinterest expiry_date  dte  \n",
       "date_time                                           \n",
       "2019-02-11 09:15:00             0  2019-02-14    3  \n",
       "2019-02-11 09:15:00             0  2019-02-14    3  \n",
       "2019-02-11 09:15:00             0  2019-02-14    3  "
      ]
     },
     "execution_count": 64,
     "metadata": {},
     "output_type": "execute_result"
    }
   ],
   "source": [
    "opt.head(3)"
   ]
  },
  {
   "cell_type": "code",
   "execution_count": 65,
   "id": "46237e45",
   "metadata": {},
   "outputs": [
    {
     "data": {
      "text/plain": [
       "Timestamp('2019-02-11 09:20:00')"
      ]
     },
     "execution_count": 65,
     "metadata": {},
     "output_type": "execute_result"
    }
   ],
   "source": [
    "current_dt"
   ]
  },
  {
   "cell_type": "code",
   "execution_count": 72,
   "id": "5484c8c9",
   "metadata": {},
   "outputs": [],
   "source": [
    "om , target ,tf= 1 , 1,1\n",
    "one_om = get_one_om(future_price)\n",
    "target = one_om * om if target is None else target\n",
    "# opt[(opt.index==current_dt)]\n",
    "target_od = opt[(opt.index==current_dt)&(opt['close']>=target*tf)].sort_values(by=['close']).copy()\n"
   ]
  },
  {
   "cell_type": "code",
   "execution_count": null,
   "id": "217e02d0",
   "metadata": {},
   "outputs": [],
   "source": [
    "ce_scrip = target_od.loc[target_od['scrip'].str.endswith('CE'),'scrip'].iloc[0]\n",
    "pe_scrip = target_od.loc[target_od['scrip'].str.endswith('PE'),'scrip'].iloc[0]\n",
    "ce_scrip_list = [ce_scrip,f\"{int(ce_scrip[:-2])-50}CE\",f\"{int(ce_scrip[:-2])+50}CE\"]\n",
    "pe_scrip_list = [pe_scrip,f\"{int(pe_scrip[:-2])-50}PE\",f\"{int(pe_scrip[:-2])+50}PE\"]"
   ]
  },
  {
   "cell_type": "code",
   "execution_count": 76,
   "id": "183fbbd0",
   "metadata": {},
   "outputs": [
    {
     "data": {
      "text/plain": [
       "['11150CE', '11100CE', '11200CE']"
      ]
     },
     "execution_count": 76,
     "metadata": {},
     "output_type": "execute_result"
    }
   ],
   "source": [
    "ce_scrip_list"
   ]
  },
  {
   "cell_type": "code",
   "execution_count": 79,
   "id": "4ea01a87",
   "metadata": {},
   "outputs": [],
   "source": [
    "call_list_prices, put_list_prices = [], []\n",
    "for z in range(3):\n",
    "    try:\n",
    "        call_list_prices.append(opt[opt['scrip'] == ce_scrip_list[z]].loc[current_dt, 'close'])\n",
    "    except:\n",
    "        call_list_prices.append(0)\n",
    "    try:\n",
    "        put_list_prices.append(opt[opt['scrip'] == pe_scrip_list[z]].loc[current_dt, 'close'])\n",
    "    except:\n",
    "        put_list_prices.append(0)\n"
   ]
  },
  {
   "cell_type": "code",
   "execution_count": 80,
   "id": "6eec1a42",
   "metadata": {},
   "outputs": [
    {
     "data": {
      "text/plain": [
       "[np.float64(2.25), np.float64(4.6), np.float64(0.9)]"
      ]
     },
     "execution_count": 80,
     "metadata": {},
     "output_type": "execute_result"
    }
   ],
   "source": [
    "call_list_prices"
   ]
  },
  {
   "cell_type": "code",
   "execution_count": 84,
   "id": "a92e946f",
   "metadata": {},
   "outputs": [],
   "source": [
    "call,put,min_diff = call_list_prices[0],put_list_prices[0],float('inf')\n",
    "target_2, target_3 = target*2*tf, target*3\n"
   ]
  },
  {
   "cell_type": "code",
   "execution_count": 85,
   "id": "537382d4",
   "metadata": {},
   "outputs": [],
   "source": [
    "diff = abs(put-call)\n",
    "required_call, required_put = None, None\n",
    "if (put+call >= target_2) & (min_diff > diff) & (put+call <= target_3):\n",
    "    min_diff = diff\n",
    "    required_call, required_put = call, put\n"
   ]
  },
  {
   "cell_type": "code",
   "execution_count": 86,
   "id": "347c7649",
   "metadata": {},
   "outputs": [],
   "source": [
    "for i in range(1,3):\n",
    "                    if (min_diff > abs(put_list_prices[i] - call)) & (put_list_prices[i]+call >= target_2) & (put_list_prices[i]+call <= target_3):\n",
    "                        min_diff = abs(put_list_prices[i] - call)\n",
    "                        required_call, required_put = call, put_list_prices[i]\n",
    "                    if (min_diff > abs(call_list_prices[i] - put)) & (call_list_prices[i]+put >= target_2) & (call_list_prices[i]+put <= target_3):\n",
    "                        min_diff = abs(call_list_prices[i] - put)\n",
    "                        required_call, required_put = call_list_prices[i], put\n"
   ]
  },
  {
   "cell_type": "code",
   "execution_count": 87,
   "id": "7521f414",
   "metadata": {},
   "outputs": [],
   "source": [
    "ce_scrip, pe_scrip = ce_scrip_list[call_list_prices.index(required_call)], pe_scrip_list[put_list_prices.index(required_put)]\n",
    "ce_price, pe_price = opt[opt['scrip'] == ce_scrip].loc[current_dt, 'close'], opt[opt['scrip'] == pe_scrip].loc[current_dt, 'close']"
   ]
  },
  {
   "cell_type": "code",
   "execution_count": 88,
   "id": "a14fba0c",
   "metadata": {},
   "outputs": [
    {
     "data": {
      "text/plain": [
       "('11200CE', '10500PE')"
      ]
     },
     "execution_count": 88,
     "metadata": {},
     "output_type": "execute_result"
    }
   ],
   "source": [
    "ce_scrip,pe_scrip"
   ]
  },
  {
   "cell_type": "code",
   "execution_count": null,
   "id": "b91fa05a",
   "metadata": {},
   "outputs": [],
   "source": [
    "for current_dt in valid_time:\n",
    "    om , target ,tf= 1 , 1,1\n",
    "    one_om = get_one_om(future_price)\n",
    "    target = one_om * om if target is None else target\n",
    "    # opt[(opt.index==current_dt)]\n",
    "    target_od = opt[(opt.index==current_dt)&(opt['close']>=target*tf)].sort_values(by=['close']).copy()\n",
    "\n",
    "    ce_scrip = target_od.loc[target_od['scrip'].str.endswith('CE'),'scrip'].iloc[0]\n",
    "    pe_scrip = target_od.loc[target_od['scrip'].str.endswith('PE'),'scrip'].iloc[0]\n",
    "    ce_scrip_list = [ce_scrip,f\"{int(ce_scrip[:-2])-50}CE\",f\"{int(ce_scrip[:-2])+50}CE\"]\n",
    "    pe_scrip_list = [pe_scrip,f\"{int(pe_scrip[:-2])-50}PE\",f\"{int(pe_scrip[:-2])+50}PE\"]\n",
    "\n",
    "    call_list_prices, put_list_prices = [], []\n",
    "    for z in range(3):\n",
    "        try:\n",
    "            call_list_prices.append(opt[opt['scrip'] == ce_scrip_list[z]].loc[current_dt, 'close'])\n",
    "        except:\n",
    "            call_list_prices.append(0)\n",
    "        try:\n",
    "            put_list_prices.append(opt[opt['scrip'] == pe_scrip_list[z]].loc[current_dt, 'close'])\n",
    "        except:\n",
    "            put_list_prices.append(0)\n",
    "    call,put,min_diff = call_list_prices[0],put_list_prices[0],float('inf')\n",
    "    target_2, target_3 = target*2*tf, target*3\n",
    "\n",
    "    diff = abs(put-call)\n",
    "    required_call, required_put = None, None\n",
    "    if (put+call >= target_2) & (min_diff > diff) & (put+call <= target_3):\n",
    "        min_diff = diff\n",
    "        required_call, required_put = call, put\n",
    "\n",
    "    for i in range(1,3):\n",
    "        if (min_diff > abs(put_list_prices[i] - call)) & (put_list_prices[i]+call >= target_2) & (put_list_prices[i]+call <= target_3):\n",
    "            min_diff = abs(put_list_prices[i] - call)\n",
    "            required_call, required_put = call, put_list_prices[i]\n",
    "        if (min_diff > abs(call_list_prices[i] - put)) & (call_list_prices[i]+put >= target_2) & (call_list_prices[i]+put <= target_3):\n",
    "            min_diff = abs(call_list_prices[i] - put)\n",
    "            required_call, required_put = call_list_prices[i], put\n",
    "\n",
    "    ce_scrip, pe_scrip = ce_scrip_list[call_list_prices.index(required_call)], pe_scrip_list[put_list_prices.index(required_put)]\n",
    "    ce_price, pe_price = opt[opt['scrip'] == ce_scrip].loc[current_dt, 'close'], opt[opt['scrip'] == pe_scrip].loc[current_dt, 'close']\n",
    "        \n",
    "\n",
    "\n",
    "        "
   ]
  }
 ],
 "metadata": {
  "kernelspec": {
   "display_name": "Python 3",
   "language": "python",
   "name": "python3"
  },
  "language_info": {
   "codemirror_mode": {
    "name": "ipython",
    "version": 3
   },
   "file_extension": ".py",
   "mimetype": "text/x-python",
   "name": "python",
   "nbconvert_exporter": "python",
   "pygments_lexer": "ipython3",
   "version": "3.13.7"
  }
 },
 "nbformat": 4,
 "nbformat_minor": 5
}
