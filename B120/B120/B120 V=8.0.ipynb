{
 "cells": [
  {
   "cell_type": "code",
   "execution_count": null,
   "id": "844a0582",
   "metadata": {},
   "outputs": [],
   "source": [
    "import datetime ,os"
   ]
  },
  {
   "cell_type": "code",
   "execution_count": 1,
   "id": "a00f605d",
   "metadata": {},
   "outputs": [],
   "source": [
    "code = 'B120'\n",
    "pickle_path = 'C:/PICKLE/'\n",
    "parameter_path = f'Parameter_{code}.csv'\n",
    "meta_data_path = f\"Parameter_{code}_MetaData.csv\"\n",
    "output_csv_path = f'{code}_output/'\n",
    "\n",
    "from pgcbacktest.BtParameters import *\n",
    "from pgcbacktest.BacktestOptions import *\n",
    "\n",
    "try:\n",
    "    parameter, parameter_len = get_parameter_data(code, parameter_path)\n",
    "    meta_data, meta_row_nos = get_meta_data(code, meta_data_path)\n",
    "    os.makedirs(output_csv_path, exist_ok=True)\n",
    "except Exception as e:\n",
    "    input(str(e))"
   ]
  },
  {
   "cell_type": "code",
   "execution_count": 2,
   "id": "dbf98bd5",
   "metadata": {},
   "outputs": [],
   "source": [
    "def b120(bt, start_time, end_time, orderside, method, sl, ut_sl, om):\n",
    "    try:\n",
    "        start_dt = datetime.datetime.combine(bt.current_date, start_time)\n",
    "        end_dt = datetime.datetime.combine(bt.current_date, end_time)\n",
    "        end_dt_1m = end_dt + datetime.timedelta(minutes=10)\n",
    "\n",
    "        ce_scrip, pe_scrip, ce_price, pe_price, future_price, start_dt = bt.get_strike(start_dt, end_dt, om=om)\n",
    "        if ce_scrip is None: return None\n",
    "        \n",
    "        from_candle_close = True if method == 'CC' else False\n",
    "\n",
    "        entry_time = start_dt\n",
    "        ce_open, ce_high, ce_low, ce_close, ce_sl_price, ce_sl_flag, _, _, ce_sl_time, ce_pnl = bt.sl_check_single_leg(start_dt, end_dt, ce_scrip, sl=sl, with_ohlc=True, orderside=orderside, from_candle_close=from_candle_close)\n",
    "        pe_open, pe_high, pe_low, pe_close, pe_sl_price, pe_sl_flag, _, _, pe_sl_time, pe_pnl = bt.sl_check_single_leg(start_dt, end_dt, pe_scrip, sl=sl, with_ohlc=True, orderside=orderside, from_candle_close=from_candle_close)\n",
    "        ce_sl_time = ce_sl_time if ce_sl_time else end_dt_1m\n",
    "        pe_sl_time = pe_sl_time if pe_sl_time else end_dt_1m\n",
    "\n",
    "        ut_scrip, ut_open, ut_high, ut_low, ut_close, ut_sl_price, ut_sl_flag, ut_sl_time, ut_pnl = '', '', '', '', '', '', False, '', 0\n",
    "        ut_sl = ut_sl if str(ut_sl) == 'TTC' else float(ut_sl)\n",
    "        B_PL, TT_PL_at_SL, UT_PL_at_SL = 0, 0, 0\n",
    "        \n",
    "        if ce_sl_time < pe_sl_time:\n",
    "            \n",
    "            ut_sl_price = pe_price if str(ut_sl) == 'TTC' else None\n",
    "            ut_open, ut_high, ut_low, ut_close, ut_sl_price, ut_sl_flag, _, _, ut_sl_time, ut_pnl = bt.sl_check_single_leg(ce_sl_time, end_dt, pe_scrip, sl=ut_sl, sl_price=ut_sl_price, with_ohlc=True, pl_with_slipage=False, orderside=orderside, from_candle_close=from_candle_close)\n",
    "\n",
    "            if ut_open:\n",
    "                ut_scrip = pe_scrip\n",
    "                TT_PL_at_SL = ce_pnl\n",
    "                UT_PL_at_SL = pe_price - ut_open - bt.Cal_slipage(pe_price)\n",
    "                \n",
    "                if (str(ut_sl) == 'TTC') and (ut_open > ut_sl_price):\n",
    "                    ut_sl_price = pe_sl_price\n",
    "                    ut_open, ut_high, ut_low, ut_close, ut_sl_price, ut_sl_flag, _, _, ut_sl_time, ut_pnl = bt.sl_check_single_leg(ce_sl_time, end_dt, pe_scrip, sl=ut_sl, sl_price=ut_sl_price, with_ohlc=True, pl_with_slipage=False, orderside=orderside, from_candle_close=from_candle_close)\n",
    "            else:\n",
    "                B_PL = ce_pnl + pe_pnl\n",
    "\n",
    "        elif pe_sl_time < ce_sl_time:\n",
    "            \n",
    "            ut_sl_price = ce_price if str(ut_sl) == 'TTC' else None\n",
    "            ut_open, ut_high, ut_low, ut_close, ut_sl_price, ut_sl_flag, _, _, ut_sl_time, ut_pnl = bt.sl_check_single_leg(pe_sl_time, end_dt, ce_scrip, sl=ut_sl, sl_price=ut_sl_price, with_ohlc=True, pl_with_slipage=False, orderside=orderside, from_candle_close=from_candle_close)\n",
    "\n",
    "            if ut_open:\n",
    "                ut_scrip = ce_scrip\n",
    "                TT_PL_at_SL = pe_pnl\n",
    "                UT_PL_at_SL = ce_price - ut_open - bt.Cal_slipage(ce_price)\n",
    "                \n",
    "                if (str(ut_sl) == 'TTC') and (ut_open > ut_sl_price):\n",
    "                    ut_sl_price = ce_sl_price\n",
    "                    ut_open, ut_high, ut_low, ut_close, ut_sl_price, ut_sl_flag, _, _, ut_sl_time, ut_pnl = bt.sl_check_single_leg(pe_sl_time, end_dt, ce_scrip, sl=ut_sl, sl_price=ut_sl_price, with_ohlc=True, pl_with_slipage=False, orderside=orderside, from_candle_close=from_candle_close)\n",
    "            else:\n",
    "                B_PL = ce_pnl + pe_pnl\n",
    "\n",
    "        else:\n",
    "            B_PL = ce_pnl + pe_pnl\n",
    "\n",
    "        ce_sl_time = '' if ce_sl_time == end_dt_1m else ce_sl_time\n",
    "        pe_sl_time = '' if pe_sl_time == end_dt_1m else pe_sl_time\n",
    "        ut_sl_time = '' if ut_sl_time == end_dt_1m else ut_sl_time\n",
    "\n",
    "        total_pnl = B_PL + TT_PL_at_SL + UT_PL_at_SL + ut_pnl\n",
    "        return [code, bt.index, start_time, end_time, orderside, method, sl, cv(ut_sl), om, bt.current_date.date(), bt.current_date.day_name(), bt.dte, entry_time.time(), future_price, ce_scrip, ce_open, ce_high, ce_low, ce_close, ce_sl_flag, ce_sl_time, ce_pnl, pe_scrip, pe_open, pe_high, pe_low, pe_close, pe_sl_flag, pe_sl_time, pe_pnl, ut_scrip, ut_open, ut_high, ut_low, ut_close, ut_sl_flag, ut_sl_time, B_PL, TT_PL_at_SL, UT_PL_at_SL, ut_pnl, total_pnl]\n",
    "    except Exception as e:\n",
    "        print(e, [bt.index, bt.current_date, start_time, end_time, orderside, method, sl, ut_sl, om])\n",
    "        return"
   ]
  },
  {
   "cell_type": "code",
   "execution_count": 3,
   "id": "3663d266",
   "metadata": {
    "scrolled": false
   },
   "outputs": [
    {
     "name": "stdout",
     "output_type": "stream",
     "text": [
      "Row-0 | File-NIFTY 2022-01-06 B120 | Total-4350\n",
      "B120_output/NIFTY 2022-01-06 B120 No-1.parquet\n"
     ]
    },
    {
     "name": "stderr",
     "output_type": "stream",
     "text": [
      "100%|\u001b[32m██████████\u001b[0m| 4350/4350 [00:03<00:00, 1345.30it/s]\n"
     ]
    },
    {
     "name": "stdout",
     "output_type": "stream",
     "text": [
      "Deleting instance ... 2022-01-06 00:00:00\n",
      "0:00:03.537382\n",
      "Row-0 | File-NIFTY 2022-01-13 B120 | Total-4350\n",
      "B120_output/NIFTY 2022-01-13 B120 No-1.parquet\n"
     ]
    },
    {
     "name": "stderr",
     "output_type": "stream",
     "text": [
      " 77%|\u001b[32m███████▋  \u001b[0m| 3328/4350 [00:01<00:00, 1742.59it/s]\n"
     ]
    },
    {
     "ename": "KeyboardInterrupt",
     "evalue": "",
     "output_type": "error",
     "traceback": [
      "\u001b[31m---------------------------------------------------------------------------\u001b[39m",
      "\u001b[31mKeyboardInterrupt\u001b[39m                         Traceback (most recent call last)",
      "\u001b[36mCell\u001b[39m\u001b[36m \u001b[39m\u001b[32mIn[3]\u001b[39m\u001b[32m, line 25\u001b[39m\n\u001b[32m     22\u001b[39m \u001b[38;5;28mprint\u001b[39m(chunck_file_name)\n\u001b[32m     24\u001b[39m chunk_parameter = parameter.iloc[i:i+chunk_size]\n\u001b[32m---> \u001b[39m\u001b[32m25\u001b[39m chunk = [\u001b[43mb120\u001b[49m\u001b[43m(\u001b[49m\u001b[43mbt\u001b[49m\u001b[43m,\u001b[49m\u001b[43m \u001b[49m\u001b[43mrow\u001b[49m\u001b[43m.\u001b[49m\u001b[43mentry_time\u001b[49m\u001b[43m,\u001b[49m\u001b[43m \u001b[49m\u001b[43mrow\u001b[49m\u001b[43m.\u001b[49m\u001b[43mexit_time\u001b[49m\u001b[43m,\u001b[49m\u001b[43m \u001b[49m\u001b[43mrow\u001b[49m\u001b[43m.\u001b[49m\u001b[43morderside\u001b[49m\u001b[43m,\u001b[49m\u001b[43m \u001b[49m\u001b[43mrow\u001b[49m\u001b[43m.\u001b[49m\u001b[43mmethod\u001b[49m\u001b[43m,\u001b[49m\u001b[43m \u001b[49m\u001b[43mrow\u001b[49m\u001b[43m.\u001b[49m\u001b[43msl\u001b[49m\u001b[43m,\u001b[49m\u001b[43m \u001b[49m\u001b[43mrow\u001b[49m\u001b[43m.\u001b[49m\u001b[43mut_sl\u001b[49m\u001b[43m,\u001b[49m\u001b[43m \u001b[49m\u001b[43mrow\u001b[49m\u001b[43m.\u001b[49m\u001b[43mom\u001b[49m\u001b[43m)\u001b[49m \u001b[38;5;28;01mfor\u001b[39;00m row \u001b[38;5;129;01min\u001b[39;00m tqdm(chunk_parameter.itertuples(), total=\u001b[38;5;28mlen\u001b[39m(chunk_parameter), colour=\u001b[33m'\u001b[39m\u001b[33mGREEN\u001b[39m\u001b[33m'\u001b[39m)]\n\u001b[32m     26\u001b[39m save_chunk_data(chunk, log_cols, chunck_file_name)\n\u001b[32m     28\u001b[39m \u001b[38;5;28;01mdel\u001b[39;00m chunk\n",
      "\u001b[36mCell\u001b[39m\u001b[36m \u001b[39m\u001b[32mIn[2]\u001b[39m\u001b[32m, line 25\u001b[39m, in \u001b[36mb120\u001b[39m\u001b[34m(bt, start_time, end_time, orderside, method, sl, ut_sl, om)\u001b[39m\n\u001b[32m     22\u001b[39m \u001b[38;5;28;01mif\u001b[39;00m ce_sl_time < pe_sl_time:\n\u001b[32m     24\u001b[39m     ut_sl_price = pe_price \u001b[38;5;28;01mif\u001b[39;00m \u001b[38;5;28mstr\u001b[39m(ut_sl) == \u001b[33m'\u001b[39m\u001b[33mTTC\u001b[39m\u001b[33m'\u001b[39m \u001b[38;5;28;01melse\u001b[39;00m \u001b[38;5;28;01mNone\u001b[39;00m\n\u001b[32m---> \u001b[39m\u001b[32m25\u001b[39m     ut_open, ut_high, ut_low, ut_close, ut_sl_price, ut_sl_flag, _, _, ut_sl_time, ut_pnl = \u001b[43mbt\u001b[49m\u001b[43m.\u001b[49m\u001b[43msl_check_single_leg\u001b[49m\u001b[43m(\u001b[49m\u001b[43mce_sl_time\u001b[49m\u001b[43m,\u001b[49m\u001b[43m \u001b[49m\u001b[43mend_dt\u001b[49m\u001b[43m,\u001b[49m\u001b[43m \u001b[49m\u001b[43mpe_scrip\u001b[49m\u001b[43m,\u001b[49m\u001b[43m \u001b[49m\u001b[43msl\u001b[49m\u001b[43m=\u001b[49m\u001b[43mut_sl\u001b[49m\u001b[43m,\u001b[49m\u001b[43m \u001b[49m\u001b[43msl_price\u001b[49m\u001b[43m=\u001b[49m\u001b[43mut_sl_price\u001b[49m\u001b[43m,\u001b[49m\u001b[43m \u001b[49m\u001b[43mwith_ohlc\u001b[49m\u001b[43m=\u001b[49m\u001b[38;5;28;43;01mTrue\u001b[39;49;00m\u001b[43m,\u001b[49m\u001b[43m \u001b[49m\u001b[43mpl_with_slipage\u001b[49m\u001b[43m=\u001b[49m\u001b[38;5;28;43;01mFalse\u001b[39;49;00m\u001b[43m,\u001b[49m\u001b[43m \u001b[49m\u001b[43morderside\u001b[49m\u001b[43m=\u001b[49m\u001b[43morderside\u001b[49m\u001b[43m,\u001b[49m\u001b[43m \u001b[49m\u001b[43mfrom_candle_close\u001b[49m\u001b[43m=\u001b[49m\u001b[43mfrom_candle_close\u001b[49m\u001b[43m)\u001b[49m\n\u001b[32m     27\u001b[39m     \u001b[38;5;28;01mif\u001b[39;00m ut_open:\n\u001b[32m     28\u001b[39m         ut_scrip = pe_scrip\n",
      "\u001b[36mFile \u001b[39m\u001b[32mc:\\Users\\Ajay\\AppData\\Local\\Programs\\Python\\Python312\\Lib\\site-packages\\pgcbacktest\\BacktestOptions.py:415\u001b[39m, in \u001b[36mIntradayBacktest._sl_check_single_leg\u001b[39m\u001b[34m(self, start_dt, end_dt, scrip, o, sl, intra_sl, sl_price, target_price, from_candle_close, orderside, from_next_minute, with_ohlc, pl_with_slipage, per_minute_mtm)\u001b[39m\n\u001b[32m    412\u001b[39m sl_flag, intra_sl_flag, target_flag, exit_time, pnl = \u001b[38;5;28;01mFalse\u001b[39;00m, \u001b[38;5;28;01mFalse\u001b[39;00m, \u001b[38;5;28;01mFalse\u001b[39;00m, \u001b[33m'\u001b[39m\u001b[33m'\u001b[39m, \u001b[32m0\u001b[39m\n\u001b[32m    414\u001b[39m \u001b[38;5;28;01mtry\u001b[39;00m:\n\u001b[32m--> \u001b[39m\u001b[32m415\u001b[39m     scrip_df = \u001b[38;5;28;43mself\u001b[39;49m\u001b[43m.\u001b[49m\u001b[43mget_single_leg_data\u001b[49m\u001b[43m(\u001b[49m\u001b[43mstart_dt\u001b[49m\u001b[43m,\u001b[49m\u001b[43m \u001b[49m\u001b[43mend_dt\u001b[49m\u001b[43m,\u001b[49m\u001b[43m \u001b[49m\u001b[43mscrip\u001b[49m\u001b[43m)\u001b[49m.copy()\n\u001b[32m    416\u001b[39m     \u001b[38;5;28;01mif\u001b[39;00m scrip_df.empty: \u001b[38;5;28;01mraise\u001b[39;00m DataEmptyError\n\u001b[32m    418\u001b[39m     o = scrip_df[\u001b[33m'\u001b[39m\u001b[33mclose\u001b[39m\u001b[33m'\u001b[39m].iloc[\u001b[32m0\u001b[39m] \u001b[38;5;28;01mif\u001b[39;00m o \u001b[38;5;129;01mis\u001b[39;00m \u001b[38;5;28;01mNone\u001b[39;00m \u001b[38;5;28;01melse\u001b[39;00m o\n",
      "\u001b[36mFile \u001b[39m\u001b[32mc:\\Users\\Ajay\\AppData\\Local\\Programs\\Python\\Python312\\Lib\\site-packages\\pgcbacktest\\BacktestOptions.py:106\u001b[39m, in \u001b[36mIntradayBacktest._get_single_leg_data\u001b[39m\u001b[34m(self, start_dt, end_dt, scrip)\u001b[39m\n\u001b[32m    105\u001b[39m \u001b[38;5;28;01mdef\u001b[39;00m\u001b[38;5;250m \u001b[39m\u001b[34m_get_single_leg_data\u001b[39m(\u001b[38;5;28mself\u001b[39m, start_dt, end_dt, scrip):\n\u001b[32m--> \u001b[39m\u001b[32m106\u001b[39m     data = \u001b[38;5;28mself\u001b[39m.options[(\u001b[38;5;28mself\u001b[39m.options.scrip == scrip) & (\u001b[38;5;28;43mself\u001b[39;49m\u001b[43m.\u001b[49m\u001b[43moptions\u001b[49m\u001b[43m[\u001b[49m\u001b[33;43m'\u001b[39;49m\u001b[33;43mdate_time\u001b[39;49m\u001b[33;43m'\u001b[39;49m\u001b[43m]\u001b[49m\u001b[43m \u001b[49m\u001b[43m>\u001b[49m\u001b[43m=\u001b[49m\u001b[43m \u001b[49m\u001b[43mstart_dt\u001b[49m) & (\u001b[38;5;28mself\u001b[39m.options[\u001b[33m'\u001b[39m\u001b[33mdate_time\u001b[39m\u001b[33m'\u001b[39m] <= end_dt)].copy()\n\u001b[32m    107\u001b[39m     \u001b[38;5;28;01mreturn\u001b[39;00m data.reset_index(drop=\u001b[38;5;28;01mTrue\u001b[39;00m)\n",
      "\u001b[36mFile \u001b[39m\u001b[32mc:\\Users\\Ajay\\AppData\\Local\\Programs\\Python\\Python312\\Lib\\site-packages\\pandas\\core\\ops\\common.py:76\u001b[39m, in \u001b[36m_unpack_zerodim_and_defer.<locals>.new_method\u001b[39m\u001b[34m(self, other)\u001b[39m\n\u001b[32m     72\u001b[39m             \u001b[38;5;28;01mreturn\u001b[39;00m \u001b[38;5;28mNotImplemented\u001b[39m\n\u001b[32m     74\u001b[39m other = item_from_zerodim(other)\n\u001b[32m---> \u001b[39m\u001b[32m76\u001b[39m \u001b[38;5;28;01mreturn\u001b[39;00m \u001b[43mmethod\u001b[49m\u001b[43m(\u001b[49m\u001b[38;5;28;43mself\u001b[39;49m\u001b[43m,\u001b[49m\u001b[43m \u001b[49m\u001b[43mother\u001b[49m\u001b[43m)\u001b[49m\n",
      "\u001b[36mFile \u001b[39m\u001b[32mc:\\Users\\Ajay\\AppData\\Local\\Programs\\Python\\Python312\\Lib\\site-packages\\pandas\\core\\arraylike.py:60\u001b[39m, in \u001b[36mOpsMixin.__ge__\u001b[39m\u001b[34m(self, other)\u001b[39m\n\u001b[32m     58\u001b[39m \u001b[38;5;129m@unpack_zerodim_and_defer\u001b[39m(\u001b[33m\"\u001b[39m\u001b[33m__ge__\u001b[39m\u001b[33m\"\u001b[39m)\n\u001b[32m     59\u001b[39m \u001b[38;5;28;01mdef\u001b[39;00m\u001b[38;5;250m \u001b[39m\u001b[34m__ge__\u001b[39m(\u001b[38;5;28mself\u001b[39m, other):\n\u001b[32m---> \u001b[39m\u001b[32m60\u001b[39m     \u001b[38;5;28;01mreturn\u001b[39;00m \u001b[38;5;28;43mself\u001b[39;49m\u001b[43m.\u001b[49m\u001b[43m_cmp_method\u001b[49m\u001b[43m(\u001b[49m\u001b[43mother\u001b[49m\u001b[43m,\u001b[49m\u001b[43m \u001b[49m\u001b[43moperator\u001b[49m\u001b[43m.\u001b[49m\u001b[43mge\u001b[49m\u001b[43m)\u001b[49m\n",
      "\u001b[36mFile \u001b[39m\u001b[32mc:\\Users\\Ajay\\AppData\\Local\\Programs\\Python\\Python312\\Lib\\site-packages\\pandas\\core\\series.py:6130\u001b[39m, in \u001b[36mSeries._cmp_method\u001b[39m\u001b[34m(self, other, op)\u001b[39m\n\u001b[32m   6127\u001b[39m lvalues = \u001b[38;5;28mself\u001b[39m._values\n\u001b[32m   6128\u001b[39m rvalues = extract_array(other, extract_numpy=\u001b[38;5;28;01mTrue\u001b[39;00m, extract_range=\u001b[38;5;28;01mTrue\u001b[39;00m)\n\u001b[32m-> \u001b[39m\u001b[32m6130\u001b[39m res_values = \u001b[43mops\u001b[49m\u001b[43m.\u001b[49m\u001b[43mcomparison_op\u001b[49m\u001b[43m(\u001b[49m\u001b[43mlvalues\u001b[49m\u001b[43m,\u001b[49m\u001b[43m \u001b[49m\u001b[43mrvalues\u001b[49m\u001b[43m,\u001b[49m\u001b[43m \u001b[49m\u001b[43mop\u001b[49m\u001b[43m)\u001b[49m\n\u001b[32m   6132\u001b[39m \u001b[38;5;28;01mreturn\u001b[39;00m \u001b[38;5;28mself\u001b[39m._construct_result(res_values, name=res_name)\n",
      "\u001b[36mFile \u001b[39m\u001b[32mc:\\Users\\Ajay\\AppData\\Local\\Programs\\Python\\Python312\\Lib\\site-packages\\pandas\\core\\ops\\array_ops.py:330\u001b[39m, in \u001b[36mcomparison_op\u001b[39m\u001b[34m(left, right, op)\u001b[39m\n\u001b[32m    321\u001b[39m         \u001b[38;5;28;01mraise\u001b[39;00m \u001b[38;5;167;01mValueError\u001b[39;00m(\n\u001b[32m    322\u001b[39m             \u001b[33m\"\u001b[39m\u001b[33mLengths must match to compare\u001b[39m\u001b[33m\"\u001b[39m, lvalues.shape, rvalues.shape\n\u001b[32m    323\u001b[39m         )\n\u001b[32m    325\u001b[39m \u001b[38;5;28;01mif\u001b[39;00m should_extension_dispatch(lvalues, rvalues) \u001b[38;5;129;01mor\u001b[39;00m (\n\u001b[32m    326\u001b[39m     (\u001b[38;5;28misinstance\u001b[39m(rvalues, (Timedelta, BaseOffset, Timestamp)) \u001b[38;5;129;01mor\u001b[39;00m right \u001b[38;5;129;01mis\u001b[39;00m NaT)\n\u001b[32m    327\u001b[39m     \u001b[38;5;129;01mand\u001b[39;00m lvalues.dtype != \u001b[38;5;28mobject\u001b[39m\n\u001b[32m    328\u001b[39m ):\n\u001b[32m    329\u001b[39m     \u001b[38;5;66;03m# Call the method on lvalues\u001b[39;00m\n\u001b[32m--> \u001b[39m\u001b[32m330\u001b[39m     res_values = \u001b[43mop\u001b[49m\u001b[43m(\u001b[49m\u001b[43mlvalues\u001b[49m\u001b[43m,\u001b[49m\u001b[43m \u001b[49m\u001b[43mrvalues\u001b[49m\u001b[43m)\u001b[49m\n\u001b[32m    332\u001b[39m \u001b[38;5;28;01melif\u001b[39;00m is_scalar(rvalues) \u001b[38;5;129;01mand\u001b[39;00m isna(rvalues):  \u001b[38;5;66;03m# TODO: but not pd.NA?\u001b[39;00m\n\u001b[32m    333\u001b[39m     \u001b[38;5;66;03m# numpy does not like comparisons vs None\u001b[39;00m\n\u001b[32m    334\u001b[39m     \u001b[38;5;28;01mif\u001b[39;00m op \u001b[38;5;129;01mis\u001b[39;00m operator.ne:\n",
      "\u001b[36mFile \u001b[39m\u001b[32mc:\\Users\\Ajay\\AppData\\Local\\Programs\\Python\\Python312\\Lib\\site-packages\\pandas\\core\\ops\\common.py:76\u001b[39m, in \u001b[36m_unpack_zerodim_and_defer.<locals>.new_method\u001b[39m\u001b[34m(self, other)\u001b[39m\n\u001b[32m     72\u001b[39m             \u001b[38;5;28;01mreturn\u001b[39;00m \u001b[38;5;28mNotImplemented\u001b[39m\n\u001b[32m     74\u001b[39m other = item_from_zerodim(other)\n\u001b[32m---> \u001b[39m\u001b[32m76\u001b[39m \u001b[38;5;28;01mreturn\u001b[39;00m \u001b[43mmethod\u001b[49m\u001b[43m(\u001b[49m\u001b[38;5;28;43mself\u001b[39;49m\u001b[43m,\u001b[49m\u001b[43m \u001b[49m\u001b[43mother\u001b[49m\u001b[43m)\u001b[49m\n",
      "\u001b[36mFile \u001b[39m\u001b[32mc:\\Users\\Ajay\\AppData\\Local\\Programs\\Python\\Python312\\Lib\\site-packages\\pandas\\core\\arraylike.py:60\u001b[39m, in \u001b[36mOpsMixin.__ge__\u001b[39m\u001b[34m(self, other)\u001b[39m\n\u001b[32m     58\u001b[39m \u001b[38;5;129m@unpack_zerodim_and_defer\u001b[39m(\u001b[33m\"\u001b[39m\u001b[33m__ge__\u001b[39m\u001b[33m\"\u001b[39m)\n\u001b[32m     59\u001b[39m \u001b[38;5;28;01mdef\u001b[39;00m\u001b[38;5;250m \u001b[39m\u001b[34m__ge__\u001b[39m(\u001b[38;5;28mself\u001b[39m, other):\n\u001b[32m---> \u001b[39m\u001b[32m60\u001b[39m     \u001b[38;5;28;01mreturn\u001b[39;00m \u001b[38;5;28;43mself\u001b[39;49m\u001b[43m.\u001b[49m\u001b[43m_cmp_method\u001b[49m\u001b[43m(\u001b[49m\u001b[43mother\u001b[49m\u001b[43m,\u001b[49m\u001b[43m \u001b[49m\u001b[43moperator\u001b[49m\u001b[43m.\u001b[49m\u001b[43mge\u001b[49m\u001b[43m)\u001b[49m\n",
      "\u001b[36mFile \u001b[39m\u001b[32mc:\\Users\\Ajay\\AppData\\Local\\Programs\\Python\\Python312\\Lib\\site-packages\\pandas\\core\\arrays\\datetimelike.py:1049\u001b[39m, in \u001b[36mDatetimeLikeArrayMixin._cmp_method\u001b[39m\u001b[34m(self, other, op)\u001b[39m\n\u001b[32m   1047\u001b[39m o_mask = isna(other)\n\u001b[32m   1048\u001b[39m mask = \u001b[38;5;28mself\u001b[39m._isnan | o_mask\n\u001b[32m-> \u001b[39m\u001b[32m1049\u001b[39m \u001b[38;5;28;01mif\u001b[39;00m \u001b[43mmask\u001b[49m\u001b[43m.\u001b[49m\u001b[43many\u001b[49m\u001b[43m(\u001b[49m\u001b[43m)\u001b[49m:\n\u001b[32m   1050\u001b[39m     nat_result = op \u001b[38;5;129;01mis\u001b[39;00m operator.ne\n\u001b[32m   1051\u001b[39m     np.putmask(result, mask, nat_result)\n",
      "\u001b[36mFile \u001b[39m\u001b[32mc:\\Users\\Ajay\\AppData\\Local\\Programs\\Python\\Python312\\Lib\\site-packages\\numpy\\_core\\_methods.py:58\u001b[39m, in \u001b[36m_any\u001b[39m\u001b[34m(a, axis, dtype, out, keepdims, where)\u001b[39m\n\u001b[32m     54\u001b[39m \u001b[38;5;28;01mdef\u001b[39;00m\u001b[38;5;250m \u001b[39m\u001b[34m_prod\u001b[39m(a, axis=\u001b[38;5;28;01mNone\u001b[39;00m, dtype=\u001b[38;5;28;01mNone\u001b[39;00m, out=\u001b[38;5;28;01mNone\u001b[39;00m, keepdims=\u001b[38;5;28;01mFalse\u001b[39;00m,\n\u001b[32m     55\u001b[39m           initial=_NoValue, where=\u001b[38;5;28;01mTrue\u001b[39;00m):\n\u001b[32m     56\u001b[39m     \u001b[38;5;28;01mreturn\u001b[39;00m umr_prod(a, axis, dtype, out, keepdims, initial, where)\n\u001b[32m---> \u001b[39m\u001b[32m58\u001b[39m \u001b[38;5;28;01mdef\u001b[39;00m\u001b[38;5;250m \u001b[39m\u001b[34m_any\u001b[39m(a, axis=\u001b[38;5;28;01mNone\u001b[39;00m, dtype=\u001b[38;5;28;01mNone\u001b[39;00m, out=\u001b[38;5;28;01mNone\u001b[39;00m, keepdims=\u001b[38;5;28;01mFalse\u001b[39;00m, *, where=\u001b[38;5;28;01mTrue\u001b[39;00m):\n\u001b[32m     59\u001b[39m     \u001b[38;5;66;03m# By default, return a boolean for any and all\u001b[39;00m\n\u001b[32m     60\u001b[39m     \u001b[38;5;28;01mif\u001b[39;00m dtype \u001b[38;5;129;01mis\u001b[39;00m \u001b[38;5;28;01mNone\u001b[39;00m:\n\u001b[32m     61\u001b[39m         dtype = bool_dt\n",
      "\u001b[31mKeyboardInterrupt\u001b[39m: "
     ]
    }
   ],
   "source": [
    "for row_idx in range(len(meta_data)):\n",
    "\n",
    "    if row_idx in meta_row_nos and meta_data.loc[row_idx, 'run']:\n",
    "        try:\n",
    "            meta_row = meta_data.iloc[row_idx]\n",
    "            index, dte, from_date, to_date, start_time, end_time, date_lists = get_meta_row_data(meta_row, pickle_path)\n",
    "\n",
    "            log_cols = ('P_Strategy/P_Index/P_StartTime/P_EndTime/P_OrderSide/P_Method/P_SL/P_UTSL/P_OM/Date/Day/DTE/EntryTime/Future/CE.Strike/CE.Open/CE.High/CE.Low/CE.Close/CE.SL.Flag/CE.SL.Time/CE.PNL/PE.Strike/PE.Open/PE.High/PE.Low/PE.Close/PE.SL.Flag/PE.SL.Time/PE.PNL/UT.Strike/UT.Open/UT.High/UT.Low/UT.Close/UT.SL.Flag/UT.SL.Time/BPL/TT.PL.AT.SL/UT.PL.AT.SL/UT.PNL/Total.PNL').split('/')\n",
    "\n",
    "            for current_date in date_lists:\n",
    "\n",
    "                file_name = f\"{index} {current_date.date()} {code}\"\n",
    "                if not is_file_exists(output_csv_path, file_name, parameter_len):\n",
    "\n",
    "                    t1 = datetime.datetime.now()\n",
    "                    print(f\"Row-{row_idx} | File-{file_name} | Total-{parameter_len}\")\n",
    "\n",
    "                    bt = IntradayBacktest(pickle_path, index, current_date, dte, start_time, end_time)\n",
    "                    \n",
    "                    for idx, i in enumerate(range(0, parameter_len, chunk_size), start=1):\n",
    "                        chunck_file_name = f\"{output_csv_path}{file_name} No-{idx}.parquet\"\n",
    "                        print(chunck_file_name)\n",
    "\n",
    "                        chunk_parameter = parameter.iloc[i:i+chunk_size]\n",
    "                        chunk = [b120(bt, row.entry_time, row.exit_time, row.orderside, row.method, row.sl, row.ut_sl, row.om) for row in tqdm(chunk_parameter.itertuples(), total=len(chunk_parameter), colour='GREEN')]\n",
    "                        save_chunk_data(chunk, log_cols, chunck_file_name)\n",
    "                        \n",
    "                        del chunk\n",
    "                        del chunk_parameter\n",
    "                        gc.collect()\n",
    "\n",
    "                    del bt\n",
    "                    gc.collect()\n",
    "                    \n",
    "                    t2 = datetime.datetime.now()\n",
    "                    print(t2-t1)\n",
    "        except Exception as e:\n",
    "            input(str(e))"
   ]
  },
  {
   "cell_type": "code",
   "execution_count": 12,
   "id": "987c0ed2",
   "metadata": {},
   "outputs": [
    {
     "name": "stderr",
     "output_type": "stream",
     "text": [
      "0it [00:00, ?it/s]\n"
     ]
    }
   ],
   "source": [
    "for row in tqdm(chunk_parameter.itertuples()):\n",
    "    break"
   ]
  },
  {
   "cell_type": "code",
   "execution_count": null,
   "id": "37bd689a",
   "metadata": {},
   "outputs": [],
   "source": []
  }
 ],
 "metadata": {
  "kernelspec": {
   "display_name": "Python 3",
   "language": "python",
   "name": "python3"
  },
  "language_info": {
   "codemirror_mode": {
    "name": "ipython",
    "version": 3
   },
   "file_extension": ".py",
   "mimetype": "text/x-python",
   "name": "python",
   "nbconvert_exporter": "python",
   "pygments_lexer": "ipython3",
   "version": "3.12.10"
  }
 },
 "nbformat": 4,
 "nbformat_minor": 5
}
